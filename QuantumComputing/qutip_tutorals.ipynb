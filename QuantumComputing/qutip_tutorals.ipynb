{
 "cells": [
  {
   "cell_type": "code",
   "execution_count": 8,
   "id": "9d9d5f03-27cd-432a-a1a9-1739d76fbb61",
   "metadata": {},
   "outputs": [
    {
     "name": "stdout",
     "output_type": "stream",
     "text": [
      "Requirement already satisfied: pip in ./env2/lib/python3.8/site-packages (21.0.1)\n",
      "Requirement already satisfied: tensorflow in ./env2/lib/python3.8/site-packages (2.3.1)\n",
      "Requirement already satisfied: absl-py>=0.7.0 in ./env2/lib/python3.8/site-packages (from tensorflow) (0.12.0)\n",
      "Requirement already satisfied: google-pasta>=0.1.8 in ./env2/lib/python3.8/site-packages (from tensorflow) (0.2.0)\n",
      "Requirement already satisfied: tensorflow-estimator<2.4.0,>=2.3.0 in ./env2/lib/python3.8/site-packages (from tensorflow) (2.3.0)\n",
      "Requirement already satisfied: protobuf>=3.9.2 in ./env2/lib/python3.8/site-packages (from tensorflow) (3.12.4)\n",
      "Requirement already satisfied: gast==0.3.3 in ./env2/lib/python3.8/site-packages (from tensorflow) (0.3.3)\n",
      "Requirement already satisfied: astunparse==1.6.3 in ./env2/lib/python3.8/site-packages (from tensorflow) (1.6.3)\n",
      "Requirement already satisfied: opt-einsum>=2.3.2 in ./env2/lib/python3.8/site-packages (from tensorflow) (3.3.0)\n",
      "Requirement already satisfied: wheel>=0.26 in ./env2/lib/python3.8/site-packages (from tensorflow) (0.34.2)\n",
      "Requirement already satisfied: six>=1.12.0 in ./env2/lib/python3.8/site-packages (from tensorflow) (1.14.0)\n",
      "Requirement already satisfied: wrapt>=1.11.1 in ./env2/lib/python3.8/site-packages (from tensorflow) (1.12.1)\n",
      "Requirement already satisfied: grpcio>=1.8.6 in ./env2/lib/python3.8/site-packages (from tensorflow) (1.30.0)\n",
      "Requirement already satisfied: keras-preprocessing<1.2,>=1.1.1 in ./env2/lib/python3.8/site-packages (from tensorflow) (1.1.2)\n",
      "Requirement already satisfied: termcolor>=1.1.0 in ./env2/lib/python3.8/site-packages (from tensorflow) (1.1.0)\n",
      "Requirement already satisfied: tensorboard<3,>=2.3.0 in ./env2/lib/python3.8/site-packages (from tensorflow) (2.4.1)\n",
      "Requirement already satisfied: numpy<1.19.0,>=1.16.0 in ./env2/lib/python3.8/site-packages (from tensorflow) (1.18.5)\n",
      "Requirement already satisfied: h5py<2.11.0,>=2.10.0 in ./env2/lib/python3.8/site-packages (from tensorflow) (2.10.0)\n",
      "Requirement already satisfied: setuptools in ./env2/lib/python3.8/site-packages (from protobuf>=3.9.2->tensorflow) (44.0.0)\n",
      "Requirement already satisfied: google-auth-oauthlib<0.5,>=0.4.1 in ./env2/lib/python3.8/site-packages (from tensorboard<3,>=2.3.0->tensorflow) (0.4.4)\n",
      "Requirement already satisfied: google-auth<2,>=1.6.3 in ./env2/lib/python3.8/site-packages (from tensorboard<3,>=2.3.0->tensorflow) (1.18.0)\n",
      "Requirement already satisfied: werkzeug>=0.11.15 in ./env2/lib/python3.8/site-packages (from tensorboard<3,>=2.3.0->tensorflow) (1.0.1)\n",
      "Requirement already satisfied: tensorboard-plugin-wit>=1.6.0 in ./env2/lib/python3.8/site-packages (from tensorboard<3,>=2.3.0->tensorflow) (1.8.0)\n",
      "Requirement already satisfied: requests<3,>=2.21.0 in ./env2/lib/python3.8/site-packages (from tensorboard<3,>=2.3.0->tensorflow) (2.22.0)\n",
      "Requirement already satisfied: markdown>=2.6.8 in ./env2/lib/python3.8/site-packages (from tensorboard<3,>=2.3.0->tensorflow) (3.3.4)\n",
      "Requirement already satisfied: cachetools<5.0,>=2.0.0 in ./env2/lib/python3.8/site-packages (from google-auth<2,>=1.6.3->tensorboard<3,>=2.3.0->tensorflow) (4.2.1)\n",
      "Requirement already satisfied: rsa<5,>=3.1.4 in ./env2/lib/python3.8/site-packages (from google-auth<2,>=1.6.3->tensorboard<3,>=2.3.0->tensorflow) (4.7.2)\n",
      "Requirement already satisfied: pyasn1-modules>=0.2.1 in ./env2/lib/python3.8/site-packages (from google-auth<2,>=1.6.3->tensorboard<3,>=2.3.0->tensorflow) (0.2.8)\n",
      "Requirement already satisfied: requests-oauthlib>=0.7.0 in ./env2/lib/python3.8/site-packages (from google-auth-oauthlib<0.5,>=0.4.1->tensorboard<3,>=2.3.0->tensorflow) (1.3.0)\n",
      "Requirement already satisfied: pyasn1<0.5.0,>=0.4.6 in ./env2/lib/python3.8/site-packages (from pyasn1-modules>=0.2.1->google-auth<2,>=1.6.3->tensorboard<3,>=2.3.0->tensorflow) (0.4.8)\n",
      "Requirement already satisfied: oauthlib>=3.0.0 in ./env2/lib/python3.8/site-packages (from requests-oauthlib>=0.7.0->google-auth-oauthlib<0.5,>=0.4.1->tensorboard<3,>=2.3.0->tensorflow) (3.1.0)\n",
      "Requirement already satisfied: tensorflow-quantum in ./env2/lib/python3.8/site-packages (0.4.0)\n",
      "Requirement already satisfied: cirq==0.9.1 in ./env2/lib/python3.8/site-packages (from tensorflow-quantum) (0.9.1)\n",
      "Requirement already satisfied: sympy==1.5 in ./env2/lib/python3.8/site-packages (from tensorflow-quantum) (1.5)\n",
      "Requirement already satisfied: scipy in ./env2/lib/python3.8/site-packages (from cirq==0.9.1->tensorflow-quantum) (1.6.2)\n",
      "Requirement already satisfied: pandas in ./env2/lib/python3.8/site-packages (from cirq==0.9.1->tensorflow-quantum) (1.2.3)\n",
      "Requirement already satisfied: freezegun~=0.3.15 in ./env2/lib/python3.8/site-packages (from cirq==0.9.1->tensorflow-quantum) (0.3.15)\n",
      "Requirement already satisfied: sortedcontainers~=2.0 in ./env2/lib/python3.8/site-packages (from cirq==0.9.1->tensorflow-quantum) (2.3.0)\n",
      "Requirement already satisfied: typing-extensions in ./env2/lib/python3.8/site-packages (from cirq==0.9.1->tensorflow-quantum) (3.7.4.3)\n",
      "Requirement already satisfied: protobuf~=3.12.0 in ./env2/lib/python3.8/site-packages (from cirq==0.9.1->tensorflow-quantum) (3.12.4)\n",
      "Requirement already satisfied: networkx~=2.4 in ./env2/lib/python3.8/site-packages (from cirq==0.9.1->tensorflow-quantum) (2.5.1)\n",
      "Requirement already satisfied: matplotlib~=3.0 in ./env2/lib/python3.8/site-packages (from cirq==0.9.1->tensorflow-quantum) (3.4.1)\n",
      "Requirement already satisfied: numpy~=1.16 in ./env2/lib/python3.8/site-packages (from cirq==0.9.1->tensorflow-quantum) (1.18.5)\n",
      "Requirement already satisfied: requests~=2.18 in ./env2/lib/python3.8/site-packages (from cirq==0.9.1->tensorflow-quantum) (2.22.0)\n",
      "Requirement already satisfied: google-api-core[grpc]<2.0.0dev,>=1.14.0 in ./env2/lib/python3.8/site-packages (from cirq==0.9.1->tensorflow-quantum) (1.21.0)\n",
      "Requirement already satisfied: mpmath>=0.19 in ./env2/lib/python3.8/site-packages (from sympy==1.5->tensorflow-quantum) (1.2.1)\n",
      "Requirement already satisfied: python-dateutil!=2.0,>=1.0 in ./env2/lib/python3.8/site-packages (from freezegun~=0.3.15->cirq==0.9.1->tensorflow-quantum) (2.8.1)\n",
      "Requirement already satisfied: six in ./env2/lib/python3.8/site-packages (from freezegun~=0.3.15->cirq==0.9.1->tensorflow-quantum) (1.14.0)\n",
      "Requirement already satisfied: google-auth<2.0dev,>=1.18.0 in ./env2/lib/python3.8/site-packages (from google-api-core[grpc]<2.0.0dev,>=1.14.0->cirq==0.9.1->tensorflow-quantum) (1.18.0)\n",
      "Requirement already satisfied: googleapis-common-protos<2.0dev,>=1.6.0 in ./env2/lib/python3.8/site-packages (from google-api-core[grpc]<2.0.0dev,>=1.14.0->cirq==0.9.1->tensorflow-quantum) (1.52.0)\n",
      "Requirement already satisfied: pytz in ./env2/lib/python3.8/site-packages (from google-api-core[grpc]<2.0.0dev,>=1.14.0->cirq==0.9.1->tensorflow-quantum) (2021.1)\n",
      "Requirement already satisfied: setuptools>=34.0.0 in ./env2/lib/python3.8/site-packages (from google-api-core[grpc]<2.0.0dev,>=1.14.0->cirq==0.9.1->tensorflow-quantum) (44.0.0)\n",
      "Requirement already satisfied: grpcio<2.0dev,>=1.29.0 in ./env2/lib/python3.8/site-packages (from google-api-core[grpc]<2.0.0dev,>=1.14.0->cirq==0.9.1->tensorflow-quantum) (1.30.0)\n",
      "Requirement already satisfied: cachetools<5.0,>=2.0.0 in ./env2/lib/python3.8/site-packages (from google-auth<2.0dev,>=1.18.0->google-api-core[grpc]<2.0.0dev,>=1.14.0->cirq==0.9.1->tensorflow-quantum) (4.2.1)\n",
      "Requirement already satisfied: rsa<5,>=3.1.4 in ./env2/lib/python3.8/site-packages (from google-auth<2.0dev,>=1.18.0->google-api-core[grpc]<2.0.0dev,>=1.14.0->cirq==0.9.1->tensorflow-quantum) (4.7.2)\n",
      "Requirement already satisfied: pyasn1-modules>=0.2.1 in ./env2/lib/python3.8/site-packages (from google-auth<2.0dev,>=1.18.0->google-api-core[grpc]<2.0.0dev,>=1.14.0->cirq==0.9.1->tensorflow-quantum) (0.2.8)\n",
      "Requirement already satisfied: pyparsing>=2.2.1 in ./env2/lib/python3.8/site-packages (from matplotlib~=3.0->cirq==0.9.1->tensorflow-quantum) (2.4.6)\n",
      "Requirement already satisfied: pillow>=6.2.0 in ./env2/lib/python3.8/site-packages (from matplotlib~=3.0->cirq==0.9.1->tensorflow-quantum) (8.1.2)\n",
      "Requirement already satisfied: kiwisolver>=1.0.1 in ./env2/lib/python3.8/site-packages (from matplotlib~=3.0->cirq==0.9.1->tensorflow-quantum) (1.3.1)\n",
      "Requirement already satisfied: cycler>=0.10 in ./env2/lib/python3.8/site-packages (from matplotlib~=3.0->cirq==0.9.1->tensorflow-quantum) (0.10.0)\n",
      "Requirement already satisfied: decorator<5,>=4.3 in ./env2/lib/python3.8/site-packages (from networkx~=2.4->cirq==0.9.1->tensorflow-quantum) (4.4.2)\n",
      "Requirement already satisfied: pyasn1<0.5.0,>=0.4.6 in ./env2/lib/python3.8/site-packages (from pyasn1-modules>=0.2.1->google-auth<2.0dev,>=1.18.0->google-api-core[grpc]<2.0.0dev,>=1.14.0->cirq==0.9.1->tensorflow-quantum) (0.4.8)\n"
     ]
    }
   ],
   "source": [
    "!pip install --upgrade pip\n",
    "!pip install tensorflow\n",
    "!pip install -q tensorflow==2.3.1\n",
    "!pip install tensorflow-quantum"
   ]
  },
  {
   "cell_type": "code",
   "execution_count": 4,
   "id": "145f4d3f-7938-4a8b-905b-6bcf60fd5bcd",
   "metadata": {},
   "outputs": [
    {
     "name": "stdout",
     "output_type": "stream",
     "text": [
      "Collecting qiskit\n",
      "  Using cached qiskit-0.25.1.tar.gz (4.5 kB)\n",
      "Collecting qiskit-aer==0.8.1\n",
      "  Using cached qiskit_aer-0.8.1-cp38-cp38-manylinux2010_x86_64.whl (17.9 MB)\n",
      "Collecting qiskit-aqua==0.9.1\n",
      "  Using cached qiskit_aqua-0.9.1-py3-none-any.whl (2.1 MB)\n",
      "Collecting qiskit-ibmq-provider==0.12.2\n",
      "  Using cached qiskit_ibmq_provider-0.12.2-py3-none-any.whl (198 kB)\n",
      "Collecting qiskit-ignis==0.6.0\n",
      "  Using cached qiskit_ignis-0.6.0-py3-none-any.whl (207 kB)\n",
      "Collecting qiskit-terra==0.17.1\n",
      "  Using cached qiskit_terra-0.17.1-cp38-cp38-manylinux2010_x86_64.whl (6.1 MB)\n",
      "Requirement already satisfied: numpy>=1.16.3 in ./env2/lib/python3.8/site-packages (from qiskit-aer==0.8.1->qiskit) (1.18.5)\n",
      "Collecting pybind11>=2.6\n",
      "  Using cached pybind11-2.6.2-py2.py3-none-any.whl (191 kB)\n",
      "Requirement already satisfied: scipy>=1.0 in ./env2/lib/python3.8/site-packages (from qiskit-aer==0.8.1->qiskit) (1.6.2)\n",
      "Collecting docplex<=2.20.204\n",
      "  Using cached docplex-2.20.204.tar.gz (611 kB)\n",
      "Requirement already satisfied: sympy<=1.7.1,>=1.3 in ./env2/lib/python3.8/site-packages (from qiskit-aqua==0.9.1->qiskit) (1.5)\n",
      "Collecting retworkx<=0.8.0,>=0.7.0\n",
      "  Using cached retworkx-0.8.0-cp38-cp38-manylinux2010_x86_64.whl (1.0 MB)\n",
      "Collecting dlx<=1.0.4\n",
      "  Downloading dlx-1.0.4.tar.gz (5.5 kB)\n",
      "Collecting quandl<=3.6.0\n",
      "  Downloading Quandl-3.6.0-py2.py3-none-any.whl (26 kB)\n",
      "Collecting fastdtw<=0.3.4\n",
      "  Using cached fastdtw-0.3.4.tar.gz (133 kB)\n",
      "Requirement already satisfied: pandas<=1.2.3 in ./env2/lib/python3.8/site-packages (from qiskit-aqua==0.9.1->qiskit) (1.2.3)\n",
      "Collecting scikit-learn<=0.24.1,>=0.20.0\n",
      "  Downloading scikit_learn-0.24.1-cp38-cp38-manylinux2010_x86_64.whl (24.9 MB)\n",
      "\u001b[K     |████████████████████████████████| 24.9 MB 54 kB/s eta 0:00:016\n",
      "\u001b[?25hRequirement already satisfied: setuptools>=40.1.0 in ./env2/lib/python3.8/site-packages (from qiskit-aqua==0.9.1->qiskit) (44.0.0)\n",
      "Collecting yfinance<=0.1.55\n",
      "  Using cached yfinance-0.1.55.tar.gz (23 kB)\n",
      "Collecting psutil<=5.8.0,>=5\n",
      "  Using cached psutil-5.8.0-cp38-cp38-manylinux2010_x86_64.whl (296 kB)\n",
      "Requirement already satisfied: h5py<=3.1.0 in ./env2/lib/python3.8/site-packages (from qiskit-aqua==0.9.1->qiskit) (2.10.0)\n",
      "Collecting scipy>=1.0\n",
      "  Downloading scipy-1.6.1-cp38-cp38-manylinux1_x86_64.whl (27.3 MB)\n",
      "\u001b[K     |████████████████████████████████| 27.3 MB 13 kB/s eta 0:00:012\n",
      "\u001b[?25hCollecting requests-ntlm>=1.1.0\n",
      "  Downloading requests_ntlm-1.1.0-py2.py3-none-any.whl (5.7 kB)\n",
      "Requirement already satisfied: requests>=2.19 in ./env2/lib/python3.8/site-packages (from qiskit-ibmq-provider==0.12.2->qiskit) (2.22.0)\n",
      "Requirement already satisfied: urllib3>=1.21.1 in ./env2/lib/python3.8/site-packages (from qiskit-ibmq-provider==0.12.2->qiskit) (1.25.8)\n",
      "Collecting websockets>=8\n",
      "  Downloading websockets-8.1-cp38-cp38-manylinux2010_x86_64.whl (78 kB)\n",
      "\u001b[K     |████████████████████████████████| 78 kB 27 kB/s eta 0:00:01\n",
      "\u001b[?25hRequirement already satisfied: python-dateutil>=2.8.0 in ./env2/lib/python3.8/site-packages (from qiskit-ibmq-provider==0.12.2->qiskit) (2.8.1)\n",
      "Requirement already satisfied: nest-asyncio!=1.1.0,>=1.0.0 in ./env2/lib/python3.8/site-packages (from qiskit-ibmq-provider==0.12.2->qiskit) (1.5.1)\n",
      "Collecting ply>=3.10\n",
      "  Using cached ply-3.11-py2.py3-none-any.whl (49 kB)\n",
      "Requirement already satisfied: jsonschema>=2.6 in ./env2/lib/python3.8/site-packages (from qiskit-terra==0.17.1->qiskit) (3.2.0)\n",
      "Collecting dill>=0.3\n",
      "  Using cached dill-0.3.3-py2.py3-none-any.whl (81 kB)\n",
      "Collecting fastjsonschema>=2.10\n",
      "  Downloading fastjsonschema-2.15.0-py3-none-any.whl (21 kB)\n",
      "Collecting python-constraint>=1.4\n",
      "  Downloading python-constraint-1.4.0.tar.bz2 (18 kB)\n",
      "Requirement already satisfied: six in ./env2/lib/python3.8/site-packages (from docplex<=2.20.204->qiskit-aqua==0.9.1->qiskit) (1.14.0)\n",
      "Requirement already satisfied: attrs>=17.4.0 in ./env2/lib/python3.8/site-packages (from jsonschema>=2.6->qiskit-terra==0.17.1->qiskit) (20.3.0)\n",
      "Requirement already satisfied: pyrsistent>=0.14.0 in ./env2/lib/python3.8/site-packages (from jsonschema>=2.6->qiskit-terra==0.17.1->qiskit) (0.17.3)\n",
      "Requirement already satisfied: pytz>=2017.3 in ./env2/lib/python3.8/site-packages (from pandas<=1.2.3->qiskit-aqua==0.9.1->qiskit) (2021.1)\n",
      "Collecting more-itertools\n",
      "  Downloading more_itertools-8.7.0-py3-none-any.whl (48 kB)\n",
      "\u001b[K     |████████████████████████████████| 48 kB 29 kB/s eta 0:00:01\n",
      "\u001b[?25hCollecting inflection>=0.3.1\n",
      "  Downloading inflection-0.5.1-py2.py3-none-any.whl (9.5 kB)\n",
      "Collecting ntlm-auth>=1.0.2\n",
      "  Downloading ntlm_auth-1.5.0-py2.py3-none-any.whl (29 kB)\n",
      "Collecting cryptography>=1.3\n",
      "  Downloading cryptography-3.4.7-cp36-abi3-manylinux2014_x86_64.whl (3.2 MB)\n",
      "\u001b[K     |████████████████████████████████| 3.2 MB 23 kB/s eta 0:00:011\n",
      "\u001b[?25hRequirement already satisfied: cffi>=1.12 in ./env2/lib/python3.8/site-packages (from cryptography>=1.3->requests-ntlm>=1.1.0->qiskit-ibmq-provider==0.12.2->qiskit) (1.14.5)\n",
      "Requirement already satisfied: pycparser in ./env2/lib/python3.8/site-packages (from cffi>=1.12->cryptography>=1.3->requests-ntlm>=1.1.0->qiskit-ibmq-provider==0.12.2->qiskit) (2.20)\n",
      "Collecting threadpoolctl>=2.0.0\n",
      "  Using cached threadpoolctl-2.1.0-py3-none-any.whl (12 kB)\n",
      "Collecting joblib>=0.11\n",
      "  Using cached joblib-1.0.1-py3-none-any.whl (303 kB)\n",
      "Requirement already satisfied: mpmath>=0.19 in ./env2/lib/python3.8/site-packages (from sympy<=1.7.1,>=1.3->qiskit-aqua==0.9.1->qiskit) (1.2.1)\n",
      "Collecting lxml>=4.5.1\n",
      "  Downloading lxml-4.6.3-cp38-cp38-manylinux1_x86_64.whl (5.4 MB)\n",
      "\u001b[K     |████████████████████████████████| 5.4 MB 72 kB/s eta 0:00:018\n",
      "\u001b[?25hCollecting multitasking>=0.0.7\n",
      "  Downloading multitasking-0.0.9.tar.gz (8.1 kB)\n",
      "Building wheels for collected packages: qiskit, dlx, docplex, fastdtw, python-constraint, yfinance, multitasking\n",
      "  Building wheel for qiskit (setup.py) ... \u001b[?25ldone\n",
      "\u001b[?25h  Created wheel for qiskit: filename=qiskit-0.25.1-py3-none-any.whl size=3067 sha256=73329c0aaa233d6e89621cfbd3d11b93206f2895121d0495be634143f8580351\n",
      "  Stored in directory: /home/arun/.cache/pip/wheels/54/46/3b/798bade2166e7cfb75cdc471b9c6c4eaa871f039a0a32f4acc\n",
      "  Building wheel for dlx (setup.py) ... \u001b[?25ldone\n",
      "\u001b[?25h  Created wheel for dlx: filename=dlx-1.0.4-py3-none-any.whl size=5709 sha256=08984ec836d0a4fece914835abb0e1f993319634a82091b468daa95f51d13f95\n",
      "  Stored in directory: /home/arun/.cache/pip/wheels/c4/03/f9/7afbf40e0c3d6928d16bcadb46264a6e68704998ec72f7ea13\n",
      "  Building wheel for docplex (setup.py) ... \u001b[?25ldone\n",
      "\u001b[?25h  Created wheel for docplex: filename=docplex-2.20.204-py3-none-any.whl size=675362 sha256=b33b524d5c246f1171c89a14d967721f7c27e5ec065177f48a42b128177491e3\n",
      "  Stored in directory: /home/arun/.cache/pip/wheels/1b/8c/d4/30a423fc8850be566fbbf6f229d0f216d28d69674bd4bd6b3f\n",
      "  Building wheel for fastdtw (setup.py) ... \u001b[?25ldone\n",
      "\u001b[?25h  Created wheel for fastdtw: filename=fastdtw-0.3.4-cp38-cp38-linux_x86_64.whl size=554228 sha256=a466fdc8027a102e5f6309a2bdd61b7e7bf8263af04fdb28f34c901ceab74df2\n",
      "  Stored in directory: /home/arun/.cache/pip/wheels/e9/ac/30/c962f9d759dd68cb5482727c44441fdfb48040fdbe983857e8\n",
      "  Building wheel for python-constraint (setup.py) ... \u001b[?25ldone\n",
      "\u001b[?25h  Created wheel for python-constraint: filename=python_constraint-1.4.0-py2.py3-none-any.whl size=24080 sha256=edf606873f4d733626189512485974187232551be785827c628f8004d3546bef\n",
      "  Stored in directory: /home/arun/.cache/pip/wheels/86/ba/5c/4e9115777de42c6a2e1ca77ef7c9d0d479254c5080341b55c5\n",
      "  Building wheel for yfinance (setup.py) ... \u001b[?25ldone\n",
      "\u001b[?25h  Created wheel for yfinance: filename=yfinance-0.1.55-py2.py3-none-any.whl size=22618 sha256=5093636f6284eaaf0246563ed7b88dbcb9ed1734852c15e251f70df850d320b6\n",
      "  Stored in directory: /home/arun/.cache/pip/wheels/b4/c3/39/9c01ae2b4726f37024bba5592bec868b47a2fab5a786e8979a\n",
      "  Building wheel for multitasking (setup.py) ... \u001b[?25ldone\n",
      "\u001b[?25h  Created wheel for multitasking: filename=multitasking-0.0.9-py3-none-any.whl size=8366 sha256=19dbf6c831557f3bb384f03e6535da71ed074bd94305e7ee598b2a1741b59d3e\n",
      "  Stored in directory: /home/arun/.cache/pip/wheels/57/6d/a3/a39b839cc75274d2acfb1c58bfead2f726c6577fe8c4723f13\n",
      "Successfully built qiskit dlx docplex fastdtw python-constraint yfinance multitasking\n",
      "Installing collected packages: scipy, retworkx, python-constraint, psutil, ply, fastjsonschema, dill, threadpoolctl, qiskit-terra, ntlm-auth, multitasking, more-itertools, lxml, joblib, inflection, cryptography, yfinance, websockets, scikit-learn, requests-ntlm, quandl, qiskit-ignis, pybind11, fastdtw, docplex, dlx, qiskit-ibmq-provider, qiskit-aqua, qiskit-aer, qiskit\n",
      "  Attempting uninstall: scipy\n",
      "    Found existing installation: scipy 1.6.2\n",
      "    Uninstalling scipy-1.6.2:\n",
      "      Successfully uninstalled scipy-1.6.2\n",
      "Successfully installed cryptography-3.4.7 dill-0.3.3 dlx-1.0.4 docplex-2.20.204 fastdtw-0.3.4 fastjsonschema-2.15.0 inflection-0.5.1 joblib-1.0.1 lxml-4.6.3 more-itertools-8.7.0 multitasking-0.0.9 ntlm-auth-1.5.0 ply-3.11 psutil-5.8.0 pybind11-2.6.2 python-constraint-1.4.0 qiskit-0.25.1 qiskit-aer-0.8.1 qiskit-aqua-0.9.1 qiskit-ibmq-provider-0.12.2 qiskit-ignis-0.6.0 qiskit-terra-0.17.1 quandl-3.6.0 requests-ntlm-1.1.0 retworkx-0.8.0 scikit-learn-0.24.1 scipy-1.6.1 threadpoolctl-2.1.0 websockets-8.1 yfinance-0.1.55\n"
     ]
    }
   ],
   "source": [
    "!pip install qiskit"
   ]
  },
  {
   "cell_type": "code",
   "execution_count": 9,
   "id": "a86cb5a0-15d6-44f6-b294-1e4ea9531174",
   "metadata": {},
   "outputs": [
    {
     "name": "stdout",
     "output_type": "stream",
     "text": [
      "\n",
      "Total count for 00 and 11 are: {'11': 521, '00': 479}\n"
     ]
    },
    {
     "data": {
      "text/html": [
       "<pre style=\"word-wrap: normal;white-space: pre;background: #fff0;line-height: 1.1;font-family: &quot;Courier New&quot;,Courier,monospace\">     ┌───┐     ┌─┐   \n",
       "q_0: ┤ H ├──■──┤M├───\n",
       "     └───┘┌─┴─┐└╥┘┌─┐\n",
       "q_1: ─────┤ X ├─╫─┤M├\n",
       "          └───┘ ║ └╥┘\n",
       "c: 2/═══════════╩══╩═\n",
       "                0  1 </pre>"
      ],
      "text/plain": [
       "     ┌───┐     ┌─┐   \n",
       "q_0: ┤ H ├──■──┤M├───\n",
       "     └───┘┌─┴─┐└╥┘┌─┐\n",
       "q_1: ─────┤ X ├─╫─┤M├\n",
       "          └───┘ ║ └╥┘\n",
       "c: 2/═══════════╩══╩═\n",
       "                0  1 "
      ]
     },
     "execution_count": 9,
     "metadata": {},
     "output_type": "execute_result"
    }
   ],
   "source": [
    "import numpy as np\n",
    "from qiskit import QuantumCircuit, transpile\n",
    "from qiskit.providers.aer import QasmSimulator\n",
    "from qiskit.visualization import plot_histogram\n",
    "\n",
    "# Use Aer's qasm_simulator\n",
    "simulator = QasmSimulator()\n",
    "\n",
    "# Create a Quantum Circuit acting on the q register\n",
    "circuit = QuantumCircuit(2, 2)\n",
    "\n",
    "# Add a H gate on qubit 0\n",
    "circuit.h(0)\n",
    "\n",
    "# Add a CX (CNOT) gate on control qubit 0 and target qubit 1\n",
    "circuit.cx(0, 1)\n",
    "\n",
    "# Map the quantum measurement to the classical bits\n",
    "circuit.measure([0,1], [0,1])\n",
    "\n",
    "# compile the circuit down to low-level QASM instructions\n",
    "# supported by the backend (not needed for simple circuits)\n",
    "compiled_circuit = transpile(circuit, simulator)\n",
    "\n",
    "# Execute the circuit on the qasm simulator\n",
    "job = simulator.run(compiled_circuit, shots=1000)\n",
    "\n",
    "# Grab results from the job\n",
    "result = job.result()\n",
    "\n",
    "# Returns counts\n",
    "counts = result.get_counts(circuit)\n",
    "print(\"\\nTotal count for 00 and 11 are:\",counts)\n",
    "\n",
    "# Draw the circuit\n",
    "circuit.draw()\n",
    "\n"
   ]
  },
  {
   "cell_type": "code",
   "execution_count": 10,
   "id": "f559e8d7-4626-4bf9-8d18-8e0639881fe4",
   "metadata": {},
   "outputs": [
    {
     "data": {
      "image/png": "[encoded data removed]",
      "text/plain": [
       "<Figure size 504x360 with 1 Axes>"
      ]
     },
     "execution_count": 10,
     "metadata": {},
     "output_type": "execute_result"
    }
   ],
   "source": [
    "plot_histogram(counts)"
   ]
  },
  {
   "cell_type": "code",
   "execution_count": 11,
   "id": "7717f035-56d0-4dc6-93ff-8c6d6a9f325c",
   "metadata": {},
   "outputs": [],
   "source": [
    "import numpy as np\n",
    "from qiskit import QuantumCircuit\n",
    "\n",
    "%matplotlib inline\n",
    "\n"
   ]
  },
  {
   "cell_type": "code",
   "execution_count": 12,
   "id": "41c562cd-7b6f-4b3f-b328-2b2bffe0e085",
   "metadata": {},
   "outputs": [],
   "source": [
    "# Create a Quantum Circuit acting on a quantum register of three qubits\n",
    "circ = QuantumCircuit(3)\n"
   ]
  },
  {
   "cell_type": "code",
   "execution_count": 13,
   "id": "2597a9d4-68c6-41f5-b512-6e3dc34fab6b",
   "metadata": {},
   "outputs": [
    {
     "data": {
      "text/plain": [
       "<qiskit.circuit.quantumcircuit.QuantumCircuit at 0x7f7ffb450160>"
      ]
     },
     "execution_count": 13,
     "metadata": {},
     "output_type": "execute_result"
    }
   ],
   "source": [
    "circ\n"
   ]
  },
  {
   "cell_type": "code",
   "execution_count": 14,
   "id": "2dabbd03-fd61-4b72-b555-02df42aa3b22",
   "metadata": {},
   "outputs": [
    {
     "name": "stdout",
     "output_type": "stream",
     "text": [
      "     \n",
      "q_0: \n",
      "     \n",
      "q_1: \n",
      "     \n",
      "q_2: \n",
      "     \n"
     ]
    }
   ],
   "source": [
    "print(circ)"
   ]
  },
  {
   "cell_type": "code",
   "execution_count": 15,
   "id": "a619ad2b-1dfc-45c5-8c3b-15dcab7af2bd",
   "metadata": {},
   "outputs": [
    {
     "data": {
      "text/plain": [
       "<qiskit.circuit.instructionset.InstructionSet at 0x7f7ffb463730>"
      ]
     },
     "execution_count": 15,
     "metadata": {},
     "output_type": "execute_result"
    }
   ],
   "source": [
    "# Add a H gate on qubit 0, putting this qubit in superposition.\n",
    "circ.h(0)\n",
    "# Add a CX (CNOT) gate on control qubit 0 and target qubit 1, putting\n",
    "# the qubits in a Bell state.\n",
    "circ.cx(0, 1)\n",
    "# Add a CX (CNOT) gate on control qubit 0 and target qubit 2, putting\n",
    "# the qubits in a GHZ state.\n",
    "circ.cx(0, 2)"
   ]
  },
  {
   "cell_type": "code",
   "execution_count": 21,
   "id": "ded39b6f-11d0-4627-80d3-d00af9a20990",
   "metadata": {},
   "outputs": [
    {
     "data": {
      "text/html": [
       "<pre style=\"word-wrap: normal;white-space: pre;background: #fff0;line-height: 1.1;font-family: &quot;Courier New&quot;,Courier,monospace\">     ┌───┐          \n",
       "q_0: ┤ H ├──■────■──\n",
       "     └───┘┌─┴─┐  │  \n",
       "q_1: ─────┤ X ├──┼──\n",
       "          └───┘┌─┴─┐\n",
       "q_2: ──────────┤ X ├\n",
       "               └───┘</pre>"
      ],
      "text/plain": [
       "     ┌───┐          \n",
       "q_0: ┤ H ├──■────■──\n",
       "     └───┘┌─┴─┐  │  \n",
       "q_1: ─────┤ X ├──┼──\n",
       "          └───┘┌─┴─┐\n",
       "q_2: ──────────┤ X ├\n",
       "               └───┘"
      ]
     },
     "execution_count": 21,
     "metadata": {},
     "output_type": "execute_result"
    }
   ],
   "source": [
    "circ.draw()"
   ]
  },
  {
   "cell_type": "code",
   "execution_count": 19,
   "id": "9b7e7a04-c302-4768-9d30-e0b2564c71c2",
   "metadata": {},
   "outputs": [
    {
     "name": "stdout",
     "output_type": "stream",
     "text": [
      "Requirement already satisfied: pylatexenc in ./env2/lib/python3.8/site-packages (2.10)\n"
     ]
    }
   ],
   "source": [
    "!pip install pylatexenc"
   ]
  },
  {
   "cell_type": "code",
   "execution_count": 22,
   "id": "2ef51640-0507-42a7-a424-57476ccdddf6",
   "metadata": {},
   "outputs": [
    {
     "data": {
      "text/latex": [
       "$$\n",
       "\n",
       "\\begin{bmatrix}\n",
       "\\tfrac{1}{\\sqrt{2}} & 0 & 0 & 0 & 0 & 0 & 0 & \\tfrac{1}{\\sqrt{2}}  \\\\\n",
       " \\end{bmatrix}\n",
       "$$"
      ],
      "text/plain": [
       "<IPython.core.display.Latex object>"
      ]
     },
     "execution_count": 22,
     "metadata": {},
     "output_type": "execute_result"
    }
   ],
   "source": [
    "from qiskit.quantum_info import Statevector\n",
    "\n",
    "# Set the intial state of the simulator to the ground state using from_int\n",
    "state = Statevector.from_int(0, 2**3)\n",
    "\n",
    "# Evolve the state by the quantum circuit\n",
    "state = state.evolve(circ)\n",
    "\n",
    "#draw using latex\n",
    "state.draw('latex')"
   ]
  },
  {
   "cell_type": "code",
   "execution_count": 26,
   "id": "6125880b-93f8-4a9a-90c8-c477de154ffb",
   "metadata": {},
   "outputs": [
    {
     "name": "stderr",
     "output_type": "stream",
     "text": [
      "/home/arun/DS/manoj_das/env2/lib/python3.8/site-packages/qiskit/visualization/state_visualization.py:705: MatplotlibDeprecationWarning: \n",
      "The M attribute was deprecated in Matplotlib 3.4 and will be removed two minor releases later. Use self.axes.M instead.\n",
      "  xs, ys, _ = proj3d.proj_transform(xs3d, ys3d, zs3d, renderer.M)\n"
     ]
    },
    {
     "data": {
      "image/png": "[encoded data removed]",
      "text/plain": [
       "<Figure size 504x504 with 2 Axes>"
      ]
     },
     "execution_count": 26,
     "metadata": {},
     "output_type": "execute_result"
    }
   ],
   "source": [
    "state.draw('qsphere')"
   ]
  },
  {
   "cell_type": "code",
   "execution_count": 25,
   "id": "19aa9ff4-21d4-4a3c-88b4-3f19771a31d5",
   "metadata": {},
   "outputs": [
    {
     "name": "stdout",
     "output_type": "stream",
     "text": [
      "Collecting seaborn\n",
      "  Downloading seaborn-0.11.1-py3-none-any.whl (285 kB)\n",
      "\u001b[K     |████████████████████████████████| 285 kB 36 kB/s eta 0:00:01\n",
      "\u001b[?25hRequirement already satisfied: numpy>=1.15 in ./env2/lib/python3.8/site-packages (from seaborn) (1.18.5)\n",
      "Requirement already satisfied: scipy>=1.0 in ./env2/lib/python3.8/site-packages (from seaborn) (1.6.1)\n",
      "Requirement already satisfied: pandas>=0.23 in ./env2/lib/python3.8/site-packages (from seaborn) (1.2.3)\n",
      "Requirement already satisfied: matplotlib>=2.2 in ./env2/lib/python3.8/site-packages (from seaborn) (3.4.1)\n",
      "Requirement already satisfied: pyparsing>=2.2.1 in ./env2/lib/python3.8/site-packages (from matplotlib>=2.2->seaborn) (2.4.6)\n",
      "Requirement already satisfied: python-dateutil>=2.7 in ./env2/lib/python3.8/site-packages (from matplotlib>=2.2->seaborn) (2.8.1)\n",
      "Requirement already satisfied: kiwisolver>=1.0.1 in ./env2/lib/python3.8/site-packages (from matplotlib>=2.2->seaborn) (1.3.1)\n",
      "Requirement already satisfied: pillow>=6.2.0 in ./env2/lib/python3.8/site-packages (from matplotlib>=2.2->seaborn) (8.1.2)\n",
      "Requirement already satisfied: cycler>=0.10 in ./env2/lib/python3.8/site-packages (from matplotlib>=2.2->seaborn) (0.10.0)\n",
      "Requirement already satisfied: six in ./env2/lib/python3.8/site-packages (from cycler>=0.10->matplotlib>=2.2->seaborn) (1.14.0)\n",
      "Requirement already satisfied: pytz>=2017.3 in ./env2/lib/python3.8/site-packages (from pandas>=0.23->seaborn) (2021.1)\n",
      "Installing collected packages: seaborn\n",
      "Successfully installed seaborn-0.11.1\n"
     ]
    }
   ],
   "source": [
    "!pip install seaborn"
   ]
  },
  {
   "cell_type": "code",
   "execution_count": 27,
   "id": "4a15203b-feaf-4f03-85c5-0521a0cf9092",
   "metadata": {},
   "outputs": [
    {
     "data": {
      "image/png": "[encoded data removed]",
      "text/plain": [
       "<Figure size 576x360 with 2 Axes>"
      ]
     },
     "execution_count": 27,
     "metadata": {},
     "output_type": "execute_result"
    }
   ],
   "source": [
    "state.draw('hinton')\n"
   ]
  },
  {
   "cell_type": "code",
   "execution_count": 28,
   "id": "1b281c4d-89a4-4d98-bfff-0ee3a545b4f2",
   "metadata": {},
   "outputs": [
    {
     "data": {
      "text/plain": [
       "array([[ 0.70710678+0.j,  0.70710678+0.j,  0.        +0.j,\n",
       "         0.        +0.j,  0.        +0.j,  0.        +0.j,\n",
       "         0.        +0.j,  0.        +0.j],\n",
       "       [ 0.        +0.j,  0.        +0.j,  0.        +0.j,\n",
       "         0.        +0.j,  0.        +0.j,  0.        +0.j,\n",
       "         0.70710678+0.j, -0.70710678+0.j],\n",
       "       [ 0.        +0.j,  0.        +0.j,  0.70710678+0.j,\n",
       "         0.70710678+0.j,  0.        +0.j,  0.        +0.j,\n",
       "         0.        +0.j,  0.        +0.j],\n",
       "       [ 0.        +0.j,  0.        +0.j,  0.        +0.j,\n",
       "         0.        +0.j,  0.70710678+0.j, -0.70710678+0.j,\n",
       "         0.        +0.j,  0.        +0.j],\n",
       "       [ 0.        +0.j,  0.        +0.j,  0.        +0.j,\n",
       "         0.        +0.j,  0.70710678+0.j,  0.70710678+0.j,\n",
       "         0.        +0.j,  0.        +0.j],\n",
       "       [ 0.        +0.j,  0.        +0.j,  0.70710678+0.j,\n",
       "        -0.70710678+0.j,  0.        +0.j,  0.        +0.j,\n",
       "         0.        +0.j,  0.        +0.j],\n",
       "       [ 0.        +0.j,  0.        +0.j,  0.        +0.j,\n",
       "         0.        +0.j,  0.        +0.j,  0.        +0.j,\n",
       "         0.70710678+0.j,  0.70710678+0.j],\n",
       "       [ 0.70710678+0.j, -0.70710678+0.j,  0.        +0.j,\n",
       "         0.        +0.j,  0.        +0.j,  0.        +0.j,\n",
       "         0.        +0.j,  0.        +0.j]])"
      ]
     },
     "execution_count": 28,
     "metadata": {},
     "output_type": "execute_result"
    }
   ],
   "source": [
    "from qiskit.quantum_info import Operator\n",
    "\n",
    "U = Operator(circ)\n",
    "\n",
    "# Show the results\n",
    "U.data"
   ]
  },
  {
   "cell_type": "code",
   "execution_count": 29,
   "id": "b3777c00-9b1b-446b-b4ae-c12dca26e5d2",
   "metadata": {},
   "outputs": [
    {
     "data": {
      "text/html": [
       "<pre style=\"word-wrap: normal;white-space: pre;background: #fff0;line-height: 1.1;font-family: &quot;Courier New&quot;,Courier,monospace\">     ┌───┐           ░ ┌─┐      \n",
       "q_0: ┤ H ├──■────■───░─┤M├──────\n",
       "     └───┘┌─┴─┐  │   ░ └╥┘┌─┐   \n",
       "q_1: ─────┤ X ├──┼───░──╫─┤M├───\n",
       "          └───┘┌─┴─┐ ░  ║ └╥┘┌─┐\n",
       "q_2: ──────────┤ X ├─░──╫──╫─┤M├\n",
       "               └───┘ ░  ║  ║ └╥┘\n",
       "c: 3/═══════════════════╩══╩══╩═\n",
       "                        0  1  2 </pre>"
      ],
      "text/plain": [
       "     ┌───┐           ░ ┌─┐      \n",
       "q_0: ┤ H ├──■────■───░─┤M├──────\n",
       "     └───┘┌─┴─┐  │   ░ └╥┘┌─┐   \n",
       "q_1: ─────┤ X ├──┼───░──╫─┤M├───\n",
       "          └───┘┌─┴─┐ ░  ║ └╥┘┌─┐\n",
       "q_2: ──────────┤ X ├─░──╫──╫─┤M├\n",
       "               └───┘ ░  ║  ║ └╥┘\n",
       "c: 3/═══════════════════╩══╩══╩═\n",
       "                        0  1  2 "
      ]
     },
     "execution_count": 29,
     "metadata": {},
     "output_type": "execute_result"
    }
   ],
   "source": [
    "# Create a Quantum Circuit\n",
    "meas = QuantumCircuit(3, 3)\n",
    "meas.barrier(range(3))\n",
    "# map the quantum measurement to the classical bits\n",
    "meas.measure(range(3), range(3))\n",
    "\n",
    "# The Qiskit circuit object supports composition.\n",
    "# Here the meas has to be first and front=True (putting it before)\n",
    "# as compose must put a smaller circuit into a larger one.\n",
    "qc = meas.compose(circ, range(3), front=True)\n",
    "\n",
    "#drawing the circuit\n",
    "qc.draw()"
   ]
  },
  {
   "cell_type": "code",
   "execution_count": 30,
   "id": "49280801-f6b6-4d2c-9de9-6af982cf78ea",
   "metadata": {},
   "outputs": [],
   "source": [
    "# Adding the transpiler to reduce the circuit to QASM instructions\n",
    "# supported by the backend\n",
    "from qiskit import transpile\n",
    "\n",
    "# Use Aer's qasm_simulator\n",
    "from qiskit.providers.aer import QasmSimulator\n",
    "\n",
    "backend = QasmSimulator()\n",
    "\n",
    "# First we have to transpile the quantum circuit\n",
    "# to the low-level QASM instructions used by the\n",
    "# backend\n",
    "qc_compiled = transpile(qc, backend)\n",
    "\n",
    "# Execute the circuit on the qasm simulator.\n",
    "# We've set the number of repeats of the circuit\n",
    "# to be 1024, which is the default.\n",
    "job_sim = backend.run(qc, shots=1024)\n",
    "\n",
    "# Grab the results from the job.\n",
    "result_sim = job_sim.result()\n"
   ]
  },
  {
   "cell_type": "code",
   "execution_count": 31,
   "id": "18c22b45-01ed-48ba-b32d-b8a544c636a9",
   "metadata": {},
   "outputs": [
    {
     "data": {
      "text/plain": [
       "Result(backend_name='qasm_simulator', backend_version='0.8.1', qobj_id='d9cc10e0-b7bf-44f9-9f87-65ab0f986c44', job_id='452d19dc-21f3-45c6-9898-4ff3b8aa7809', success=True, results=[ExperimentResult(shots=1024, success=True, meas_level=MeasLevel.CLASSIFIED, data=ExperimentResultData(counts={'0x0': 499, '0x7': 525}), header=QobjExperimentHeader(clbit_labels=[['c', 0], ['c', 1], ['c', 2]], creg_sizes=[['c', 3]], global_phase=0.0, memory_slots=3, metadata=None, n_qubits=3, name='circuit-96', qreg_sizes=[['q', 3]], qubit_labels=[['q', 0], ['q', 1], ['q', 2]]), status=DONE, seed_simulator=1243860321, metadata={'parallel_shots': 1, 'method': 'stabilizer', 'parallel_state_update': 8, 'measure_sampling': True, 'fusion': {'enabled': False}}, time_taken=0.0026899040000000003)], date=2021-04-17T20:31:15.828148, status=COMPLETED, status=QobjHeader(backend_name='qasm_simulator', backend_version='0.8.1'), metadata={'time_taken': 0.0028793760000000003, 'parallel_experiments': 1, 'omp_enabled': True, 'max_gpu_memory_mb': 0, 'num_mpi_processes': 1, 'max_memory_mb': 15826, 'mpi_rank': 0}, time_taken=0.003101348876953125)"
      ]
     },
     "execution_count": 31,
     "metadata": {},
     "output_type": "execute_result"
    }
   ],
   "source": [
    "result_sim"
   ]
  },
  {
   "cell_type": "code",
   "execution_count": 32,
   "id": "ce598030-b0a2-41e1-a88e-469824c6a398",
   "metadata": {},
   "outputs": [
    {
     "name": "stdout",
     "output_type": "stream",
     "text": [
      "{'000': 499, '111': 525}\n"
     ]
    }
   ],
   "source": [
    "counts = result_sim.get_counts(qc)\n",
    "print(counts)"
   ]
  },
  {
   "cell_type": "code",
   "execution_count": 33,
   "id": "2e116643-5546-4fe2-b807-0639b12b033a",
   "metadata": {},
   "outputs": [
    {
     "data": {
      "image/png": "[encoded data removed]",
      "text/plain": [
       "<Figure size 504x360 with 1 Axes>"
      ]
     },
     "execution_count": 33,
     "metadata": {},
     "output_type": "execute_result"
    }
   ],
   "source": [
    "from qiskit.visualization import plot_histogram\n",
    "plot_histogram(counts)"
   ]
  },
  {
   "cell_type": "code",
   "execution_count": 36,
   "id": "acd6f37f-0505-4c17-a5f9-ef30d6734cfb",
   "metadata": {},
   "outputs": [
    {
     "data": {
      "text/html": [
       "<h3>Version Information</h3><table><tr><th>Qiskit Software</th><th>Version</th></tr><tr><td>Qiskit</td><td>0.25.1</td></tr><tr><td>Terra</td><td>0.17.1</td></tr><tr><td>Aer</td><td>0.8.1</td></tr><tr><td>Ignis</td><td>0.6.0</td></tr><tr><td>Aqua</td><td>0.9.1</td></tr><tr><td>IBM Q Provider</td><td>0.12.2</td></tr><tr><th>System information</th></tr><tr><td>Python</td><td>3.8.5 (default, Jan 27 2021, 15:41:15) \n",
       "[GCC 9.3.0]</td></tr><tr><td>OS</td><td>Linux</td></tr><tr><td>CPUs</td><td>4</td></tr><tr><td>Memory (Gb)</td><td>15.455551147460938</td></tr><tr><td colspan='2'>Sat Apr 17 20:34:25 2021 IST</td></tr></table>"
      ],
      "text/plain": [
       "<IPython.core.display.HTML object>"
      ]
     },
     "metadata": {},
     "output_type": "display_data"
    },
    {
     "data": {
      "text/html": [
       "<div style='width: 100%; background-color:#d5d9e0;padding-left: 10px; padding-bottom: 10px; padding-right: 10px; padding-top: 5px'><h3>This code is a part of Qiskit</h3><p>&copy; Copyright IBM 2017, 2021.</p><p>This code is licensed under the Apache License, Version 2.0. You may<br>obtain a copy of this license in the LICENSE.txt file in the root directory<br> of this source tree or at http://www.apache.org/licenses/LICENSE-2.0.<p>Any modifications or derivative works of this code must retain this<br>copyright notice, and modified files need to carry a notice indicating<br>that they have been altered from the originals.</p></div>"
      ],
      "text/plain": [
       "<IPython.core.display.HTML object>"
      ]
     },
     "metadata": {},
     "output_type": "display_data"
    }
   ],
   "source": [
    "import qiskit.tools.jupyter\n",
    "%qiskit_version_table\n",
    "%qiskit_copyright\n",
    "\n"
   ]
  },
  {
   "cell_type": "code",
   "execution_count": 35,
   "id": "6dfb4cf4-48d4-409c-b083-9aea9b69d2f6",
   "metadata": {},
   "outputs": [
    {
     "name": "stdout",
     "output_type": "stream",
     "text": [
      "Collecting ipywidgets\n",
      "  Using cached ipywidgets-7.6.3-py2.py3-none-any.whl (121 kB)\n",
      "Collecting widgetsnbextension~=3.5.0\n",
      "  Using cached widgetsnbextension-3.5.1-py2.py3-none-any.whl (2.2 MB)\n",
      "Requirement already satisfied: traitlets>=4.3.1 in ./env2/lib/python3.8/site-packages (from ipywidgets) (5.0.5)\n",
      "Requirement already satisfied: ipython>=4.0.0 in ./env2/lib/python3.8/site-packages (from ipywidgets) (7.22.0)\n",
      "Requirement already satisfied: ipykernel>=4.5.1 in ./env2/lib/python3.8/site-packages (from ipywidgets) (5.5.3)\n",
      "Collecting jupyterlab-widgets>=1.0.0\n",
      "  Using cached jupyterlab_widgets-1.0.0-py3-none-any.whl (243 kB)\n",
      "Requirement already satisfied: nbformat>=4.2.0 in ./env2/lib/python3.8/site-packages (from ipywidgets) (5.1.3)\n",
      "Requirement already satisfied: tornado>=4.2 in ./env2/lib/python3.8/site-packages (from ipykernel>=4.5.1->ipywidgets) (6.1)\n",
      "Requirement already satisfied: jupyter-client in ./env2/lib/python3.8/site-packages (from ipykernel>=4.5.1->ipywidgets) (6.1.12)\n",
      "Requirement already satisfied: prompt-toolkit!=3.0.0,!=3.0.1,<3.1.0,>=2.0.0 in ./env2/lib/python3.8/site-packages (from ipython>=4.0.0->ipywidgets) (3.0.18)\n",
      "Requirement already satisfied: pygments in ./env2/lib/python3.8/site-packages (from ipython>=4.0.0->ipywidgets) (2.8.1)\n",
      "Requirement already satisfied: decorator in ./env2/lib/python3.8/site-packages (from ipython>=4.0.0->ipywidgets) (4.4.2)\n",
      "Requirement already satisfied: jedi>=0.16 in ./env2/lib/python3.8/site-packages (from ipython>=4.0.0->ipywidgets) (0.18.0)\n",
      "Requirement already satisfied: pexpect>4.3 in ./env2/lib/python3.8/site-packages (from ipython>=4.0.0->ipywidgets) (4.8.0)\n",
      "Requirement already satisfied: setuptools>=18.5 in ./env2/lib/python3.8/site-packages (from ipython>=4.0.0->ipywidgets) (44.0.0)\n",
      "Requirement already satisfied: backcall in ./env2/lib/python3.8/site-packages (from ipython>=4.0.0->ipywidgets) (0.2.0)\n",
      "Requirement already satisfied: pickleshare in ./env2/lib/python3.8/site-packages (from ipython>=4.0.0->ipywidgets) (0.7.5)\n",
      "Requirement already satisfied: parso<0.9.0,>=0.8.0 in ./env2/lib/python3.8/site-packages (from jedi>=0.16->ipython>=4.0.0->ipywidgets) (0.8.2)\n",
      "Requirement already satisfied: ipython-genutils in ./env2/lib/python3.8/site-packages (from nbformat>=4.2.0->ipywidgets) (0.2.0)\n",
      "Requirement already satisfied: jsonschema!=2.5.0,>=2.4 in ./env2/lib/python3.8/site-packages (from nbformat>=4.2.0->ipywidgets) (3.2.0)\n",
      "Requirement already satisfied: jupyter-core in ./env2/lib/python3.8/site-packages (from nbformat>=4.2.0->ipywidgets) (4.7.1)\n",
      "Requirement already satisfied: six>=1.11.0 in ./env2/lib/python3.8/site-packages (from jsonschema!=2.5.0,>=2.4->nbformat>=4.2.0->ipywidgets) (1.14.0)\n",
      "Requirement already satisfied: attrs>=17.4.0 in ./env2/lib/python3.8/site-packages (from jsonschema!=2.5.0,>=2.4->nbformat>=4.2.0->ipywidgets) (20.3.0)\n",
      "Requirement already satisfied: pyrsistent>=0.14.0 in ./env2/lib/python3.8/site-packages (from jsonschema!=2.5.0,>=2.4->nbformat>=4.2.0->ipywidgets) (0.17.3)\n",
      "Requirement already satisfied: ptyprocess>=0.5 in ./env2/lib/python3.8/site-packages (from pexpect>4.3->ipython>=4.0.0->ipywidgets) (0.7.0)\n",
      "Requirement already satisfied: wcwidth in ./env2/lib/python3.8/site-packages (from prompt-toolkit!=3.0.0,!=3.0.1,<3.1.0,>=2.0.0->ipython>=4.0.0->ipywidgets) (0.2.5)\n",
      "Requirement already satisfied: notebook>=4.4.1 in ./env2/lib/python3.8/site-packages (from widgetsnbextension~=3.5.0->ipywidgets) (6.3.0)\n",
      "Requirement already satisfied: nbconvert in ./env2/lib/python3.8/site-packages (from notebook>=4.4.1->widgetsnbextension~=3.5.0->ipywidgets) (6.0.7)\n",
      "Requirement already satisfied: pyzmq>=17 in ./env2/lib/python3.8/site-packages (from notebook>=4.4.1->widgetsnbextension~=3.5.0->ipywidgets) (22.0.3)\n",
      "Requirement already satisfied: terminado>=0.8.3 in ./env2/lib/python3.8/site-packages (from notebook>=4.4.1->widgetsnbextension~=3.5.0->ipywidgets) (0.9.4)\n",
      "Requirement already satisfied: Send2Trash>=1.5.0 in ./env2/lib/python3.8/site-packages (from notebook>=4.4.1->widgetsnbextension~=3.5.0->ipywidgets) (1.5.0)\n",
      "Requirement already satisfied: argon2-cffi in ./env2/lib/python3.8/site-packages (from notebook>=4.4.1->widgetsnbextension~=3.5.0->ipywidgets) (20.1.0)\n",
      "Requirement already satisfied: prometheus-client in ./env2/lib/python3.8/site-packages (from notebook>=4.4.1->widgetsnbextension~=3.5.0->ipywidgets) (0.10.1)\n",
      "Requirement already satisfied: jinja2 in ./env2/lib/python3.8/site-packages (from notebook>=4.4.1->widgetsnbextension~=3.5.0->ipywidgets) (2.11.3)\n",
      "Requirement already satisfied: python-dateutil>=2.1 in ./env2/lib/python3.8/site-packages (from jupyter-client->ipykernel>=4.5.1->ipywidgets) (2.8.1)\n",
      "Requirement already satisfied: cffi>=1.0.0 in ./env2/lib/python3.8/site-packages (from argon2-cffi->notebook>=4.4.1->widgetsnbextension~=3.5.0->ipywidgets) (1.14.5)\n",
      "Requirement already satisfied: pycparser in ./env2/lib/python3.8/site-packages (from cffi>=1.0.0->argon2-cffi->notebook>=4.4.1->widgetsnbextension~=3.5.0->ipywidgets) (2.20)\n",
      "Requirement already satisfied: MarkupSafe>=0.23 in ./env2/lib/python3.8/site-packages (from jinja2->notebook>=4.4.1->widgetsnbextension~=3.5.0->ipywidgets) (1.1.1)\n",
      "Requirement already satisfied: entrypoints>=0.2.2 in ./env2/lib/python3.8/site-packages (from nbconvert->notebook>=4.4.1->widgetsnbextension~=3.5.0->ipywidgets) (0.3)\n",
      "Requirement already satisfied: bleach in ./env2/lib/python3.8/site-packages (from nbconvert->notebook>=4.4.1->widgetsnbextension~=3.5.0->ipywidgets) (3.3.0)\n",
      "Requirement already satisfied: nbclient<0.6.0,>=0.5.0 in ./env2/lib/python3.8/site-packages (from nbconvert->notebook>=4.4.1->widgetsnbextension~=3.5.0->ipywidgets) (0.5.3)\n",
      "Requirement already satisfied: jupyterlab-pygments in ./env2/lib/python3.8/site-packages (from nbconvert->notebook>=4.4.1->widgetsnbextension~=3.5.0->ipywidgets) (0.1.2)\n",
      "Requirement already satisfied: pandocfilters>=1.4.1 in ./env2/lib/python3.8/site-packages (from nbconvert->notebook>=4.4.1->widgetsnbextension~=3.5.0->ipywidgets) (1.4.3)\n",
      "Requirement already satisfied: testpath in ./env2/lib/python3.8/site-packages (from nbconvert->notebook>=4.4.1->widgetsnbextension~=3.5.0->ipywidgets) (0.4.4)\n",
      "Requirement already satisfied: mistune<2,>=0.8.1 in ./env2/lib/python3.8/site-packages (from nbconvert->notebook>=4.4.1->widgetsnbextension~=3.5.0->ipywidgets) (0.8.4)\n",
      "Requirement already satisfied: defusedxml in ./env2/lib/python3.8/site-packages (from nbconvert->notebook>=4.4.1->widgetsnbextension~=3.5.0->ipywidgets) (0.7.1)\n",
      "Requirement already satisfied: nest-asyncio in ./env2/lib/python3.8/site-packages (from nbclient<0.6.0,>=0.5.0->nbconvert->notebook>=4.4.1->widgetsnbextension~=3.5.0->ipywidgets) (1.5.1)\n",
      "Requirement already satisfied: async-generator in ./env2/lib/python3.8/site-packages (from nbclient<0.6.0,>=0.5.0->nbconvert->notebook>=4.4.1->widgetsnbextension~=3.5.0->ipywidgets) (1.10)\n",
      "Requirement already satisfied: packaging in ./env2/lib/python3.8/site-packages (from bleach->nbconvert->notebook>=4.4.1->widgetsnbextension~=3.5.0->ipywidgets) (20.3)\n",
      "Requirement already satisfied: webencodings in ./env2/lib/python3.8/site-packages (from bleach->nbconvert->notebook>=4.4.1->widgetsnbextension~=3.5.0->ipywidgets) (0.5.1)\n",
      "Installing collected packages: widgetsnbextension, jupyterlab-widgets, ipywidgets\n",
      "Successfully installed ipywidgets-7.6.3 jupyterlab-widgets-1.0.0 widgetsnbextension-3.5.1\n"
     ]
    }
   ],
   "source": [
    "!pip install ipywidgets"
   ]
  },
  {
   "cell_type": "code",
   "execution_count": 37,
   "id": "89528619-e0f6-407f-b2c1-3e4790673354",
   "metadata": {},
   "outputs": [],
   "source": [
    "import numpy as np\n",
    "from qiskit import *\n"
   ]
  },
  {
   "cell_type": "code",
   "execution_count": 38,
   "id": "d6bce732-1cae-4c07-b122-17e11954353d",
   "metadata": {},
   "outputs": [],
   "source": [
    "from qiskit.circuit import Gate\n",
    "\n",
    "my_gate = Gate(name='my_gate', num_qubits=2, params=[])\n",
    "\n"
   ]
  },
  {
   "cell_type": "code",
   "execution_count": 39,
   "id": "b8cb9db0-05af-4c6e-9647-af5d011f6951",
   "metadata": {},
   "outputs": [
    {
     "data": {
      "text/html": [
       "<pre style=\"word-wrap: normal;white-space: pre;background: #fff0;line-height: 1.1;font-family: &quot;Courier New&quot;,Courier,monospace\">     ┌──────────┐            \n",
       "q_0: ┤0         ├────────────\n",
       "     │  my_gate │┌──────────┐\n",
       "q_1: ┤1         ├┤0         ├\n",
       "     └──────────┘│  my_gate │\n",
       "q_2: ────────────┤1         ├\n",
       "                 └──────────┘</pre>"
      ],
      "text/plain": [
       "     ┌──────────┐            \n",
       "q_0: ┤0         ├────────────\n",
       "     │  my_gate │┌──────────┐\n",
       "q_1: ┤1         ├┤0         ├\n",
       "     └──────────┘│  my_gate │\n",
       "q_2: ────────────┤1         ├\n",
       "                 └──────────┘"
      ]
     },
     "execution_count": 39,
     "metadata": {},
     "output_type": "execute_result"
    }
   ],
   "source": [
    "qr = QuantumRegister(3, 'q')\n",
    "circ = QuantumCircuit(qr)\n",
    "circ.append(my_gate, [qr[0], qr[1]])\n",
    "circ.append(my_gate, [qr[1], qr[2]])\n",
    "\n",
    "circ.draw()"
   ]
  },
  {
   "cell_type": "code",
   "execution_count": 40,
   "id": "093223e3-9f2c-4c63-8897-5a199dfd890f",
   "metadata": {},
   "outputs": [
    {
     "name": "stderr",
     "output_type": "stream",
     "text": [
      "<ipython-input-40-1b85e9df9bff>:8: DeprecationWarning: The QuantumCircuit.u3 method is deprecated as of 0.16.0. It will be removed no earlier than 3 months after the release date. You should use QuantumCircuit.u instead, which acts identically. Alternatively, you can decompose u3 in terms of QuantumCircuit.p and QuantumCircuit.sx: u3(ϴ,φ,λ) = p(φ+π) sx p(ϴ+π) sx p(λ) (2 pulses on hardware).\n",
      "  sub_circ.u3(1, 2, -2, sub_q[0])\n"
     ]
    },
    {
     "data": {
      "text/html": [
       "<pre style=\"word-wrap: normal;white-space: pre;background: #fff0;line-height: 1.1;font-family: &quot;Courier New&quot;,Courier,monospace\">     ┌───┐                       \n",
       "q_0: ┤ H ├──■────────────────────\n",
       "     └───┘┌─┴─┐     ┌───────────┐\n",
       "q_1: ─────┤ X ├──■──┤0          ├\n",
       "          └───┘┌─┴─┐│  sub_circ │\n",
       "q_2: ──────────┤ X ├┤1          ├\n",
       "               └───┘└───────────┘</pre>"
      ],
      "text/plain": [
       "     ┌───┐                       \n",
       "q_0: ┤ H ├──■────────────────────\n",
       "     └───┘┌─┴─┐     ┌───────────┐\n",
       "q_1: ─────┤ X ├──■──┤0          ├\n",
       "          └───┘┌─┴─┐│  sub_circ │\n",
       "q_2: ──────────┤ X ├┤1          ├\n",
       "               └───┘└───────────┘"
      ]
     },
     "execution_count": 40,
     "metadata": {},
     "output_type": "execute_result"
    }
   ],
   "source": [
    "# Build a sub-circuit\n",
    "sub_q = QuantumRegister(2)\n",
    "sub_circ = QuantumCircuit(sub_q, name='sub_circ')\n",
    "sub_circ.h(sub_q[0])\n",
    "sub_circ.crz(1, sub_q[0], sub_q[1])\n",
    "sub_circ.barrier()\n",
    "sub_circ.id(sub_q[1])\n",
    "sub_circ.u3(1, 2, -2, sub_q[0])\n",
    "\n",
    "# Convert to a gate and stick it into an arbitrary place in the bigger circuit\n",
    "sub_inst = sub_circ.to_instruction()\n",
    "\n",
    "qr = QuantumRegister(3, 'q')\n",
    "circ = QuantumCircuit(qr)\n",
    "circ.h(qr[0])\n",
    "circ.cx(qr[0], qr[1])\n",
    "circ.cx(qr[1], qr[2])\n",
    "circ.append(sub_inst, [qr[1], qr[2]])\n",
    "\n",
    "circ.draw()\n"
   ]
  },
  {
   "cell_type": "code",
   "execution_count": 41,
   "id": "4a88252b-7c36-47b6-97d2-5a396c6edf84",
   "metadata": {},
   "outputs": [
    {
     "data": {
      "text/html": [
       "<pre style=\"word-wrap: normal;white-space: pre;background: #fff0;line-height: 1.1;font-family: &quot;Courier New&quot;,Courier,monospace\">     ┌─────────┐                                         \n",
       "q_0: ┤ U2(0,π) ├──■──────────────────────────────────────\n",
       "     └─────────┘┌─┴─┐     ┌───┐          ░ ┌────────────┐\n",
       "q_1: ───────────┤ X ├──■──┤ H ├────■─────░─┤ U3(1,2,-2) ├\n",
       "                └───┘┌─┴─┐└───┘┌───┴───┐ ░ └───┬───┬────┘\n",
       "q_2: ────────────────┤ X ├─────┤ RZ(1) ├─░─────┤ I ├─────\n",
       "                     └───┘     └───────┘ ░     └───┘     </pre>"
      ],
      "text/plain": [
       "     ┌─────────┐                                         \n",
       "q_0: ┤ U2(0,π) ├──■──────────────────────────────────────\n",
       "     └─────────┘┌─┴─┐     ┌───┐          ░ ┌────────────┐\n",
       "q_1: ───────────┤ X ├──■──┤ H ├────■─────░─┤ U3(1,2,-2) ├\n",
       "                └───┘┌─┴─┐└───┘┌───┴───┐ ░ └───┬───┬────┘\n",
       "q_2: ────────────────┤ X ├─────┤ RZ(1) ├─░─────┤ I ├─────\n",
       "                     └───┘     └───────┘ ░     └───┘     "
      ]
     },
     "execution_count": 41,
     "metadata": {},
     "output_type": "execute_result"
    }
   ],
   "source": [
    "decomposed_circ = circ.decompose() # Does not modify original circuit\n",
    "decomposed_circ.draw()\n",
    "\n"
   ]
  },
  {
   "cell_type": "code",
   "execution_count": 42,
   "id": "0ab38d07-cb82-46d5-9175-2168153797fc",
   "metadata": {},
   "outputs": [
    {
     "data": {
      "text/html": [
       "<pre style=\"word-wrap: normal;white-space: pre;background: #fff0;line-height: 1.1;font-family: &quot;Courier New&quot;,Courier,monospace\">     ┌───┐                     ░ ┌───────┐ ░                     ┌───┐┌─┐\n",
       "q_0: ┤ H ├──■──────────────────░─┤ RZ(θ) ├─░──────────────────■──┤ H ├┤M├\n",
       "     └───┘┌─┴─┐                ░ ├───────┤ ░                ┌─┴─┐└───┘└╥┘\n",
       "q_1: ─────┤ X ├──■─────────────░─┤ RZ(θ) ├─░─────────────■──┤ X ├──────╫─\n",
       "          └───┘┌─┴─┐           ░ ├───────┤ ░           ┌─┴─┐└───┘      ║ \n",
       "q_2: ──────────┤ X ├──■────────░─┤ RZ(θ) ├─░────────■──┤ X ├───────────╫─\n",
       "               └───┘┌─┴─┐      ░ ├───────┤ ░      ┌─┴─┐└───┘           ║ \n",
       "q_3: ───────────────┤ X ├──■───░─┤ RZ(θ) ├─░───■──┤ X ├────────────────╫─\n",
       "                    └───┘┌─┴─┐ ░ ├───────┤ ░ ┌─┴─┐└───┘                ║ \n",
       "q_4: ────────────────────┤ X ├─░─┤ RZ(θ) ├─░─┤ X ├─────────────────────╫─\n",
       "                         └───┘ ░ └───────┘ ░ └───┘                     ║ \n",
       "c: 1/══════════════════════════════════════════════════════════════════╩═\n",
       "                                                                       0 </pre>"
      ],
      "text/plain": [
       "     ┌───┐                     ░ ┌───────┐ ░                     ┌───┐┌─┐\n",
       "q_0: ┤ H ├──■──────────────────░─┤ RZ(θ) ├─░──────────────────■──┤ H ├┤M├\n",
       "     └───┘┌─┴─┐                ░ ├───────┤ ░                ┌─┴─┐└───┘└╥┘\n",
       "q_1: ─────┤ X ├──■─────────────░─┤ RZ(θ) ├─░─────────────■──┤ X ├──────╫─\n",
       "          └───┘┌─┴─┐           ░ ├───────┤ ░           ┌─┴─┐└───┘      ║ \n",
       "q_2: ──────────┤ X ├──■────────░─┤ RZ(θ) ├─░────────■──┤ X ├───────────╫─\n",
       "               └───┘┌─┴─┐      ░ ├───────┤ ░      ┌─┴─┐└───┘           ║ \n",
       "q_3: ───────────────┤ X ├──■───░─┤ RZ(θ) ├─░───■──┤ X ├────────────────╫─\n",
       "                    └───┘┌─┴─┐ ░ ├───────┤ ░ ┌─┴─┐└───┘                ║ \n",
       "q_4: ────────────────────┤ X ├─░─┤ RZ(θ) ├─░─┤ X ├─────────────────────╫─\n",
       "                         └───┘ ░ └───────┘ ░ └───┘                     ║ \n",
       "c: 1/══════════════════════════════════════════════════════════════════╩═\n",
       "                                                                       0 "
      ]
     },
     "execution_count": 42,
     "metadata": {},
     "output_type": "execute_result"
    }
   ],
   "source": [
    "from qiskit.circuit import Parameter\n",
    "\n",
    "theta = Parameter('θ')\n",
    "\n",
    "n = 5\n",
    "\n",
    "qc = QuantumCircuit(5, 1)\n",
    "\n",
    "qc.h(0)\n",
    "for i in range(n-1):\n",
    "    qc.cx(i, i+1)\n",
    "\n",
    "qc.barrier()\n",
    "qc.rz(theta, range(5))\n",
    "qc.barrier()\n",
    "\n",
    "for i in reversed(range(n-1)):\n",
    "    qc.cx(i, i+1)\n",
    "qc.h(0)\n",
    "qc.measure(0, 0)\n",
    "\n",
    "qc.draw()"
   ]
  },
  {
   "cell_type": "code",
   "execution_count": 43,
   "id": "ea565dd2-1b13-4d4c-ab67-e82eb3e46c01",
   "metadata": {},
   "outputs": [
    {
     "name": "stdout",
     "output_type": "stream",
     "text": [
      "ParameterView([Parameter(θ)])\n"
     ]
    }
   ],
   "source": [
    "print(qc.parameters)"
   ]
  },
  {
   "cell_type": "code",
   "execution_count": 44,
   "id": "0e3eed47-3735-42d9-a23d-dbaf46e8c75c",
   "metadata": {},
   "outputs": [
    {
     "data": {
      "text/html": [
       "<pre style=\"word-wrap: normal;white-space: pre;background: #fff0;line-height: 1.1;font-family: &quot;Courier New&quot;,Courier,monospace\">     ┌───┐                     ░ ┌────────┐ ░                     ┌───┐┌─┐\n",
       "q_0: ┤ H ├──■──────────────────░─┤ RZ(2π) ├─░──────────────────■──┤ H ├┤M├\n",
       "     └───┘┌─┴─┐                ░ ├────────┤ ░                ┌─┴─┐└───┘└╥┘\n",
       "q_1: ─────┤ X ├──■─────────────░─┤ RZ(2π) ├─░─────────────■──┤ X ├──────╫─\n",
       "          └───┘┌─┴─┐           ░ ├────────┤ ░           ┌─┴─┐└───┘      ║ \n",
       "q_2: ──────────┤ X ├──■────────░─┤ RZ(2π) ├─░────────■──┤ X ├───────────╫─\n",
       "               └───┘┌─┴─┐      ░ ├────────┤ ░      ┌─┴─┐└───┘           ║ \n",
       "q_3: ───────────────┤ X ├──■───░─┤ RZ(2π) ├─░───■──┤ X ├────────────────╫─\n",
       "                    └───┘┌─┴─┐ ░ ├────────┤ ░ ┌─┴─┐└───┘                ║ \n",
       "q_4: ────────────────────┤ X ├─░─┤ RZ(2π) ├─░─┤ X ├─────────────────────╫─\n",
       "                         └───┘ ░ └────────┘ ░ └───┘                     ║ \n",
       "c: 1/═══════════════════════════════════════════════════════════════════╩═\n",
       "                                                                        0 </pre>"
      ],
      "text/plain": [
       "     ┌───┐                     ░ ┌────────┐ ░                     ┌───┐┌─┐\n",
       "q_0: ┤ H ├──■──────────────────░─┤ RZ(2π) ├─░──────────────────■──┤ H ├┤M├\n",
       "     └───┘┌─┴─┐                ░ ├────────┤ ░                ┌─┴─┐└───┘└╥┘\n",
       "q_1: ─────┤ X ├──■─────────────░─┤ RZ(2π) ├─░─────────────■──┤ X ├──────╫─\n",
       "          └───┘┌─┴─┐           ░ ├────────┤ ░           ┌─┴─┐└───┘      ║ \n",
       "q_2: ──────────┤ X ├──■────────░─┤ RZ(2π) ├─░────────■──┤ X ├───────────╫─\n",
       "               └───┘┌─┴─┐      ░ ├────────┤ ░      ┌─┴─┐└───┘           ║ \n",
       "q_3: ───────────────┤ X ├──■───░─┤ RZ(2π) ├─░───■──┤ X ├────────────────╫─\n",
       "                    └───┘┌─┴─┐ ░ ├────────┤ ░ ┌─┴─┐└───┘                ║ \n",
       "q_4: ────────────────────┤ X ├─░─┤ RZ(2π) ├─░─┤ X ├─────────────────────╫─\n",
       "                         └───┘ ░ └────────┘ ░ └───┘                     ║ \n",
       "c: 1/═══════════════════════════════════════════════════════════════════╩═\n",
       "                                                                        0 "
      ]
     },
     "execution_count": 44,
     "metadata": {},
     "output_type": "execute_result"
    }
   ],
   "source": [
    "import numpy as np\n",
    "\n",
    "theta_range = np.linspace(0, 2 * np.pi, 128)\n",
    "\n",
    "circuits = [qc.bind_parameters({theta: theta_val})\n",
    "            for theta_val in theta_range]\n",
    "\n",
    "circuits[-1].draw()"
   ]
  },
  {
   "cell_type": "code",
   "execution_count": 45,
   "id": "bc34f6f3-7514-4b00-bc0f-8fca74b44910",
   "metadata": {},
   "outputs": [],
   "source": [
    "job = execute(qc,\n",
    "              backend=BasicAer.get_backend('qasm_simulator'),\n",
    "              parameter_binds=[{theta: theta_val} for theta_val in theta_range])\n",
    "\n",
    "counts = job.result().get_counts()\n"
   ]
  },
  {
   "cell_type": "code",
   "execution_count": 46,
   "id": "a8c80db6-21fe-4184-9e76-b894ebc974ca",
   "metadata": {},
   "outputs": [
    {
     "data": {
      "text/plain": [
       "<matplotlib.legend.Legend at 0x7f7ff5a06d30>"
      ]
     },
     "execution_count": 46,
     "metadata": {},
     "output_type": "execute_result"
    },
    {
     "data": {
      "image/png": "[encoded data removed]",
      "text/plain": [
       "<Figure size 576x432 with 1 Axes>"
      ]
     },
     "metadata": {
      "needs_background": "light"
     },
     "output_type": "display_data"
    }
   ],
   "source": [
    "import matplotlib.pyplot as plt\n",
    "fig = plt.figure(figsize=(8,6))\n",
    "ax = fig.add_subplot(111)\n",
    "\n",
    "ax.plot(theta_range, list(map(lambda c: c.get('0', 0), counts)), '.-', label='0')\n",
    "ax.plot(theta_range, list(map(lambda c: c.get('1', 0), counts)), '.-', label='1')\n",
    "\n",
    "ax.set_xticks([i * np.pi / 2 for i in range(5)])\n",
    "ax.set_xticklabels(['0', r'$\\frac{\\pi}{2}$', r'$\\pi$', r'$\\frac{3\\pi}{2}$', r'$2\\pi$'], fontsize=14)\n",
    "ax.set_xlabel('θ', fontsize=14)\n",
    "ax.set_ylabel('Counts', fontsize=14)\n",
    "ax.legend(fontsize=14)"
   ]
  },
  {
   "cell_type": "code",
   "execution_count": 47,
   "id": "8dc8f14c-18c7-43fa-b3e4-e4ad1892255c",
   "metadata": {},
   "outputs": [
    {
     "name": "stdout",
     "output_type": "stream",
     "text": [
      "Time compiling over set of bound circuits:  2.0462656021118164\n"
     ]
    }
   ],
   "source": [
    "import time\n",
    "from itertools import combinations\n",
    "from qiskit.compiler import assemble\n",
    "from qiskit.test.mock import FakeVigo\n",
    "\n",
    "start = time.time()\n",
    "qcs = []\n",
    "\n",
    "theta_range = np.linspace(0, 2*np.pi, 32)\n",
    "\n",
    "for n in theta_range:\n",
    "    qc = QuantumCircuit(5)\n",
    "\n",
    "    for k in range(8):\n",
    "        for i,j in combinations(range(5), 2):\n",
    "            qc.cx(i,j)\n",
    "        qc.rz(n, range(5))\n",
    "        for i,j in combinations(range(5), 2):\n",
    "            qc.cx(i,j)\n",
    "\n",
    "    qcs.append(qc)\n",
    "\n",
    "compiled_circuits = transpile(qcs, backend=FakeVigo())\n",
    "qobj = assemble(compiled_circuits, backend=FakeVigo())\n",
    "\n",
    "end = time.time()\n",
    "print('Time compiling over set of bound circuits: ', end-start)"
   ]
  },
  {
   "cell_type": "code",
   "execution_count": 48,
   "id": "88cf216f-16c6-4f38-87be-8f79ed1f078d",
   "metadata": {},
   "outputs": [
    {
     "name": "stdout",
     "output_type": "stream",
     "text": [
      "Time compiling over parameterized circuit, then binding:  1.2677485942840576\n"
     ]
    }
   ],
   "source": [
    "start = time.time()\n",
    "qc = QuantumCircuit(5)\n",
    "theta = Parameter('theta')\n",
    "\n",
    "for k in range(8):\n",
    "    for i,j in combinations(range(5), 2):\n",
    "        qc.cx(i,j)\n",
    "    qc.rz(theta, range(5))\n",
    "    for i,j in combinations(range(5), 2):\n",
    "        qc.cx(i,j)\n",
    "\n",
    "transpiled_qc = transpile(qc, backend=FakeVigo())\n",
    "qobj = assemble([transpiled_qc.bind_parameters({theta: n})\n",
    "                 for n in theta_range], backend=FakeVigo())\n",
    "end = time.time()\n",
    "print('Time compiling over parameterized circuit, then binding: ', end-start)"
   ]
  },
  {
   "cell_type": "code",
   "execution_count": 49,
   "id": "6157e7be-917e-40c6-aacf-2046d8ed4c4d",
   "metadata": {},
   "outputs": [
    {
     "name": "stdout",
     "output_type": "stream",
     "text": [
      "     ┌────────────┐┌────────────┐\n",
      "q_0: ┤0           ├┤0           ├\n",
      "     │  sc_1(phi) ││  sc_2(phi) │\n",
      "q_1: ┤1           ├┤1           ├\n",
      "     ├────────────┤└────────────┘\n",
      "q_2: ┤0           ├──────────────\n",
      "     │  sc_2(phi) │              \n",
      "q_3: ┤1           ├──────────────\n",
      "     └────────────┘              \n"
     ]
    }
   ],
   "source": [
    "phi = Parameter('phi')\n",
    "\n",
    "sub_circ1 = QuantumCircuit(2, name='sc_1')\n",
    "sub_circ1.rz(phi, 0)\n",
    "sub_circ1.rx(phi, 1)\n",
    "\n",
    "sub_circ2 = QuantumCircuit(2, name='sc_2')\n",
    "sub_circ2.rx(phi, 0)\n",
    "sub_circ2.rz(phi, 1)\n",
    "\n",
    "qc = QuantumCircuit(4)\n",
    "qr = qc.qregs[0]\n",
    "\n",
    "qc.append(sub_circ1.to_instruction(), [qr[0], qr[1]])\n",
    "qc.append(sub_circ2.to_instruction(), [qr[0], qr[1]])\n",
    "\n",
    "qc.append(sub_circ2.to_instruction(), [qr[2], qr[3]])\n",
    "\n",
    "print(qc.draw())\n",
    "\n",
    "# The following raises an error: \"QiskitError: 'Name conflict on adding parameter: phi'\"\n",
    "# phi2 = Parameter('phi')\n",
    "# qc.u3(0.1, phi2, 0.3, 0)\n",
    "\n"
   ]
  },
  {
   "cell_type": "code",
   "execution_count": 50,
   "id": "40c85d45-ade1-4cb2-85f6-2f4fb3fdd3db",
   "metadata": {},
   "outputs": [
    {
     "name": "stdout",
     "output_type": "stream",
     "text": [
      "       ┌────────────────┐\n",
      "q76_0: ┤0               ├\n",
      "       │                │\n",
      "q76_1: ┤1 oracle(theta) ├\n",
      "       │                │\n",
      "q76_2: ┤2               ├\n",
      "       └┬──────────────┬┘\n",
      "q76_3: ─┤0             ├─\n",
      "        │              │ \n",
      "q76_4: ─┤1 oracle(phi) ├─\n",
      "        │              │ \n",
      "q76_5: ─┤2             ├─\n",
      "       ┌┴──────────────┴┐\n",
      "q76_6: ┤0               ├\n",
      "       │                │\n",
      "q76_7: ┤1 oracle(gamma) ├\n",
      "       │                │\n",
      "q76_8: ┤2               ├\n",
      "       └────────────────┘\n",
      "       ┌───────────┐                                    \n",
      "q76_0: ┤ RZ(theta) ├──■─────────────────────────────────\n",
      "       └───────────┘┌─┴─┐┌───────────┐                  \n",
      "q76_1: ─────────────┤ X ├┤ RZ(theta) ├──■───────────────\n",
      "                    └───┘└───────────┘┌─┴─┐┌───────────┐\n",
      "q76_2: ───────────────────────────────┤ X ├┤ RZ(theta) ├\n",
      "        ┌─────────┐                   └───┘└───────────┘\n",
      "q76_3: ─┤ RZ(phi) ├───■─────────────────────────────────\n",
      "        └─────────┘ ┌─┴─┐ ┌─────────┐                   \n",
      "q76_4: ─────────────┤ X ├─┤ RZ(phi) ├───■───────────────\n",
      "                    └───┘ └─────────┘ ┌─┴─┐ ┌─────────┐ \n",
      "q76_5: ───────────────────────────────┤ X ├─┤ RZ(phi) ├─\n",
      "       ┌───────────┐                  └───┘ └─────────┘ \n",
      "q76_6: ┤ RZ(gamma) ├──■─────────────────────────────────\n",
      "       └───────────┘┌─┴─┐┌───────────┐                  \n",
      "q76_7: ─────────────┤ X ├┤ RZ(gamma) ├──■───────────────\n",
      "                    └───┘└───────────┘┌─┴─┐┌───────────┐\n",
      "q76_8: ───────────────────────────────┤ X ├┤ RZ(gamma) ├\n",
      "                                      └───┘└───────────┘\n"
     ]
    }
   ],
   "source": [
    "p = Parameter('p')\n",
    "qc = QuantumCircuit(3, name='oracle')\n",
    "qc.rz(p, 0)\n",
    "qc.cx(0, 1)\n",
    "qc.rz(p, 1)\n",
    "qc.cx(1, 2)\n",
    "qc.rz(p, 2)\n",
    "\n",
    "theta = Parameter('theta')\n",
    "phi = Parameter('phi')\n",
    "gamma = Parameter('gamma')\n",
    "\n",
    "qr = QuantumRegister(9)\n",
    "larger_qc = QuantumCircuit(qr)\n",
    "larger_qc.append(qc.to_instruction({p: theta}), qr[0:3])\n",
    "larger_qc.append(qc.to_instruction({p: phi}), qr[3:6])\n",
    "larger_qc.append(qc.to_instruction({p: gamma}), qr[6:9])\n",
    "print(larger_qc.draw())\n",
    "\n",
    "print(larger_qc.decompose().draw())\n"
   ]
  },
  {
   "cell_type": "code",
   "execution_count": 51,
   "id": "f04dc5d7-2787-4e2d-8163-6dbac2fe1909",
   "metadata": {},
   "outputs": [],
   "source": [
    "import numpy as np\n",
    "\n",
    "from qiskit import QuantumCircuit, ClassicalRegister, QuantumRegister\n",
    "from qiskit import execute, BasicAer\n",
    "from qiskit.compiler import transpile\n",
    "from qiskit.quantum_info.operators import Operator, Pauli\n",
    "from qiskit.quantum_info import process_fidelity\n",
    "\n",
    "from qiskit.extensions import RXGate, XGate, CXGate"
   ]
  },
  {
   "cell_type": "code",
   "execution_count": 52,
   "id": "8ca3b1bd-5bff-4d16-b0f0-903b550eff74",
   "metadata": {},
   "outputs": [
    {
     "data": {
      "text/plain": [
       "Operator([[0.+0.j, 0.+0.j, 0.+0.j, 1.+0.j],\n",
       "          [0.+0.j, 0.+0.j, 1.+0.j, 0.+0.j],\n",
       "          [0.+0.j, 1.+0.j, 0.+0.j, 0.+0.j],\n",
       "          [1.+0.j, 0.+0.j, 0.+0.j, 0.+0.j]],\n",
       "         input_dims=(2, 2), output_dims=(2, 2))"
      ]
     },
     "execution_count": 52,
     "metadata": {},
     "output_type": "execute_result"
    }
   ],
   "source": [
    "XX = Operator([[0, 0, 0, 1], [0, 0, 1, 0], [0, 1, 0, 0], [1, 0, 0, 0]])\n",
    "XX"
   ]
  },
  {
   "cell_type": "code",
   "execution_count": 53,
   "id": "39006900-5416-459e-8e86-017e36232c27",
   "metadata": {},
   "outputs": [
    {
     "data": {
      "text/plain": [
       "array([[0.+0.j, 0.+0.j, 0.+0.j, 1.+0.j],\n",
       "       [0.+0.j, 0.+0.j, 1.+0.j, 0.+0.j],\n",
       "       [0.+0.j, 1.+0.j, 0.+0.j, 0.+0.j],\n",
       "       [1.+0.j, 0.+0.j, 0.+0.j, 0.+0.j]])"
      ]
     },
     "execution_count": 53,
     "metadata": {},
     "output_type": "execute_result"
    }
   ],
   "source": [
    "XX.data"
   ]
  },
  {
   "cell_type": "code",
   "execution_count": 54,
   "id": "7086232d-fcfa-45a0-9ca6-211edeff1d4c",
   "metadata": {},
   "outputs": [
    {
     "data": {
      "text/plain": [
       "(4, 4)"
      ]
     },
     "execution_count": 54,
     "metadata": {},
     "output_type": "execute_result"
    }
   ],
   "source": [
    "input_dim, output_dim = XX.dim\n",
    "input_dim, output_dim"
   ]
  },
  {
   "cell_type": "code",
   "execution_count": 55,
   "id": "9f7d9d4f-039f-4519-9be7-1d4ec994d1bb",
   "metadata": {},
   "outputs": [
    {
     "name": "stdout",
     "output_type": "stream",
     "text": [
      "Input dimensions: (2, 2)\n",
      "Output dimensions: (2,)\n"
     ]
    }
   ],
   "source": [
    "op = Operator(np.random.rand(2 ** 1, 2 ** 2))\n",
    "print('Input dimensions:', op.input_dims())\n",
    "print('Output dimensions:', op.output_dims())"
   ]
  },
  {
   "cell_type": "code",
   "execution_count": 56,
   "id": "af0e2175-f9f8-449c-9f34-bae26a18a778",
   "metadata": {},
   "outputs": [
    {
     "name": "stdout",
     "output_type": "stream",
     "text": [
      "Input dimensions: (6,)\n",
      "Output dimensions: (6,)\n"
     ]
    }
   ],
   "source": [
    "op = Operator(np.random.rand(6, 6))\n",
    "print('Input dimensions:', op.input_dims())\n",
    "print('Output dimensions:', op.output_dims())"
   ]
  },
  {
   "cell_type": "code",
   "execution_count": 57,
   "id": "7a07e0c0-f124-43b7-bce1-a0f8b20040dc",
   "metadata": {},
   "outputs": [
    {
     "name": "stdout",
     "output_type": "stream",
     "text": [
      "Input dimensions: (4,)\n",
      "Output dimensions: (2,)\n"
     ]
    }
   ],
   "source": [
    "# Force input dimension to be (4,) rather than (2, 2)\n",
    "op = Operator(np.random.rand(2 ** 1, 2 ** 2), input_dims=[4])\n",
    "print('Input dimensions:', op.input_dims())\n",
    "print('Output dimensions:', op.output_dims())\n"
   ]
  },
  {
   "cell_type": "code",
   "execution_count": 58,
   "id": "07250f1b-1e8c-4d32-8497-ef4ce68850b4",
   "metadata": {},
   "outputs": [
    {
     "name": "stdout",
     "output_type": "stream",
     "text": [
      "Input dimensions: (2, 3)\n",
      "Output dimensions: (2, 3)\n"
     ]
    }
   ],
   "source": [
    "# Specify system is a qubit and qutrit\n",
    "op = Operator(np.random.rand(6, 6),\n",
    "              input_dims=[2, 3], output_dims=[2, 3])\n",
    "print('Input dimensions:', op.input_dims())\n",
    "print('Output dimensions:', op.output_dims())"
   ]
  },
  {
   "cell_type": "code",
   "execution_count": 59,
   "id": "ade407c7-2b17-40e8-9495-934723edc9ec",
   "metadata": {},
   "outputs": [
    {
     "name": "stdout",
     "output_type": "stream",
     "text": [
      "Dimension of input system 0: (2,)\n",
      "Dimension of input system 1: (3,)\n"
     ]
    }
   ],
   "source": [
    "print('Dimension of input system 0:', op.input_dims([0]))\n",
    "print('Dimension of input system 1:', op.input_dims([1]))"
   ]
  },
  {
   "cell_type": "code",
   "execution_count": 60,
   "id": "f581b727-974c-40e6-ba04-ca92dd79d9f1",
   "metadata": {},
   "outputs": [
    {
     "name": "stderr",
     "output_type": "stream",
     "text": [
      "/home/arun/DS/manoj_das/env2/lib/python3.8/site-packages/qiskit/quantum_info/operators/symplectic/pauli.py:187: DeprecationWarning: Initializing Pauli from `Pauli(label=l)` kwarg is deprecated as of version 0.17.0 and will be removed no earlier than 3 months after the release date. Use `Pauli(l)` instead.\n",
      "  base_z, base_x, base_phase = self._from_label_deprecated(label)\n"
     ]
    },
    {
     "data": {
      "text/plain": [
       "Operator([[0.+0.j, 0.+0.j, 0.+0.j, 1.+0.j],\n",
       "          [0.+0.j, 0.+0.j, 1.+0.j, 0.+0.j],\n",
       "          [0.+0.j, 1.+0.j, 0.+0.j, 0.+0.j],\n",
       "          [1.+0.j, 0.+0.j, 0.+0.j, 0.+0.j]],\n",
       "         input_dims=(2, 2), output_dims=(2, 2))"
      ]
     },
     "execution_count": 60,
     "metadata": {},
     "output_type": "execute_result"
    }
   ],
   "source": [
    "# Create an Operator from a Pauli object\n",
    "\n",
    "pauliXX = Pauli(label='XX')\n",
    "Operator(pauliXX)"
   ]
  },
  {
   "cell_type": "code",
   "execution_count": 61,
   "id": "567a0769-0d27-4110-9cc0-4de0f8f493dd",
   "metadata": {},
   "outputs": [
    {
     "data": {
      "text/plain": [
       "Operator([[1.+0.j, 0.+0.j, 0.+0.j, 0.+0.j],\n",
       "          [0.+0.j, 0.+0.j, 0.+0.j, 1.+0.j],\n",
       "          [0.+0.j, 0.+0.j, 1.+0.j, 0.+0.j],\n",
       "          [0.+0.j, 1.+0.j, 0.+0.j, 0.+0.j]],\n",
       "         input_dims=(2, 2), output_dims=(2, 2))"
      ]
     },
     "execution_count": 61,
     "metadata": {},
     "output_type": "execute_result"
    }
   ],
   "source": [
    "# Create an Operator for a Gate object\n",
    "Operator(CXGate())\n",
    "\n"
   ]
  },
  {
   "cell_type": "code",
   "execution_count": 62,
   "id": "c58b05ee-e7a9-4945-9cce-79df4ce528b4",
   "metadata": {},
   "outputs": [
    {
     "data": {
      "text/plain": [
       "Operator([[0.70710678+0.j        , 0.        -0.70710678j],\n",
       "          [0.        -0.70710678j, 0.70710678+0.j        ]],\n",
       "         input_dims=(2,), output_dims=(2,))"
      ]
     },
     "execution_count": 62,
     "metadata": {},
     "output_type": "execute_result"
    }
   ],
   "source": [
    "# Create an operator from a parameterized Gate object\n",
    "Operator(RXGate(np.pi / 2))\n"
   ]
  },
  {
   "cell_type": "code",
   "execution_count": 63,
   "id": "55ea88d3-1182-4d70-bd46-01dbc2e87cc8",
   "metadata": {},
   "outputs": [
    {
     "data": {
      "text/plain": [
       "Operator([[ 0.70710678+0.j,  0.70710678+0.j,  0.        +0.j, ...,\n",
       "            0.        +0.j,  0.        +0.j,  0.        +0.j],\n",
       "          [ 0.        +0.j,  0.        +0.j,  0.70710678+0.j, ...,\n",
       "            0.        +0.j,  0.        +0.j,  0.        +0.j],\n",
       "          [ 0.        +0.j,  0.        +0.j,  0.        +0.j, ...,\n",
       "            0.        +0.j,  0.        +0.j,  0.        +0.j],\n",
       "          ...,\n",
       "          [ 0.        +0.j,  0.        +0.j,  0.        +0.j, ...,\n",
       "            0.        +0.j,  0.        +0.j,  0.        +0.j],\n",
       "          [ 0.        +0.j,  0.        +0.j,  0.70710678+0.j, ...,\n",
       "            0.        +0.j,  0.        +0.j,  0.        +0.j],\n",
       "          [ 0.70710678+0.j, -0.70710678+0.j,  0.        +0.j, ...,\n",
       "            0.        +0.j,  0.        +0.j,  0.        +0.j]],\n",
       "         input_dims=(2, 2, 2, 2, 2, 2, 2, 2, 2, 2), output_dims=(2, 2, 2, 2, 2, 2, 2, 2, 2, 2))"
      ]
     },
     "execution_count": 63,
     "metadata": {},
     "output_type": "execute_result"
    }
   ],
   "source": [
    "# Create an operator from a QuantumCircuit object\n",
    "circ = QuantumCircuit(10)\n",
    "circ.h(0)\n",
    "for j in range(1, 10):\n",
    "    circ.cx(j-1, j)\n",
    "\n",
    "# Convert circuit to an operator by implicit unitary simulation\n",
    "Operator(circ)"
   ]
  },
  {
   "cell_type": "code",
   "execution_count": 65,
   "id": "f8bd7df5-b914-4624-9806-defd47623260",
   "metadata": {},
   "outputs": [
    {
     "data": {
      "text/html": [
       "<pre style=\"word-wrap: normal;white-space: pre;background: #fff0;line-height: 1.1;font-family: &quot;Courier New&quot;,Courier,monospace\">     ┌──────────┐┌─┐   \n",
       "q_0: ┤0         ├┤M├───\n",
       "     │  unitary │└╥┘┌─┐\n",
       "q_1: ┤1         ├─╫─┤M├\n",
       "     └──────────┘ ║ └╥┘\n",
       "c: 2/═════════════╩══╩═\n",
       "                  0  1 </pre>"
      ],
      "text/plain": [
       "     ┌──────────┐┌─┐   \n",
       "q_0: ┤0         ├┤M├───\n",
       "     │  unitary │└╥┘┌─┐\n",
       "q_1: ┤1         ├─╫─┤M├\n",
       "     └──────────┘ ║ └╥┘\n",
       "c: 2/═════════════╩══╩═\n",
       "                  0  1 "
      ]
     },
     "execution_count": 65,
     "metadata": {},
     "output_type": "execute_result"
    }
   ],
   "source": [
    "# Create an operator\n",
    "XX = Operator(Pauli(label='XX'))\n",
    "\n",
    "# Add to a circuit\n",
    "circ = QuantumCircuit(2, 2)\n",
    "circ.append(XX, [0, 1])\n",
    "circ.measure([0,1], [0,1])\n",
    "# circ.draw('mpl')\n",
    "circ.draw()"
   ]
  },
  {
   "cell_type": "code",
   "execution_count": 66,
   "id": "ccac1eb7-a1b9-4987-85fb-3f32e499e362",
   "metadata": {},
   "outputs": [
    {
     "data": {
      "text/plain": [
       "{'11': 1024}"
      ]
     },
     "execution_count": 66,
     "metadata": {},
     "output_type": "execute_result"
    }
   ],
   "source": [
    "backend = BasicAer.get_backend('qasm_simulator')\n",
    "job = execute(circ, backend, basis_gates=['u1','u2','u3','cx'])\n",
    "job.result().get_counts(0)"
   ]
  },
  {
   "cell_type": "code",
   "execution_count": 67,
   "id": "7c6a1821-160d-4b76-a132-557ed85ab16a",
   "metadata": {},
   "outputs": [
    {
     "data": {
      "text/html": [
       "<pre style=\"word-wrap: normal;white-space: pre;background: #fff0;line-height: 1.1;font-family: &quot;Courier New&quot;,Courier,monospace\">     ┌────────────┐┌─┐   \n",
       "q_0: ┤0           ├┤M├───\n",
       "     │  PAULI(XX) │└╥┘┌─┐\n",
       "q_1: ┤1           ├─╫─┤M├\n",
       "     └────────────┘ ║ └╥┘\n",
       "c: 2/═══════════════╩══╩═\n",
       "                    0  1 </pre>"
      ],
      "text/plain": [
       "     ┌────────────┐┌─┐   \n",
       "q_0: ┤0           ├┤M├───\n",
       "     │  PAULI(XX) │└╥┘┌─┐\n",
       "q_1: ┤1           ├─╫─┤M├\n",
       "     └────────────┘ ║ └╥┘\n",
       "c: 2/═══════════════╩══╩═\n",
       "                    0  1 "
      ]
     },
     "execution_count": 67,
     "metadata": {},
     "output_type": "execute_result"
    }
   ],
   "source": [
    "# Add to a circuit\n",
    "circ2 = QuantumCircuit(2, 2)\n",
    "circ2.append(Pauli(label='XX'), [0, 1])\n",
    "circ2.measure([0,1], [0,1])\n",
    "circ2.draw()"
   ]
  },
  {
   "cell_type": "code",
   "execution_count": 68,
   "id": "e9813cae-9532-4042-8a07-1f245f3e9a7d",
   "metadata": {},
   "outputs": [
    {
     "data": {
      "text/plain": [
       "Operator([[ 0.+0.j,  0.+0.j,  1.+0.j,  0.+0.j],\n",
       "          [ 0.+0.j, -0.+0.j,  0.+0.j, -1.+0.j],\n",
       "          [ 1.+0.j,  0.+0.j,  0.+0.j,  0.+0.j],\n",
       "          [ 0.+0.j, -1.+0.j,  0.+0.j, -0.+0.j]],\n",
       "         input_dims=(2, 2), output_dims=(2, 2))"
      ]
     },
     "execution_count": 68,
     "metadata": {},
     "output_type": "execute_result"
    }
   ],
   "source": [
    "A = Operator(Pauli(label='X'))\n",
    "B = Operator(Pauli(label='Z'))\n",
    "A.tensor(B)"
   ]
  },
  {
   "cell_type": "code",
   "execution_count": 69,
   "id": "eed8d11b-9cc6-4740-80a5-680939dc433d",
   "metadata": {},
   "outputs": [
    {
     "data": {
      "text/plain": [
       "Operator([[ 0.+0.j,  1.+0.j,  0.+0.j,  0.+0.j],\n",
       "          [ 1.+0.j,  0.+0.j,  0.+0.j,  0.+0.j],\n",
       "          [ 0.+0.j,  0.+0.j, -0.+0.j, -1.+0.j],\n",
       "          [ 0.+0.j,  0.+0.j, -1.+0.j, -0.+0.j]],\n",
       "         input_dims=(2, 2), output_dims=(2, 2))"
      ]
     },
     "execution_count": 69,
     "metadata": {},
     "output_type": "execute_result"
    }
   ],
   "source": [
    "A = Operator(Pauli(label='X'))\n",
    "B = Operator(Pauli(label='Z'))\n",
    "A.expand(B)"
   ]
  },
  {
   "cell_type": "code",
   "execution_count": 70,
   "id": "6f104a76-fdc8-44e7-b6e0-58136b5e9f4a",
   "metadata": {},
   "outputs": [
    {
     "data": {
      "text/plain": [
       "Operator([[ 0.+0.j,  1.+0.j],\n",
       "          [-1.+0.j,  0.+0.j]],\n",
       "         input_dims=(2,), output_dims=(2,))"
      ]
     },
     "execution_count": 70,
     "metadata": {},
     "output_type": "execute_result"
    }
   ],
   "source": [
    "A = Operator(Pauli(label='X'))\n",
    "B = Operator(Pauli(label='Z'))\n",
    "A.compose(B)"
   ]
  },
  {
   "cell_type": "code",
   "execution_count": 71,
   "id": "22a3c3c4-5517-470e-aea4-fbecfd1b6e69",
   "metadata": {},
   "outputs": [
    {
     "data": {
      "text/plain": [
       "Operator([[ 0.+0.j, -1.+0.j],\n",
       "          [ 1.+0.j,  0.+0.j]],\n",
       "         input_dims=(2,), output_dims=(2,))"
      ]
     },
     "execution_count": 71,
     "metadata": {},
     "output_type": "execute_result"
    }
   ],
   "source": [
    "A = Operator(Pauli(label='X'))\n",
    "B = Operator(Pauli(label='Z'))\n",
    "A.compose(B, front=True)\n"
   ]
  },
  {
   "cell_type": "code",
   "execution_count": 72,
   "id": "c6150214-ec03-4eaf-ae36-f72c645d7ae1",
   "metadata": {},
   "outputs": [
    {
     "data": {
      "text/plain": [
       "Operator([[ 0.+0.j,  0.+0.j,  0.+0.j,  0.+0.j,  1.+0.j,  0.+0.j,  0.+0.j,\n",
       "            0.+0.j],\n",
       "          [ 0.+0.j,  0.+0.j,  0.+0.j,  0.+0.j,  0.+0.j, -1.+0.j,  0.+0.j,\n",
       "            0.+0.j],\n",
       "          [ 0.+0.j,  0.+0.j,  0.+0.j,  0.+0.j,  0.+0.j,  0.+0.j,  1.+0.j,\n",
       "            0.+0.j],\n",
       "          [ 0.+0.j,  0.+0.j,  0.+0.j,  0.+0.j,  0.+0.j,  0.+0.j,  0.+0.j,\n",
       "           -1.+0.j],\n",
       "          [ 1.+0.j,  0.+0.j,  0.+0.j,  0.+0.j,  0.+0.j,  0.+0.j,  0.+0.j,\n",
       "            0.+0.j],\n",
       "          [ 0.+0.j, -1.+0.j,  0.+0.j,  0.+0.j,  0.+0.j,  0.+0.j,  0.+0.j,\n",
       "            0.+0.j],\n",
       "          [ 0.+0.j,  0.+0.j,  1.+0.j,  0.+0.j,  0.+0.j,  0.+0.j,  0.+0.j,\n",
       "            0.+0.j],\n",
       "          [ 0.+0.j,  0.+0.j,  0.+0.j, -1.+0.j,  0.+0.j,  0.+0.j,  0.+0.j,\n",
       "            0.+0.j]],\n",
       "         input_dims=(2, 2, 2), output_dims=(2, 2, 2))"
      ]
     },
     "execution_count": 72,
     "metadata": {},
     "output_type": "execute_result"
    }
   ],
   "source": [
    "# Compose XZ with an 3-qubit identity operator\n",
    "op = Operator(np.eye(2 ** 3))\n",
    "XZ = Operator(Pauli(label='XZ'))\n",
    "op.compose(XZ, qargs=[0, 2])"
   ]
  },
  {
   "cell_type": "code",
   "execution_count": 73,
   "id": "00ff065e-995a-4418-aa45-1a5a99aa3fcc",
   "metadata": {},
   "outputs": [
    {
     "data": {
      "text/plain": [
       "Operator([[ 0.+0.j,  0.+0.j,  0.+0.j,  0.+0.j,  1.+0.j,  0.+0.j,  0.+0.j,\n",
       "            0.+0.j],\n",
       "          [ 0.+0.j,  0.+0.j,  0.+0.j,  0.+0.j,  0.+0.j, -1.+0.j,  0.+0.j,\n",
       "            0.+0.j],\n",
       "          [ 0.+0.j,  0.+0.j,  0.+0.j,  0.+0.j,  0.+0.j,  0.+0.j,  1.+0.j,\n",
       "            0.+0.j],\n",
       "          [ 0.+0.j,  0.+0.j,  0.+0.j,  0.+0.j,  0.+0.j,  0.+0.j,  0.+0.j,\n",
       "           -1.+0.j],\n",
       "          [ 1.+0.j,  0.+0.j,  0.+0.j,  0.+0.j,  0.+0.j,  0.+0.j,  0.+0.j,\n",
       "            0.+0.j],\n",
       "          [ 0.+0.j, -1.+0.j,  0.+0.j,  0.+0.j,  0.+0.j,  0.+0.j,  0.+0.j,\n",
       "            0.+0.j],\n",
       "          [ 0.+0.j,  0.+0.j,  1.+0.j,  0.+0.j,  0.+0.j,  0.+0.j,  0.+0.j,\n",
       "            0.+0.j],\n",
       "          [ 0.+0.j,  0.+0.j,  0.+0.j, -1.+0.j,  0.+0.j,  0.+0.j,  0.+0.j,\n",
       "            0.+0.j]],\n",
       "         input_dims=(2, 2, 2), output_dims=(2, 2, 2))"
      ]
     },
     "execution_count": 73,
     "metadata": {},
     "output_type": "execute_result"
    }
   ],
   "source": [
    "# Compose YX in front of the previous operator\n",
    "op = Operator(np.eye(2 ** 3))\n",
    "YX = Operator(Pauli(label='YX'))\n",
    "op.compose(XZ, qargs=[0, 2], front=True)\n"
   ]
  },
  {
   "cell_type": "code",
   "execution_count": 74,
   "id": "1e2b08f4-dfcc-4d40-b751-42d3332dc086",
   "metadata": {},
   "outputs": [
    {
     "data": {
      "text/plain": [
       "Operator([[-1.5+0.j,  0. +0.j,  0. +0.j,  0. +0.j],\n",
       "          [ 0. +0.j,  1.5+0.j,  1. +0.j,  0. +0.j],\n",
       "          [ 0. +0.j,  1. +0.j,  1.5+0.j,  0. +0.j],\n",
       "          [ 0. +0.j,  0. +0.j,  0. +0.j, -1.5+0.j]],\n",
       "         input_dims=(2, 2), output_dims=(2, 2))"
      ]
     },
     "execution_count": 74,
     "metadata": {},
     "output_type": "execute_result"
    }
   ],
   "source": [
    "XX = Operator(Pauli(label='XX'))\n",
    "YY = Operator(Pauli(label='YY'))\n",
    "ZZ = Operator(Pauli(label='ZZ'))\n",
    "\n",
    "op = 0.5 * (XX + YY - 3 * ZZ)\n",
    "op"
   ]
  },
  {
   "cell_type": "code",
   "execution_count": 75,
   "id": "97989325-6ca6-4211-9e6d-6bec2cf426d0",
   "metadata": {},
   "outputs": [
    {
     "data": {
      "text/plain": [
       "False"
      ]
     },
     "execution_count": 75,
     "metadata": {},
     "output_type": "execute_result"
    }
   ],
   "source": [
    "op.is_unitary()"
   ]
  },
  {
   "cell_type": "code",
   "execution_count": 76,
   "id": "95a90dc3-75b9-4b7a-9474-4db5347d3e43",
   "metadata": {},
   "outputs": [
    {
     "data": {
      "text/plain": [
       "Operator([[0.+0.j, 1.+0.j],\n",
       "          [1.+0.j, 0.+0.j]],\n",
       "         input_dims=(2,), output_dims=(2,))"
      ]
     },
     "execution_count": 76,
     "metadata": {},
     "output_type": "execute_result"
    }
   ],
   "source": [
    "# Compose with a matrix passed as a list\n",
    "Operator(np.eye(2)).compose([[0, 1], [1, 0]])\n",
    "\n"
   ]
  },
  {
   "cell_type": "code",
   "execution_count": 77,
   "id": "501341b3-04b0-406c-9eff-1186444f58b1",
   "metadata": {},
   "outputs": [
    {
     "data": {
      "text/plain": [
       "True"
      ]
     },
     "execution_count": 77,
     "metadata": {},
     "output_type": "execute_result"
    }
   ],
   "source": [
    "Operator(Pauli(label='X')) == Operator(XGate())\n",
    "\n"
   ]
  },
  {
   "cell_type": "code",
   "execution_count": 78,
   "id": "08eb442b-c882-48c1-9474-1f750a27ffbf",
   "metadata": {},
   "outputs": [
    {
     "data": {
      "text/plain": [
       "False"
      ]
     },
     "execution_count": 78,
     "metadata": {},
     "output_type": "execute_result"
    }
   ],
   "source": [
    "Operator(XGate()) == np.exp(1j * 0.5) * Operator(XGate())"
   ]
  },
  {
   "cell_type": "code",
   "execution_count": 79,
   "id": "466dd97f-afdf-4427-932b-b2b86dad6887",
   "metadata": {},
   "outputs": [
    {
     "name": "stdout",
     "output_type": "stream",
     "text": [
      "Process fidelity = 1.0\n"
     ]
    }
   ],
   "source": [
    "# Two operators which differ only by phase\n",
    "op_a = Operator(XGate())\n",
    "op_b = np.exp(1j * 0.5) * Operator(XGate())\n",
    "\n",
    "# Compute process fidelity\n",
    "F = process_fidelity(op_a, op_b)\n",
    "print('Process fidelity =', F)\n"
   ]
  },
  {
   "cell_type": "code",
   "execution_count": 80,
   "id": "ec4039d1-d8d8-42ff-b1d7-c14a231d28d8",
   "metadata": {},
   "outputs": [],
   "source": [
    "from qiskit import QuantumCircuit, ClassicalRegister, QuantumRegister\n"
   ]
  },
  {
   "cell_type": "code",
   "execution_count": 81,
   "id": "76ddc422-f09e-4b98-b8a2-6d8c2f851356",
   "metadata": {},
   "outputs": [],
   "source": [
    "# Build a quantum circuit\n",
    "circuit = QuantumCircuit(3, 3)\n",
    "\n",
    "circuit.x(1)\n",
    "circuit.h(range(3))\n",
    "circuit.cx(0, 1)\n",
    "circuit.measure(range(3), range(3));\n"
   ]
  },
  {
   "cell_type": "code",
   "execution_count": 82,
   "id": "b12e8d7a-1f00-4578-a6d3-27619545c615",
   "metadata": {},
   "outputs": [
    {
     "name": "stdout",
     "output_type": "stream",
     "text": [
      "     ┌───┐          ┌─┐   \n",
      "q_0: ┤ H ├───────■──┤M├───\n",
      "     ├───┤┌───┐┌─┴─┐└╥┘┌─┐\n",
      "q_1: ┤ X ├┤ H ├┤ X ├─╫─┤M├\n",
      "     ├───┤└┬─┬┘└───┘ ║ └╥┘\n",
      "q_2: ┤ H ├─┤M├───────╫──╫─\n",
      "     └───┘ └╥┘       ║  ║ \n",
      "c: 3/═══════╩════════╩══╩═\n",
      "            2        0  1 \n"
     ]
    }
   ],
   "source": [
    "print(circuit)\n",
    "\n"
   ]
  },
  {
   "cell_type": "code",
   "execution_count": 83,
   "id": "57dd726e-847e-463d-98d5-58501d82282a",
   "metadata": {},
   "outputs": [
    {
     "data": {
      "text/html": [
       "<pre style=\"word-wrap: normal;white-space: pre;background: #fff0;line-height: 1.1;font-family: &quot;Courier New&quot;,Courier,monospace\">     ┌───┐          ┌─┐   \n",
       "q_0: ┤ H ├───────■──┤M├───\n",
       "     ├───┤┌───┐┌─┴─┐└╥┘┌─┐\n",
       "q_1: ┤ X ├┤ H ├┤ X ├─╫─┤M├\n",
       "     ├───┤└┬─┬┘└───┘ ║ └╥┘\n",
       "q_2: ┤ H ├─┤M├───────╫──╫─\n",
       "     └───┘ └╥┘       ║  ║ \n",
       "c: 3/═══════╩════════╩══╩═\n",
       "            2        0  1 </pre>"
      ],
      "text/plain": [
       "     ┌───┐          ┌─┐   \n",
       "q_0: ┤ H ├───────■──┤M├───\n",
       "     ├───┤┌───┐┌─┴─┐└╥┘┌─┐\n",
       "q_1: ┤ X ├┤ H ├┤ X ├─╫─┤M├\n",
       "     ├───┤└┬─┬┘└───┘ ║ └╥┘\n",
       "q_2: ┤ H ├─┤M├───────╫──╫─\n",
       "     └───┘ └╥┘       ║  ║ \n",
       "c: 3/═══════╩════════╩══╩═\n",
       "            2        0  1 "
      ]
     },
     "execution_count": 83,
     "metadata": {},
     "output_type": "execute_result"
    }
   ],
   "source": [
    "circuit.draw()\n",
    "\n"
   ]
  },
  {
   "cell_type": "code",
   "execution_count": 84,
   "id": "c23192c1-e9ea-4209-b537-c6e9521d32f1",
   "metadata": {},
   "outputs": [],
   "source": [
    "# Draw a new circuit with barriers and more registers\n",
    "\n",
    "q_a = QuantumRegister(3, name='qa')\n",
    "q_b = QuantumRegister(5, name='qb')\n",
    "c_a = ClassicalRegister(3)\n",
    "c_b = ClassicalRegister(5)\n",
    "\n",
    "circuit = QuantumCircuit(q_a, q_b, c_a, c_b)\n",
    "\n",
    "circuit.x(q_a[1])\n",
    "circuit.x(q_b[1])\n",
    "circuit.x(q_b[2])\n",
    "circuit.x(q_b[4])\n",
    "circuit.barrier()\n",
    "circuit.h(q_a)\n",
    "circuit.barrier(q_a)\n",
    "circuit.h(q_b)\n",
    "circuit.cswap(q_b[0], q_b[1], q_b[2])\n",
    "circuit.cswap(q_b[2], q_b[3], q_b[4])\n",
    "circuit.cswap(q_b[3], q_b[4], q_b[0])\n",
    "circuit.barrier(q_b)\n",
    "circuit.measure(q_a, c_a)\n",
    "circuit.measure(q_b, c_b);\n"
   ]
  },
  {
   "cell_type": "code",
   "execution_count": 85,
   "id": "aaab6373-420e-43af-9796-f8d93bc80106",
   "metadata": {},
   "outputs": [
    {
     "name": "stdout",
     "output_type": "stream",
     "text": [
      "            ░ ┌───┐ ░    ┌─┐                           \n",
      "qa_0: ──────░─┤ H ├─░────┤M├───────────────────────────\n",
      "      ┌───┐ ░ ├───┤ ░    └╥┘┌─┐                        \n",
      "qa_1: ┤ X ├─░─┤ H ├─░─────╫─┤M├────────────────────────\n",
      "      └───┘ ░ ├───┤ ░     ║ └╥┘┌─┐                     \n",
      "qa_2: ──────░─┤ H ├─░─────╫──╫─┤M├─────────────────────\n",
      "            ░ ├───┤ ░     ║  ║ └╥┘    ░ ┌─┐            \n",
      "qb_0: ──────░─┤ H ├─■─────╫──╫──╫──X──░─┤M├────────────\n",
      "      ┌───┐ ░ ├───┤ │     ║  ║  ║  │  ░ └╥┘┌─┐         \n",
      "qb_1: ┤ X ├─░─┤ H ├─X─────╫──╫──╫──┼──░──╫─┤M├─────────\n",
      "      ├───┤ ░ ├───┤ │     ║  ║  ║  │  ░  ║ └╥┘┌─┐      \n",
      "qb_2: ┤ X ├─░─┤ H ├─X──■──╫──╫──╫──┼──░──╫──╫─┤M├──────\n",
      "      └───┘ ░ ├───┤    │  ║  ║  ║  │  ░  ║  ║ └╥┘┌─┐   \n",
      "qb_3: ──────░─┤ H ├────X──╫──╫──╫──■──░──╫──╫──╫─┤M├───\n",
      "      ┌───┐ ░ ├───┤    │  ║  ║  ║  │  ░  ║  ║  ║ └╥┘┌─┐\n",
      "qb_4: ┤ X ├─░─┤ H ├────X──╫──╫──╫──X──░──╫──╫──╫──╫─┤M├\n",
      "      └───┘ ░ └───┘       ║  ║  ║     ░  ║  ║  ║  ║ └╥┘\n",
      "c0: 3/════════════════════╩══╩══╩════════╬══╬══╬══╬══╬═\n",
      "                          0  1  2        ║  ║  ║  ║  ║ \n",
      "                                         ║  ║  ║  ║  ║ \n",
      "c1: 5/═══════════════════════════════════╩══╩══╩══╩══╩═\n",
      "                                         0  1  2  3  4 \n"
     ]
    }
   ],
   "source": [
    "print(circuit)"
   ]
  },
  {
   "cell_type": "code",
   "execution_count": 86,
   "id": "cf1353f5-44e9-4bb1-b968-634d4cc1bd7c",
   "metadata": {},
   "outputs": [],
   "source": [
    "from qiskit import QuantumCircuit\n",
    "from qiskit.compiler import transpile\n",
    "from qiskit.transpiler import PassManager\n"
   ]
  },
  {
   "cell_type": "code",
   "execution_count": 87,
   "id": "985fb2b3-d6a1-41d1-95fb-c589b8482db6",
   "metadata": {},
   "outputs": [
    {
     "data": {
      "text/html": [
       "<pre style=\"word-wrap: normal;white-space: pre;background: #fff0;line-height: 1.1;font-family: &quot;Courier New&quot;,Courier,monospace\">          \n",
       "q_0: ──■──\n",
       "       │  \n",
       "q_1: ──■──\n",
       "     ┌─┴─┐\n",
       "q_2: ┤ X ├\n",
       "     └───┘</pre>"
      ],
      "text/plain": [
       "          \n",
       "q_0: ──■──\n",
       "       │  \n",
       "q_1: ──■──\n",
       "     ┌─┴─┐\n",
       "q_2: ┤ X ├\n",
       "     └───┘"
      ]
     },
     "execution_count": 87,
     "metadata": {},
     "output_type": "execute_result"
    }
   ],
   "source": [
    "circ = QuantumCircuit(3)\n",
    "circ.ccx(0, 1, 2)\n",
    "circ.draw()"
   ]
  },
  {
   "cell_type": "code",
   "execution_count": 88,
   "id": "3a8935f0-57da-4359-bfbe-bc4de06d0dd6",
   "metadata": {},
   "outputs": [
    {
     "name": "stdout",
     "output_type": "stream",
     "text": [
      "                                                                       »\n",
      "q_0: ──────────────────────────────■────────────────────────────────■──»\n",
      "                                   │                  ┌─────────┐   │  »\n",
      "q_1: ─────────────■────────────────┼───────────────■──┤ U1(π/4) ├───┼──»\n",
      "     ┌─────────┐┌─┴─┐┌──────────┐┌─┴─┐┌─────────┐┌─┴─┐├─────────┴┐┌─┴─┐»\n",
      "q_2: ┤ U2(0,π) ├┤ X ├┤ U1(-π/4) ├┤ X ├┤ U1(π/4) ├┤ X ├┤ U1(-π/4) ├┤ X ├»\n",
      "     └─────────┘└───┘└──────────┘└───┘└─────────┘└───┘└──────────┘└───┘»\n",
      "«                ┌─────────┐      \n",
      "«q_0: ─────■─────┤ U1(π/4) ├───■──\n",
      "«        ┌─┴─┐   ├─────────┴┐┌─┴─┐\n",
      "«q_1: ───┤ X ├───┤ U1(-π/4) ├┤ X ├\n",
      "«     ┌──┴───┴──┐├─────────┬┘└───┘\n",
      "«q_2: ┤ U1(π/4) ├┤ U2(0,π) ├──────\n",
      "«     └─────────┘└─────────┘      \n"
     ]
    }
   ],
   "source": [
    "from qiskit.transpiler.passes import Unroller\n",
    "pass_ = Unroller(['u1', 'u2', 'u3', 'cx'])\n",
    "pm = PassManager(pass_)\n",
    "new_circ = pm.run(circ)\n",
    "print(new_circ)"
   ]
  },
  {
   "cell_type": "code",
   "execution_count": 89,
   "id": "e1bdc1f7-3b6c-4727-b5be-84fa05b313b9",
   "metadata": {},
   "outputs": [
    {
     "data": {
      "text/plain": [
       "['ALAPSchedule',\n",
       " 'ASAPSchedule',\n",
       " 'ApplyLayout',\n",
       " 'BarrierBeforeFinalMeasurements',\n",
       " 'BasicSwap',\n",
       " 'BasisTranslator',\n",
       " 'CSPLayout',\n",
       " 'CXCancellation',\n",
       " 'CXDirection',\n",
       " 'CheckCXDirection',\n",
       " 'CheckGateDirection',\n",
       " 'CheckMap',\n",
       " 'Collect2qBlocks',\n",
       " 'CommutationAnalysis',\n",
       " 'CommutativeCancellation',\n",
       " 'ConsolidateBlocks',\n",
       " 'CountOps',\n",
       " 'CountOpsLongestPath',\n",
       " 'CrosstalkAdaptiveSchedule',\n",
       " 'DAGFixedPoint',\n",
       " 'DAGLongestPath',\n",
       " 'Decompose',\n",
       " 'DenseLayout',\n",
       " 'Depth',\n",
       " 'EnlargeWithAncilla',\n",
       " 'Error',\n",
       " 'FixedPoint',\n",
       " 'FullAncillaAllocation',\n",
       " 'GateDirection',\n",
       " 'HoareOptimizer',\n",
       " 'Layout2qDistance',\n",
       " 'LayoutTransformation',\n",
       " 'LookaheadSwap',\n",
       " 'MergeAdjacentBarriers',\n",
       " 'NoiseAdaptiveLayout',\n",
       " 'NumTensorFactors',\n",
       " 'Optimize1qGates',\n",
       " 'Optimize1qGatesDecomposition',\n",
       " 'OptimizeSwapBeforeMeasure',\n",
       " 'RZXCalibrationBuilder',\n",
       " 'RemoveDiagonalGatesBeforeMeasure',\n",
       " 'RemoveFinalMeasurements',\n",
       " 'RemoveResetInZeroState',\n",
       " 'ResourceEstimation',\n",
       " 'SabreLayout',\n",
       " 'SabreSwap',\n",
       " 'SetLayout',\n",
       " 'Size',\n",
       " 'StochasticSwap',\n",
       " 'TemplateOptimization',\n",
       " 'TimeUnitConversion',\n",
       " 'TrivialLayout',\n",
       " 'UnitarySynthesis',\n",
       " 'Unroll3qOrMore',\n",
       " 'UnrollCustomDefinitions',\n",
       " 'Unroller',\n",
       " 'Width']"
      ]
     },
     "execution_count": 89,
     "metadata": {},
     "output_type": "execute_result"
    }
   ],
   "source": [
    "from qiskit.transpiler import passes\n",
    "[pass_ for pass_ in dir(passes) if pass_[0].isupper()]"
   ]
  },
  {
   "cell_type": "code",
   "execution_count": 90,
   "id": "2ec2fafb-0693-4b37-86d6-b33a2f660354",
   "metadata": {},
   "outputs": [],
   "source": [
    "from qiskit.transpiler import CouplingMap, Layout\n",
    "from qiskit.transpiler.passes import BasicSwap, LookaheadSwap, StochasticSwap\n",
    "\n",
    "coupling = [[0, 1], [1, 2], [2, 3], [3, 4], [4, 5], [5, 6]]\n",
    "\n",
    "circuit = QuantumCircuit(7)\n",
    "circuit.h(3)\n",
    "circuit.cx(0, 6)\n",
    "circuit.cx(6, 0)\n",
    "circuit.cx(0, 1)\n",
    "circuit.cx(3, 1)\n",
    "circuit.cx(3, 0)\n",
    "\n",
    "coupling_map = CouplingMap(couplinglist=coupling)\n",
    "\n",
    "bs = BasicSwap(coupling_map=coupling_map)\n",
    "pass_manager = PassManager(bs)\n",
    "basic_circ = pass_manager.run(circuit)\n",
    "\n",
    "ls = LookaheadSwap(coupling_map=coupling_map)\n",
    "pass_manager = PassManager(ls)\n",
    "lookahead_circ = pass_manager.run(circuit)\n",
    "\n",
    "ss = StochasticSwap(coupling_map=coupling_map)\n",
    "pass_manager = PassManager(ss)\n",
    "stochastic_circ = pass_manager.run(circuit)"
   ]
  },
  {
   "cell_type": "code",
   "execution_count": 91,
   "id": "eef05222-6b0a-44f0-8da5-d7b1608743bf",
   "metadata": {},
   "outputs": [
    {
     "data": {
      "text/html": [
       "<pre style=\"word-wrap: normal;white-space: pre;background: #fff0;line-height: 1.1;font-family: &quot;Courier New&quot;,Courier,monospace\">          \n",
       "q_0: ──■──\n",
       "       │  \n",
       "q_1: ──■──\n",
       "     ┌─┴─┐\n",
       "q_2: ┤ X ├\n",
       "     └───┘</pre>"
      ],
      "text/plain": [
       "          \n",
       "q_0: ──■──\n",
       "       │  \n",
       "q_1: ──■──\n",
       "     ┌─┴─┐\n",
       "q_2: ┤ X ├\n",
       "     └───┘"
      ]
     },
     "execution_count": 91,
     "metadata": {},
     "output_type": "execute_result"
    }
   ],
   "source": [
    "circ.draw()"
   ]
  },
  {
   "cell_type": "code",
   "execution_count": 92,
   "id": "59b952f0-0cc6-4fc9-9c92-67de9a52e65a",
   "metadata": {},
   "outputs": [
    {
     "data": {
      "text/html": [
       "<pre style=\"word-wrap: normal;white-space: pre;background: #fff0;line-height: 1.1;font-family: &quot;Courier New&quot;,Courier,monospace\">               ┌───┐          ┌───┐\n",
       "q_0: ───────■──┤ X ├──■───────┤ X ├\n",
       "            │  └─┬─┘┌─┴─┐┌───┐└─┬─┘\n",
       "q_1: ───────┼────┼──┤ X ├┤ X ├──┼──\n",
       "            │    │  └───┘└─┬─┘  │  \n",
       "q_2: ───────┼────┼─────────┼────┼──\n",
       "     ┌───┐  │    │         │    │  \n",
       "q_3: ┤ H ├──┼────┼─────────■────■──\n",
       "     └───┘  │    │                 \n",
       "q_4: ───────┼────┼─────────────────\n",
       "            │    │                 \n",
       "q_5: ───────┼────┼─────────────────\n",
       "          ┌─┴─┐  │                 \n",
       "q_6: ─────┤ X ├──■─────────────────\n",
       "          └───┘                    </pre>"
      ],
      "text/plain": [
       "               ┌───┐          ┌───┐\n",
       "q_0: ───────■──┤ X ├──■───────┤ X ├\n",
       "            │  └─┬─┘┌─┴─┐┌───┐└─┬─┘\n",
       "q_1: ───────┼────┼──┤ X ├┤ X ├──┼──\n",
       "            │    │  └───┘└─┬─┘  │  \n",
       "q_2: ───────┼────┼─────────┼────┼──\n",
       "     ┌───┐  │    │         │    │  \n",
       "q_3: ┤ H ├──┼────┼─────────■────■──\n",
       "     └───┘  │    │                 \n",
       "q_4: ───────┼────┼─────────────────\n",
       "            │    │                 \n",
       "q_5: ───────┼────┼─────────────────\n",
       "          ┌─┴─┐  │                 \n",
       "q_6: ─────┤ X ├──■─────────────────\n",
       "          └───┘                    "
      ]
     },
     "execution_count": 92,
     "metadata": {},
     "output_type": "execute_result"
    }
   ],
   "source": [
    "circuit.draw()"
   ]
  },
  {
   "cell_type": "code",
   "execution_count": 93,
   "id": "4c3477fe-3941-445f-a5e6-58408393ab14",
   "metadata": {},
   "outputs": [
    {
     "data": {
      "text/html": [
       "<pre style=\"word-wrap: normal;white-space: pre;background: #fff0;line-height: 1.1;font-family: &quot;Courier New&quot;,Courier,monospace\">                                            ┌───┐   ┌───┐     \n",
       "q_0: ──X────────────────────────────────────┤ X ├───┤ X ├─────\n",
       "       │                                    └─┬─┘   └─┬─┘     \n",
       "q_1: ──X───X──────────────────────────────X───■───X───■────■──\n",
       "           │                              │       │      ┌─┴─┐\n",
       "q_2: ──────X──X────────────────────────X──X───X───X──────┤ X ├\n",
       "     ┌───┐    │                        │      │          └───┘\n",
       "q_3: ┤ H ├────X──X──────────────────X──X──────X───────────────\n",
       "     └───┘       │                  │                         \n",
       "q_4: ────────────X──X────────────X──X─────────────────────────\n",
       "                    │      ┌───┐ │                            \n",
       "q_5: ───────────────X───■──┤ X ├─X────────────────────────────\n",
       "                      ┌─┴─┐└─┬─┘                              \n",
       "q_6: ─────────────────┤ X ├──■────────────────────────────────\n",
       "                      └───┘                                   </pre>"
      ],
      "text/plain": [
       "                                            ┌───┐   ┌───┐     \n",
       "q_0: ──X────────────────────────────────────┤ X ├───┤ X ├─────\n",
       "       │                                    └─┬─┘   └─┬─┘     \n",
       "q_1: ──X───X──────────────────────────────X───■───X───■────■──\n",
       "           │                              │       │      ┌─┴─┐\n",
       "q_2: ──────X──X────────────────────────X──X───X───X──────┤ X ├\n",
       "     ┌───┐    │                        │      │          └───┘\n",
       "q_3: ┤ H ├────X──X──────────────────X──X──────X───────────────\n",
       "     └───┘       │                  │                         \n",
       "q_4: ────────────X──X────────────X──X─────────────────────────\n",
       "                    │      ┌───┐ │                            \n",
       "q_5: ───────────────X───■──┤ X ├─X────────────────────────────\n",
       "                      ┌─┴─┐└─┬─┘                              \n",
       "q_6: ─────────────────┤ X ├──■────────────────────────────────\n",
       "                      └───┘                                   "
      ]
     },
     "execution_count": 93,
     "metadata": {},
     "output_type": "execute_result"
    }
   ],
   "source": [
    "basic_circ.draw()"
   ]
  },
  {
   "cell_type": "code",
   "execution_count": 94,
   "id": "e3a2cadb-cb81-4aa1-8a22-b612716648ac",
   "metadata": {},
   "outputs": [
    {
     "data": {
      "text/html": [
       "<pre style=\"word-wrap: normal;white-space: pre;background: #fff0;line-height: 1.1;font-family: &quot;Courier New&quot;,Courier,monospace\">                                            \n",
       "q_0: ──X──────X─────────────────────────────\n",
       "       │      │                             \n",
       "q_1: ──X───X──X───X──────────────■───X──────\n",
       "           │      │       ┌───┐┌─┴─┐ │      \n",
       "q_2: ──────X──X───X───────┤ X ├┤ X ├─X───■──\n",
       "     ┌───┐    │      ┌───┐└─┬─┘└───┘   ┌─┴─┐\n",
       "q_3: ┤ H ├────X───■──┤ X ├──■──────────┤ X ├\n",
       "     └───┘      ┌─┴─┐└─┬─┘             └───┘\n",
       "q_4: ──────X────┤ X ├──■────────────────────\n",
       "           │    └───┘                       \n",
       "q_5: ──X───X────────────────────────────────\n",
       "       │                                    \n",
       "q_6: ──X────────────────────────────────────\n",
       "                                            </pre>"
      ],
      "text/plain": [
       "                                            \n",
       "q_0: ──X──────X─────────────────────────────\n",
       "       │      │                             \n",
       "q_1: ──X───X──X───X──────────────■───X──────\n",
       "           │      │       ┌───┐┌─┴─┐ │      \n",
       "q_2: ──────X──X───X───────┤ X ├┤ X ├─X───■──\n",
       "     ┌───┐    │      ┌───┐└─┬─┘└───┘   ┌─┴─┐\n",
       "q_3: ┤ H ├────X───■──┤ X ├──■──────────┤ X ├\n",
       "     └───┘      ┌─┴─┐└─┬─┘             └───┘\n",
       "q_4: ──────X────┤ X ├──■────────────────────\n",
       "           │    └───┘                       \n",
       "q_5: ──X───X────────────────────────────────\n",
       "       │                                    \n",
       "q_6: ──X────────────────────────────────────\n",
       "                                            "
      ]
     },
     "execution_count": 94,
     "metadata": {},
     "output_type": "execute_result"
    }
   ],
   "source": [
    "lookahead_circ.draw()"
   ]
  },
  {
   "cell_type": "code",
   "execution_count": 95,
   "id": "d72e0b88-c4c3-4752-91ee-bad3acb68ad2",
   "metadata": {},
   "outputs": [
    {
     "data": {
      "text/html": [
       "<pre style=\"word-wrap: normal;white-space: pre;background: #fff0;line-height: 1.1;font-family: &quot;Courier New&quot;,Courier,monospace\">                                                \n",
       "q_0: ─X─────X───────────────────────────────────\n",
       "      │     │              ┌───┐                \n",
       "q_1: ─X──X──X──────────────┤ X ├─X───────X──────\n",
       "         │    ┌───┐        └─┬─┘ │ ┌───┐ │ ┌───┐\n",
       "q_2: ────X──X─┤ H ├──────X───■───X─┤ X ├─X─┤ X ├\n",
       "            │ └───┘┌───┐ │         └─┬─┘   └─┬─┘\n",
       "q_3: ───────X───■──┤ X ├─X───────────■───────■──\n",
       "              ┌─┴─┐└─┬─┘                        \n",
       "q_4: ────X────┤ X ├──■──────────────────────────\n",
       "         │    └───┘                             \n",
       "q_5: ─X──X──────────────────────────────────────\n",
       "      │                                         \n",
       "q_6: ─X─────────────────────────────────────────\n",
       "                                                </pre>"
      ],
      "text/plain": [
       "                                                \n",
       "q_0: ─X─────X───────────────────────────────────\n",
       "      │     │              ┌───┐                \n",
       "q_1: ─X──X──X──────────────┤ X ├─X───────X──────\n",
       "         │    ┌───┐        └─┬─┘ │ ┌───┐ │ ┌───┐\n",
       "q_2: ────X──X─┤ H ├──────X───■───X─┤ X ├─X─┤ X ├\n",
       "            │ └───┘┌───┐ │         └─┬─┘   └─┬─┘\n",
       "q_3: ───────X───■──┤ X ├─X───────────■───────■──\n",
       "              ┌─┴─┐└─┬─┘                        \n",
       "q_4: ────X────┤ X ├──■──────────────────────────\n",
       "         │    └───┘                             \n",
       "q_5: ─X──X──────────────────────────────────────\n",
       "      │                                         \n",
       "q_6: ─X─────────────────────────────────────────\n",
       "                                                "
      ]
     },
     "execution_count": 95,
     "metadata": {},
     "output_type": "execute_result"
    }
   ],
   "source": [
    "stochastic_circ.draw()"
   ]
  },
  {
   "cell_type": "code",
   "execution_count": 96,
   "id": "d77cad4b-c7bb-4a5c-80bc-8fb2d70c5d99",
   "metadata": {},
   "outputs": [],
   "source": [
    "import math\n",
    "from qiskit.test.mock import FakeTokyo\n",
    "\n",
    "backend = FakeTokyo()     # mimics the tokyo device in terms of coupling map and basis gates\n"
   ]
  },
  {
   "cell_type": "code",
   "execution_count": 97,
   "id": "fb362c70-5bc0-41d7-8b28-6adafa21ffc2",
   "metadata": {},
   "outputs": [
    {
     "data": {
      "text/html": [
       "<pre style=\"word-wrap: normal;white-space: pre;background: #fff0;line-height: 1.1;font-family: &quot;Courier New&quot;,Courier,monospace\">     »\n",
       "q_0: »\n",
       "     »\n",
       "q_1: »\n",
       "     »\n",
       "q_2: »\n",
       "     »\n",
       "q_3: »\n",
       "     »\n",
       "q_4: »\n",
       "     »\n",
       "q_5: »\n",
       "     »\n",
       "q_6: »\n",
       "     »\n",
       "q_7: »\n",
       "     »\n",
       "q_8: »\n",
       "     »\n",
       "q_9: »\n",
       "     »\n",
       "«     ┌────────────────────────────────────────────────────────────────────────────┐\n",
       "«q_0: ┤0                                                                           ├\n",
       "«     │                                                                            │\n",
       "«q_1: ┤1                                                                           ├\n",
       "«     │  initialize(0.5j,0.35355,0,0,0,0,0,0,0.35355,0.35355j,0,0,0,0,0.5,0.35355) │\n",
       "«q_2: ┤2                                                                           ├\n",
       "«     │                                                                            │\n",
       "«q_3: ┤3                                                                           ├\n",
       "«     └────────────────────────────────────────────────────────────────────────────┘\n",
       "«q_4: ──────────────────────────────────────────────────────────────────────────────\n",
       "«                                                                                   \n",
       "«q_5: ──────────────────────────────────────────────────────────────────────────────\n",
       "«                                                                                   \n",
       "«q_6: ──────────────────────────────────────────────────────────────────────────────\n",
       "«                                                                                   \n",
       "«q_7: ──────────────────────────────────────────────────────────────────────────────\n",
       "«                                                                                   \n",
       "«q_8: ──────────────────────────────────────────────────────────────────────────────\n",
       "«                                                                                   \n",
       "«q_9: ──────────────────────────────────────────────────────────────────────────────\n",
       "«                                                                                   </pre>"
      ],
      "text/plain": [
       "     »\n",
       "q_0: »\n",
       "     »\n",
       "q_1: »\n",
       "     »\n",
       "q_2: »\n",
       "     »\n",
       "q_3: »\n",
       "     »\n",
       "q_4: »\n",
       "     »\n",
       "q_5: »\n",
       "     »\n",
       "q_6: »\n",
       "     »\n",
       "q_7: »\n",
       "     »\n",
       "q_8: »\n",
       "     »\n",
       "q_9: »\n",
       "     »\n",
       "«     ┌────────────────────────────────────────────────────────────────────────────┐\n",
       "«q_0: ┤0                                                                           ├\n",
       "«     │                                                                            │\n",
       "«q_1: ┤1                                                                           ├\n",
       "«     │  initialize(0.5j,0.35355,0,0,0,0,0,0,0.35355,0.35355j,0,0,0,0,0.5,0.35355) │\n",
       "«q_2: ┤2                                                                           ├\n",
       "«     │                                                                            │\n",
       "«q_3: ┤3                                                                           ├\n",
       "«     └────────────────────────────────────────────────────────────────────────────┘\n",
       "«q_4: ──────────────────────────────────────────────────────────────────────────────\n",
       "«                                                                                   \n",
       "«q_5: ──────────────────────────────────────────────────────────────────────────────\n",
       "«                                                                                   \n",
       "«q_6: ──────────────────────────────────────────────────────────────────────────────\n",
       "«                                                                                   \n",
       "«q_7: ──────────────────────────────────────────────────────────────────────────────\n",
       "«                                                                                   \n",
       "«q_8: ──────────────────────────────────────────────────────────────────────────────\n",
       "«                                                                                   \n",
       "«q_9: ──────────────────────────────────────────────────────────────────────────────\n",
       "«                                                                                   "
      ]
     },
     "execution_count": 97,
     "metadata": {},
     "output_type": "execute_result"
    }
   ],
   "source": [
    "qc = QuantumCircuit(10)\n",
    "\n",
    "random_state = [\n",
    "    1 / math.sqrt(4) * complex(0, 1),\n",
    "    1 / math.sqrt(8) * complex(1, 0),\n",
    "    0,\n",
    "    0,\n",
    "    0,\n",
    "    0,\n",
    "    0,\n",
    "    0,\n",
    "    1 / math.sqrt(8) * complex(1, 0),\n",
    "    1 / math.sqrt(8) * complex(0, 1),\n",
    "    0,\n",
    "    0,\n",
    "    0,\n",
    "    0,\n",
    "    1 / math.sqrt(4) * complex(1, 0),\n",
    "    1 / math.sqrt(8) * complex(1, 0)]\n",
    "\n",
    "qc.initialize(random_state, range(4))\n",
    "qc.draw()\n"
   ]
  },
  {
   "cell_type": "code",
   "execution_count": 98,
   "id": "fde66e11-e6c3-4fa4-8696-4207783e09a5",
   "metadata": {},
   "outputs": [
    {
     "name": "stdout",
     "output_type": "stream",
     "text": [
      "gates =  OrderedDict([('cx', 70), ('u3', 15), ('u1', 15), ('reset', 4)])\n",
      "depth =  73\n"
     ]
    }
   ],
   "source": [
    "optimized_0 = transpile(qc, backend=backend, seed_transpiler=11, optimization_level=0)\n",
    "print('gates = ', optimized_0.count_ops())\n",
    "print('depth = ', optimized_0.depth())"
   ]
  },
  {
   "cell_type": "code",
   "execution_count": 99,
   "id": "1864e972-d54b-4676-b1e6-534f11490e88",
   "metadata": {},
   "outputs": [
    {
     "name": "stdout",
     "output_type": "stream",
     "text": [
      "gates =  OrderedDict([('cx', 70), ('u3', 15), ('u1', 6)])\n",
      "depth =  64\n"
     ]
    }
   ],
   "source": [
    "optimized_1 = transpile(qc, backend=backend, seed_transpiler=11, optimization_level=1)\n",
    "print('gates = ', optimized_1.count_ops())\n",
    "print('depth = ', optimized_1.depth())"
   ]
  },
  {
   "cell_type": "code",
   "execution_count": 100,
   "id": "4752008b-09ee-4c61-8dd9-3a81d7088a42",
   "metadata": {},
   "outputs": [
    {
     "name": "stdout",
     "output_type": "stream",
     "text": [
      "gates =  OrderedDict([('cx', 63), ('u3', 15), ('u1', 6)])\n",
      "depth =  67\n"
     ]
    }
   ],
   "source": [
    "optimized_2 = transpile(qc, backend=backend, seed_transpiler=11, optimization_level=2)\n",
    "print('gates = ', optimized_2.count_ops())\n",
    "print('depth = ', optimized_2.depth())\n"
   ]
  },
  {
   "cell_type": "code",
   "execution_count": 101,
   "id": "f819811c-0109-4d8a-971d-1fcae6f4257e",
   "metadata": {},
   "outputs": [
    {
     "name": "stdout",
     "output_type": "stream",
     "text": [
      "gates =  OrderedDict([('cx', 20), ('u3', 15), ('u1', 6)])\n",
      "depth =  38\n"
     ]
    }
   ],
   "source": [
    "optimized_3 = transpile(qc, backend=backend, seed_transpiler=11, optimization_level=3)\n",
    "print('gates = ', optimized_3.count_ops())\n",
    "print('depth = ', optimized_3.depth())"
   ]
  },
  {
   "cell_type": "code",
   "execution_count": 102,
   "id": "a099703e-4097-455b-b007-2f71c0a23e29",
   "metadata": {},
   "outputs": [
    {
     "name": "stdout",
     "output_type": "stream",
     "text": [
      "gates =  OrderedDict([('cx', 20), ('u3', 15), ('u1', 6)])\n",
      "depth =  38\n"
     ]
    }
   ],
   "source": [
    "optimized_3 = transpile(qc, backend=backend, seed_transpiler=11, optimization_level=3)\n",
    "print('gates = ', optimized_3.count_ops())\n",
    "print('depth = ', optimized_3.depth())\n",
    "\n"
   ]
  },
  {
   "cell_type": "code",
   "execution_count": 103,
   "id": "f42dcc0b-5a16-474e-ab18-de2f2f9d546b",
   "metadata": {},
   "outputs": [
    {
     "name": "stdout",
     "output_type": "stream",
     "text": [
      "gates =  OrderedDict([('cx', 20), ('u3', 15), ('u1', 6)])\n",
      "depth =  38\n"
     ]
    }
   ],
   "source": [
    "optimized_3 = transpile(qc, backend=backend, seed_transpiler=11, optimization_level=3)\n",
    "print('gates = ', optimized_3.count_ops())\n",
    "print('depth = ', optimized_3.depth())"
   ]
  },
  {
   "cell_type": "code",
   "execution_count": 104,
   "id": "9275573e-dc55-48fa-8ccb-09444ee0f269",
   "metadata": {},
   "outputs": [
    {
     "data": {
      "text/plain": [
       "<qiskit.circuit.instructionset.InstructionSet at 0x7f7fe3ecfac0>"
      ]
     },
     "execution_count": 104,
     "metadata": {},
     "output_type": "execute_result"
    }
   ],
   "source": [
    "from qiskit import QuantumRegister, ClassicalRegister, QuantumCircuit\n",
    "from qiskit.dagcircuit import DAGCircuit\n",
    "q = QuantumRegister(3, 'q')\n",
    "c = ClassicalRegister(3, 'c')\n",
    "circ = QuantumCircuit(q, c)\n",
    "circ.h(q[0])\n",
    "circ.cx(q[0], q[1])\n",
    "circ.measure(q[0], c[0])\n",
    "circ.rz(0.5, q[1]).c_if(c, 2)"
   ]
  },
  {
   "cell_type": "code",
   "execution_count": 105,
   "id": "94bc4062-7e7a-4c8b-9dcc-de3a026cbb80",
   "metadata": {},
   "outputs": [
    {
     "data": {
      "text/html": [
       "<pre style=\"word-wrap: normal;white-space: pre;background: #fff0;line-height: 1.1;font-family: &quot;Courier New&quot;,Courier,monospace\">     ┌───┐     ┌─┐           \n",
       "q_0: ┤ H ├──■──┤M├───────────\n",
       "     └───┘┌─┴─┐└╥┘┌─────────┐\n",
       "q_1: ─────┤ X ├─╫─┤ RZ(0.5) ├\n",
       "          └───┘ ║ └────╥────┘\n",
       "q_2: ───────────╫──────╫─────\n",
       "                ║   ┌──╨──┐  \n",
       "c: 3/═══════════╩═══╡ = 2 ╞══\n",
       "                0   └─────┘  </pre>"
      ],
      "text/plain": [
       "     ┌───┐     ┌─┐           \n",
       "q_0: ┤ H ├──■──┤M├───────────\n",
       "     └───┘┌─┴─┐└╥┘┌─────────┐\n",
       "q_1: ─────┤ X ├─╫─┤ RZ(0.5) ├\n",
       "          └───┘ ║ └────╥────┘\n",
       "q_2: ───────────╫──────╫─────\n",
       "                ║   ┌──╨──┐  \n",
       "c: 3/═══════════╩═══╡ = 2 ╞══\n",
       "                0   └─────┘  "
      ]
     },
     "execution_count": 105,
     "metadata": {},
     "output_type": "execute_result"
    }
   ],
   "source": [
    "circ.draw()"
   ]
  },
  {
   "cell_type": "code",
   "execution_count": 108,
   "id": "9ad3cb04-1be2-4628-a3ee-2783a1f3c29b",
   "metadata": {},
   "outputs": [
    {
     "data": {
      "image/png": "[encoded data removed]",
      "text/plain": [
       "<PIL.PngImagePlugin.PngImageFile image mode=RGBA size=331x466 at 0x7F7FE3850550>"
      ]
     },
     "execution_count": 108,
     "metadata": {},
     "output_type": "execute_result"
    }
   ],
   "source": [
    "from qiskit.converters import circuit_to_dag\n",
    "from qiskit.tools.visualization import dag_drawer\n",
    "dag = circuit_to_dag(circ)\n",
    "dag_drawer(dag)"
   ]
  },
  {
   "cell_type": "code",
   "execution_count": 107,
   "id": "c227f102-c7dc-48ff-bcab-729317e44b25",
   "metadata": {},
   "outputs": [
    {
     "name": "stdout",
     "output_type": "stream",
     "text": [
      "Collecting pydot\n",
      "  Downloading pydot-1.4.2-py2.py3-none-any.whl (21 kB)\n",
      "Requirement already satisfied: pyparsing>=2.1.4 in ./env2/lib/python3.8/site-packages (from pydot) (2.4.6)\n",
      "Installing collected packages: pydot\n",
      "Successfully installed pydot-1.4.2\n"
     ]
    }
   ],
   "source": [
    "!pip install pydot"
   ]
  },
  {
   "cell_type": "code",
   "execution_count": 109,
   "id": "c7fe25db-284d-4c65-b366-0e5814a9a681",
   "metadata": {},
   "outputs": [
    {
     "data": {
      "text/plain": [
       "[<qiskit.dagcircuit.dagnode.DAGNode at 0x7f7fe35fc4c0>,\n",
       " <qiskit.dagcircuit.dagnode.DAGNode at 0x7f7fe35fc640>,\n",
       " <qiskit.dagcircuit.dagnode.DAGNode at 0x7f7fe35fc6a0>,\n",
       " <qiskit.dagcircuit.dagnode.DAGNode at 0x7f7ff08f0d00>]"
      ]
     },
     "execution_count": 109,
     "metadata": {},
     "output_type": "execute_result"
    }
   ],
   "source": [
    "dag.op_nodes()"
   ]
  },
  {
   "cell_type": "code",
   "execution_count": 110,
   "id": "ac70e424-391f-4a98-8b3c-ab5472c76f61",
   "metadata": {},
   "outputs": [
    {
     "name": "stdout",
     "output_type": "stream",
     "text": [
      "node name:  rz\n",
      "node op:  <qiskit.circuit.library.standard_gates.rz.RZGate object at 0x7f7ff13667f0>\n",
      "node qargs:  [Qubit(QuantumRegister(3, 'q'), 1)]\n",
      "node cargs:  []\n",
      "node condition:  (ClassicalRegister(3, 'c'), 2)\n"
     ]
    }
   ],
   "source": [
    "node = dag.op_nodes()[3]\n",
    "print(\"node name: \", node.name)\n",
    "print(\"node op: \", node.op)\n",
    "print(\"node qargs: \", node.qargs)\n",
    "print(\"node cargs: \", node.cargs)\n",
    "print(\"node condition: \", node.condition)\n"
   ]
  },
  {
   "cell_type": "code",
   "execution_count": 111,
   "id": "206263ac-637a-4669-a228-065b4fd020d7",
   "metadata": {},
   "outputs": [
    {
     "data": {
      "image/png": "[encoded data removed]",
      "text/plain": [
       "<PIL.PngImagePlugin.PngImageFile image mode=RGBA size=388x466 at 0x7F7FF12F9370>"
      ]
     },
     "execution_count": 111,
     "metadata": {},
     "output_type": "execute_result"
    }
   ],
   "source": [
    "from qiskit.circuit.library import HGate\n",
    "dag.apply_operation_back(HGate(), qargs=[q[0]])\n",
    "dag_drawer(dag)"
   ]
  },
  {
   "cell_type": "code",
   "execution_count": 112,
   "id": "811dfa9d-fc37-421f-aded-7e9ae21115bd",
   "metadata": {},
   "outputs": [
    {
     "data": {
      "image/png": "[encoded data removed]",
      "text/plain": [
       "<PIL.PngImagePlugin.PngImageFile image mode=RGBA size=388x550 at 0x7F7FF55D9C40>"
      ]
     },
     "execution_count": 112,
     "metadata": {},
     "output_type": "execute_result"
    }
   ],
   "source": [
    "from qiskit.circuit.library import CCXGate\n",
    "dag.apply_operation_front(CCXGate(), qargs=[q[0], q[1], q[2]], cargs=[])\n",
    "dag_drawer(dag)"
   ]
  },
  {
   "cell_type": "code",
   "execution_count": 113,
   "id": "ddbd0576-728a-4cb4-a476-33042f80f085",
   "metadata": {},
   "outputs": [
    {
     "data": {
      "image/png": "[encoded data removed]",
      "text/plain": [
       "<PIL.PngImagePlugin.PngImageFile image mode=RGB size=391x550 at 0x7F7FF54A4310>"
      ]
     },
     "execution_count": 113,
     "metadata": {},
     "output_type": "execute_result"
    }
   ],
   "source": [
    "from qiskit.circuit.library import CHGate, U2Gate, CXGate\n",
    "mini_dag = DAGCircuit()\n",
    "p = QuantumRegister(2, \"p\")\n",
    "mini_dag.add_qreg(p)\n",
    "mini_dag.apply_operation_back(CHGate(), qargs=[p[1], p[0]])\n",
    "mini_dag.apply_operation_back(U2Gate(0.1, 0.2), qargs=[p[1]])\n",
    "\n",
    "# substitute the cx node with the above mini-dag\n",
    "cx_node = dag.op_nodes(op=CXGate).pop()\n",
    "dag.substitute_node_with_dag(node=cx_node, input_dag=mini_dag, wires=[p[0], p[1]])\n",
    "dag_drawer(dag)"
   ]
  },
  {
   "cell_type": "code",
   "execution_count": 114,
   "id": "093e7003-f38e-46b1-a334-d343dbd45314",
   "metadata": {},
   "outputs": [],
   "source": [
    "from qiskit.converters import dag_to_circuit\n",
    "circuit = dag_to_circuit(dag)"
   ]
  },
  {
   "cell_type": "code",
   "execution_count": 115,
   "id": "4180f62b-7ca6-44e2-a4ef-7b7270f067d1",
   "metadata": {},
   "outputs": [
    {
     "data": {
      "text/html": [
       "<pre style=\"word-wrap: normal;white-space: pre;background: #fff0;line-height: 1.1;font-family: &quot;Courier New&quot;,Courier,monospace\">          ┌───┐┌───┐               ┌─┐   ┌───┐   \n",
       "q_0: ──■──┤ H ├┤ H ├───────────────┤M├───┤ H ├───\n",
       "       │  └───┘└─┬─┘┌─────────────┐└╥┘┌──┴───┴──┐\n",
       "q_1: ──■─────────■──┤ U2(0.1,0.2) ├─╫─┤ RZ(0.5) ├\n",
       "     ┌─┴─┐          └─────────────┘ ║ └────╥────┘\n",
       "q_2: ┤ X ├──────────────────────────╫──────╫─────\n",
       "     └───┘                          ║   ┌──╨──┐  \n",
       "c: 3/═══════════════════════════════╩═══╡ = 2 ╞══\n",
       "                                    0   └─────┘  </pre>"
      ],
      "text/plain": [
       "          ┌───┐┌───┐               ┌─┐   ┌───┐   \n",
       "q_0: ──■──┤ H ├┤ H ├───────────────┤M├───┤ H ├───\n",
       "       │  └───┘└─┬─┘┌─────────────┐└╥┘┌──┴───┴──┐\n",
       "q_1: ──■─────────■──┤ U2(0.1,0.2) ├─╫─┤ RZ(0.5) ├\n",
       "     ┌─┴─┐          └─────────────┘ ║ └────╥────┘\n",
       "q_2: ┤ X ├──────────────────────────╫──────╫─────\n",
       "     └───┘                          ║   ┌──╨──┐  \n",
       "c: 3/═══════════════════════════════╩═══╡ = 2 ╞══\n",
       "                                    0   └─────┘  "
      ]
     },
     "execution_count": 115,
     "metadata": {},
     "output_type": "execute_result"
    }
   ],
   "source": [
    "circuit.draw(\n",
    ")"
   ]
  },
  {
   "cell_type": "code",
   "execution_count": 116,
   "id": "6706c17f-552e-47de-a1c8-fa987ab78091",
   "metadata": {},
   "outputs": [],
   "source": [
    "from copy import copy\n",
    "\n",
    "from qiskit.transpiler.basepasses import TransformationPass\n",
    "from qiskit.transpiler import Layout\n",
    "from qiskit.circuit.library import SwapGate\n",
    "\n",
    "\n",
    "class BasicSwap(TransformationPass):\n",
    "    \"\"\"Maps (with minimum effort) a DAGCircuit onto a `coupling_map` adding swap gates.\"\"\"\n",
    "\n",
    "    def __init__(self,\n",
    "                 coupling_map,\n",
    "                 initial_layout=None):\n",
    "        \"\"\"Maps a DAGCircuit onto a `coupling_map` using swap gates.\n",
    "\n",
    "        Args:\n",
    "            coupling_map (CouplingMap): Directed graph represented a coupling map.\n",
    "            initial_layout (Layout): initial layout of qubits in mapping\n",
    "        \"\"\"\n",
    "        super().__init__()\n",
    "        self.coupling_map = coupling_map\n",
    "        self.initial_layout = initial_layout\n",
    "\n",
    "    def run(self, dag):\n",
    "        \"\"\"Runs the BasicSwap pass on `dag`.\n",
    "\n",
    "        Args:\n",
    "            dag (DAGCircuit): DAG to map.\n",
    "\n",
    "        Returns:\n",
    "            DAGCircuit: A mapped DAG.\n",
    "\n",
    "        Raises:\n",
    "            TranspilerError: if the coupling map or the layout are not\n",
    "            compatible with the DAG.\n",
    "        \"\"\"\n",
    "        new_dag = DAGCircuit()\n",
    "        for qreg in dag.qregs.values():\n",
    "            new_dag.add_qreg(qreg)\n",
    "        for creg in dag.cregs.values():\n",
    "            new_dag.add_creg(creg)\n",
    "\n",
    "\n",
    "        if self.initial_layout is None:\n",
    "            if self.property_set[\"layout\"]:\n",
    "                self.initial_layout = self.property_set[\"layout\"]\n",
    "            else:\n",
    "                self.initial_layout = Layout.generate_trivial_layout(*dag.qregs.values())\n",
    "\n",
    "        if len(dag.qubits) != len(self.initial_layout):\n",
    "            raise TranspilerError('The layout does not match the amount of qubits in the DAG')\n",
    "\n",
    "        if len(self.coupling_map.physical_qubits) != len(self.initial_layout):\n",
    "            raise TranspilerError(\n",
    "                \"Mappers require to have the layout to be the same size as the coupling map\")\n",
    "\n",
    "        canonical_register = dag.qregs['q']\n",
    "        trivial_layout = Layout.generate_trivial_layout(canonical_register)\n",
    "        current_layout = trivial_layout.copy()\n",
    "\n",
    "        for layer in dag.serial_layers():\n",
    "            subdag = layer['graph']\n",
    "\n",
    "            for gate in subdag.two_qubit_ops():\n",
    "                physical_q0 = current_layout[gate.qargs[0]]\n",
    "                physical_q1 = current_layout[gate.qargs[1]]\n",
    "                if self.coupling_map.distance(physical_q0, physical_q1) != 1:\n",
    "                    # Insert a new layer with the SWAP(s).\n",
    "                    swap_layer = DAGCircuit()\n",
    "                    swap_layer.add_qreg(canonical_register)\n",
    "\n",
    "                    path = self.coupling_map.shortest_undirected_path(physical_q0, physical_q1)\n",
    "                    for swap in range(len(path) - 2):\n",
    "                        connected_wire_1 = path[swap]\n",
    "                        connected_wire_2 = path[swap + 1]\n",
    "\n",
    "                        qubit_1 = current_layout[connected_wire_1]\n",
    "                        qubit_2 = current_layout[connected_wire_2]\n",
    "\n",
    "                        # create the swap operation\n",
    "                        swap_layer.apply_operation_back(SwapGate(),\n",
    "                                                        qargs=[qubit_1, qubit_2],\n",
    "                                                        cargs=[])\n",
    "\n",
    "                    # layer insertion\n",
    "                    order = current_layout.reorder_bits(new_dag.qubits)\n",
    "                    new_dag.compose(swap_layer, qubits=order)\n",
    "\n",
    "                    # update current_layout\n",
    "                    for swap in range(len(path) - 2):\n",
    "                        current_layout.swap(path[swap], path[swap + 1])\n",
    "\n",
    "            order = current_layout.reorder_bits(new_dag.qubits)\n",
    "            new_dag.compose(subdag, qubits=order)\n",
    "\n",
    "        return new_dag\n"
   ]
  },
  {
   "cell_type": "code",
   "execution_count": 117,
   "id": "bae26eca-a602-44b3-ba07-62767e507cd3",
   "metadata": {},
   "outputs": [
    {
     "data": {
      "text/plain": [
       "<qiskit.circuit.instructionset.InstructionSet at 0x7f7ff5446b50>"
      ]
     },
     "execution_count": 117,
     "metadata": {},
     "output_type": "execute_result"
    }
   ],
   "source": [
    "q = QuantumRegister(7, 'q')\n",
    "in_circ = QuantumCircuit(q)\n",
    "in_circ.h(q[0])\n",
    "in_circ.cx(q[0], q[4])\n",
    "in_circ.cx(q[2], q[3])\n",
    "in_circ.cx(q[6], q[1])\n",
    "in_circ.cx(q[5], q[0])\n",
    "in_circ.rz(0.1, q[2])\n",
    "in_circ.cx(q[5], q[0])"
   ]
  },
  {
   "cell_type": "code",
   "execution_count": 118,
   "id": "88782721-c4a1-4341-ac34-6332b4b11316",
   "metadata": {},
   "outputs": [],
   "source": [
    "from qiskit.transpiler import PassManager\n",
    "from qiskit.transpiler import CouplingMap\n",
    "from qiskit import BasicAer\n",
    "pm = PassManager()\n",
    "coupling = [[0, 1], [1, 2], [2, 3], [3, 4], [4, 5], [5, 6]]\n",
    "coupling_map = CouplingMap(couplinglist=coupling)\n",
    "\n",
    "pm.append([BasicSwap(coupling_map)])\n",
    "\n",
    "out_circ = pm.run(in_circ)"
   ]
  },
  {
   "cell_type": "code",
   "execution_count": 119,
   "id": "fdae5908-9320-4cd6-bb2b-5a4f47dc754e",
   "metadata": {},
   "outputs": [
    {
     "data": {
      "text/html": [
       "<pre style=\"word-wrap: normal;white-space: pre;background: #fff0;line-height: 1.1;font-family: &quot;Courier New&quot;,Courier,monospace\">     ┌───┐                     ┌───┐┌───┐\n",
       "q_0: ┤ H ├───────■─────────────┤ X ├┤ X ├\n",
       "     └───┘┌───┐  │             └─┬─┘└─┬─┘\n",
       "q_1: ─────┤ X ├──┼───────────────┼────┼──\n",
       "          └─┬─┘  │  ┌─────────┐  │    │  \n",
       "q_2: ──■────┼────┼──┤ RZ(0.1) ├──┼────┼──\n",
       "     ┌─┴─┐  │    │  └─────────┘  │    │  \n",
       "q_3: ┤ X ├──┼────┼───────────────┼────┼──\n",
       "     └───┘  │  ┌─┴─┐             │    │  \n",
       "q_4: ───────┼──┤ X ├─────────────┼────┼──\n",
       "            │  └───┘             │    │  \n",
       "q_5: ───────┼────────────────────■────■──\n",
       "            │                            \n",
       "q_6: ───────■────────────────────────────\n",
       "                                         </pre>"
      ],
      "text/plain": [
       "     ┌───┐                     ┌───┐┌───┐\n",
       "q_0: ┤ H ├───────■─────────────┤ X ├┤ X ├\n",
       "     └───┘┌───┐  │             └─┬─┘└─┬─┘\n",
       "q_1: ─────┤ X ├──┼───────────────┼────┼──\n",
       "          └─┬─┘  │  ┌─────────┐  │    │  \n",
       "q_2: ──■────┼────┼──┤ RZ(0.1) ├──┼────┼──\n",
       "     ┌─┴─┐  │    │  └─────────┘  │    │  \n",
       "q_3: ┤ X ├──┼────┼───────────────┼────┼──\n",
       "     └───┘  │  ┌─┴─┐             │    │  \n",
       "q_4: ───────┼──┤ X ├─────────────┼────┼──\n",
       "            │  └───┘             │    │  \n",
       "q_5: ───────┼────────────────────■────■──\n",
       "            │                            \n",
       "q_6: ───────■────────────────────────────\n",
       "                                         "
      ]
     },
     "execution_count": 119,
     "metadata": {},
     "output_type": "execute_result"
    }
   ],
   "source": [
    "in_circ.draw()"
   ]
  },
  {
   "cell_type": "code",
   "execution_count": 120,
   "id": "e048ddef-c443-4e17-99f9-dfd377230dca",
   "metadata": {},
   "outputs": [
    {
     "data": {
      "text/html": [
       "<pre style=\"word-wrap: normal;white-space: pre;background: #fff0;line-height: 1.1;font-family: &quot;Courier New&quot;,Courier,monospace\">     ┌───┐                                               ┌───┐\n",
       "q_0: ┤ H ├─────X─────────────────────────────────────────┤ X ├\n",
       "     └───┘     │                                         └─┬─┘\n",
       "q_1: ──────────X──────X────────────────────────────────X───■──\n",
       "          ┌─────────┐ │                                │      \n",
       "q_2: ──■──┤ RZ(0.1) ├─X──X──────────────────────────X──X──────\n",
       "     ┌─┴─┐└─────────┘    │         ┌───┐┌───┐       │         \n",
       "q_3: ┤ X ├───────────────X───■─────┤ X ├┤ X ├────X──X─────────\n",
       "     └───┘                 ┌─┴─┐   └─┬─┘└─┬─┘    │            \n",
       "q_4: ──────────────────────┤ X ├─X───■────■───X──X────────────\n",
       "                           └───┘ │            │               \n",
       "q_5: ────────────────────────────X───X────────X───────────────\n",
       "                                     │                        \n",
       "q_6: ────────────────────────────────X────────────────────────\n",
       "                                                              </pre>"
      ],
      "text/plain": [
       "     ┌───┐                                               ┌───┐\n",
       "q_0: ┤ H ├─────X─────────────────────────────────────────┤ X ├\n",
       "     └───┘     │                                         └─┬─┘\n",
       "q_1: ──────────X──────X────────────────────────────────X───■──\n",
       "          ┌─────────┐ │                                │      \n",
       "q_2: ──■──┤ RZ(0.1) ├─X──X──────────────────────────X──X──────\n",
       "     ┌─┴─┐└─────────┘    │         ┌───┐┌───┐       │         \n",
       "q_3: ┤ X ├───────────────X───■─────┤ X ├┤ X ├────X──X─────────\n",
       "     └───┘                 ┌─┴─┐   └─┬─┘└─┬─┘    │            \n",
       "q_4: ──────────────────────┤ X ├─X───■────■───X──X────────────\n",
       "                           └───┘ │            │               \n",
       "q_5: ────────────────────────────X───X────────X───────────────\n",
       "                                     │                        \n",
       "q_6: ────────────────────────────────X────────────────────────\n",
       "                                                              "
      ]
     },
     "execution_count": 120,
     "metadata": {},
     "output_type": "execute_result"
    }
   ],
   "source": [
    "out_circ.draw()"
   ]
  },
  {
   "cell_type": "code",
   "execution_count": 121,
   "id": "c64a0730-2226-4a1f-86ef-8e4aa85725ad",
   "metadata": {},
   "outputs": [],
   "source": [
    "import logging\n",
    "\n",
    "logging.basicConfig(level='DEBUG')"
   ]
  },
  {
   "cell_type": "code",
   "execution_count": 122,
   "id": "08dc81ee-0e92-417c-9785-9d73277b8bcb",
   "metadata": {},
   "outputs": [
    {
     "name": "stderr",
     "output_type": "stream",
     "text": [
      "INFO:qiskit.transpiler.runningpassmanager:Pass: SetLayout - 0.00858 (ms)\n",
      "INFO:qiskit.transpiler.runningpassmanager:Pass: TrivialLayout - 0.09274 (ms)\n",
      "INFO:qiskit.transpiler.runningpassmanager:Pass: Layout2qDistance - 0.12946 (ms)\n",
      "INFO:qiskit.transpiler.runningpassmanager:Pass: FullAncillaAllocation - 0.11992 (ms)\n",
      "INFO:qiskit.transpiler.runningpassmanager:Pass: EnlargeWithAncilla - 0.07606 (ms)\n",
      "INFO:qiskit.transpiler.runningpassmanager:Pass: ApplyLayout - 0.35429 (ms)\n",
      "INFO:qiskit.transpiler.runningpassmanager:Pass: Unroll3qOrMore - 0.02193 (ms)\n",
      "INFO:qiskit.transpiler.runningpassmanager:Pass: CheckMap - 0.04983 (ms)\n",
      "INFO:qiskit.transpiler.runningpassmanager:Pass: UnrollCustomDefinitions - 0.07057 (ms)\n",
      "INFO:qiskit.transpiler.passes.basis.basis_translator:Begin BasisTranslator from source basis {('x', 1), ('cx', 2), ('measure', 1), ('h', 1)} to target basis {'reset', 'measure', 'delay', 'u2', 'u1', 'cx', 'barrier', 'snapshot', 'u3', 'id'}.\n",
      "DEBUG:qiskit.transpiler.passes.basis.basis_translator:Begining basis search from frozenset({('x', 1), ('cx', 2), ('measure', 1), ('h', 1)}) to frozenset({'cx', 'barrier', 'reset', 'measure', 'id', 'snapshot', 'delay', 'u2', 'u1', 'u3'}).\n",
      "DEBUG:qiskit.transpiler.passes.basis.basis_translator:Inspecting basis frozenset({('x', 1), ('cx', 2), ('measure', 1), ('h', 1)}).\n",
      "DEBUG:qiskit.transpiler.passes.basis.basis_translator:Inspecting basis frozenset({('u3', 1), ('cx', 2), ('measure', 1), ('h', 1)}).\n",
      "DEBUG:qiskit.transpiler.passes.basis.basis_translator:Transformation path:\n",
      "DEBUG:qiskit.transpiler.passes.basis.basis_translator:x/1 => []\n",
      "     ┌───────────┐\n",
      "q_0: ┤ U3(π,0,π) ├\n",
      "     └───────────┘\n",
      "DEBUG:qiskit.transpiler.passes.basis.basis_translator:h/1 => []\n",
      "     ┌─────────┐\n",
      "q_0: ┤ U2(0,π) ├\n",
      "     └─────────┘\n",
      "INFO:qiskit.transpiler.passes.basis.basis_translator:Basis translation path search completed in 0.006s.\n",
      "DEBUG:qiskit.transpiler.passes.basis.basis_translator:Composing transform step: x/1 [] =>\n",
      "     ┌───────────┐\n",
      "q_0: ┤ U3(π,0,π) ├\n",
      "     └───────────┘\n",
      "DEBUG:qiskit.transpiler.passes.basis.basis_translator:Updating transform for mapped instr ('x', 1) x, [] from \n",
      "        ┌───┐\n",
      "q646_0: ┤ x ├\n",
      "        └───┘\n",
      "DEBUG:qiskit.transpiler.passes.basis.basis_translator:Updated transform for mapped instr ('x', 1) x, [] to\n",
      "        ┌───────────┐\n",
      "q646_0: ┤ U3(π,0,π) ├\n",
      "        └───────────┘\n",
      "DEBUG:qiskit.transpiler.passes.basis.basis_translator:Composing transform step: h/1 [] =>\n",
      "     ┌─────────┐\n",
      "q_0: ┤ U2(0,π) ├\n",
      "     └─────────┘\n",
      "DEBUG:qiskit.transpiler.passes.basis.basis_translator:Updating transform for mapped instr ('h', 1) h, [] from \n",
      "        ┌───┐\n",
      "q649_0: ┤ h ├\n",
      "        └───┘\n",
      "DEBUG:qiskit.transpiler.passes.basis.basis_translator:Updated transform for mapped instr ('h', 1) h, [] to\n",
      "        ┌─────────┐\n",
      "q649_0: ┤ U2(0,π) ├\n",
      "        └─────────┘\n",
      "INFO:qiskit.transpiler.passes.basis.basis_translator:Basis translation paths composed in 0.007s.\n",
      "INFO:qiskit.transpiler.passes.basis.basis_translator:Basis translation instructions replaced in 0.000s.\n",
      "INFO:qiskit.transpiler.runningpassmanager:Pass: BasisTranslator - 18.65411 (ms)\n",
      "INFO:qiskit.transpiler.runningpassmanager:Pass: CheckGateDirection - 0.08726 (ms)\n",
      "INFO:qiskit.transpiler.runningpassmanager:Pass: GateDirection - 0.24128 (ms)\n",
      "INFO:qiskit.transpiler.runningpassmanager:Pass: RemoveResetInZeroState - 0.01931 (ms)\n",
      "INFO:qiskit.transpiler.runningpassmanager:Pass: Depth - 0.03672 (ms)\n",
      "INFO:qiskit.transpiler.runningpassmanager:Pass: FixedPoint - 0.01407 (ms)\n",
      "INFO:qiskit.transpiler.runningpassmanager:Pass: Optimize1qGatesDecomposition - 1.48821 (ms)\n",
      "INFO:qiskit.transpiler.runningpassmanager:Pass: CXCancellation - 0.03600 (ms)\n",
      "INFO:qiskit.transpiler.runningpassmanager:Pass: UnrollCustomDefinitions - 0.04745 (ms)\n",
      "INFO:qiskit.transpiler.passes.basis.basis_translator:Begin BasisTranslator from source basis {('h', 1), ('cx', 2), ('measure', 1), ('u2', 1)} to target basis {'reset', 'measure', 'delay', 'u2', 'u1', 'cx', 'barrier', 'snapshot', 'u3', 'id'}.\n",
      "DEBUG:qiskit.transpiler.passes.basis.basis_translator:Begining basis search from frozenset({('h', 1), ('cx', 2), ('measure', 1), ('u2', 1)}) to frozenset({'cx', 'barrier', 'reset', 'measure', 'id', 'snapshot', 'delay', 'u2', 'u1', 'u3'}).\n",
      "DEBUG:qiskit.transpiler.passes.basis.basis_translator:Inspecting basis frozenset({('h', 1), ('cx', 2), ('measure', 1), ('u2', 1)}).\n",
      "DEBUG:qiskit.transpiler.passes.basis.basis_translator:Transformation path:\n",
      "DEBUG:qiskit.transpiler.passes.basis.basis_translator:h/1 => []\n",
      "     ┌─────────┐\n",
      "q_0: ┤ U2(0,π) ├\n",
      "     └─────────┘\n",
      "INFO:qiskit.transpiler.passes.basis.basis_translator:Basis translation path search completed in 0.004s.\n",
      "DEBUG:qiskit.transpiler.passes.basis.basis_translator:Composing transform step: h/1 [] =>\n",
      "     ┌─────────┐\n",
      "q_0: ┤ U2(0,π) ├\n",
      "     └─────────┘\n",
      "DEBUG:qiskit.transpiler.passes.basis.basis_translator:Updating transform for mapped instr ('h', 1) h, [] from \n",
      "        ┌───┐\n",
      "q650_0: ┤ h ├\n",
      "        └───┘\n",
      "DEBUG:qiskit.transpiler.passes.basis.basis_translator:Updated transform for mapped instr ('h', 1) h, [] to\n",
      "        ┌─────────┐\n",
      "q650_0: ┤ U2(0,π) ├\n",
      "        └─────────┘\n",
      "INFO:qiskit.transpiler.passes.basis.basis_translator:Basis translation paths composed in 0.004s.\n",
      "INFO:qiskit.transpiler.passes.basis.basis_translator:Basis translation instructions replaced in 0.000s.\n",
      "INFO:qiskit.transpiler.runningpassmanager:Pass: BasisTranslator - 9.25541 (ms)\n",
      "INFO:qiskit.transpiler.runningpassmanager:Pass: Depth - 0.02408 (ms)\n",
      "INFO:qiskit.transpiler.runningpassmanager:Pass: FixedPoint - 0.01144 (ms)\n",
      "INFO:qiskit.transpiler.runningpassmanager:Pass: Optimize1qGatesDecomposition - 0.20194 (ms)\n",
      "INFO:qiskit.transpiler.runningpassmanager:Pass: CXCancellation - 0.02718 (ms)\n",
      "INFO:qiskit.transpiler.runningpassmanager:Pass: UnrollCustomDefinitions - 0.03052 (ms)\n",
      "INFO:qiskit.transpiler.passes.basis.basis_translator:Begin BasisTranslator from source basis {('cx', 2), ('measure', 1), ('u2', 1)} to target basis {'reset', 'measure', 'delay', 'u2', 'u1', 'cx', 'barrier', 'snapshot', 'u3', 'id'}.\n",
      "DEBUG:qiskit.transpiler.passes.basis.basis_translator:Begining basis search from frozenset({('cx', 2), ('measure', 1), ('u2', 1)}) to frozenset({'cx', 'barrier', 'reset', 'measure', 'id', 'snapshot', 'delay', 'u2', 'u1', 'u3'}).\n",
      "DEBUG:qiskit.transpiler.passes.basis.basis_translator:Transformation path:\n",
      "INFO:qiskit.transpiler.passes.basis.basis_translator:Basis translation path search completed in 0.001s.\n",
      "INFO:qiskit.transpiler.passes.basis.basis_translator:Basis translation paths composed in 0.000s.\n",
      "INFO:qiskit.transpiler.passes.basis.basis_translator:Basis translation instructions replaced in 0.000s.\n",
      "INFO:qiskit.transpiler.runningpassmanager:Pass: BasisTranslator - 2.72560 (ms)\n",
      "INFO:qiskit.transpiler.runningpassmanager:Pass: Depth - 0.02170 (ms)\n",
      "INFO:qiskit.transpiler.runningpassmanager:Pass: FixedPoint - 0.01335 (ms)\n",
      "INFO:qiskit.transpiler.runningpassmanager:Pass: Optimize1qGatesDecomposition - 0.19789 (ms)\n",
      "INFO:qiskit.transpiler.runningpassmanager:Pass: CXCancellation - 0.02527 (ms)\n",
      "INFO:qiskit.transpiler.runningpassmanager:Pass: UnrollCustomDefinitions - 0.02861 (ms)\n",
      "INFO:qiskit.transpiler.passes.basis.basis_translator:Begin BasisTranslator from source basis {('cx', 2), ('measure', 1), ('u2', 1)} to target basis {'reset', 'measure', 'delay', 'u2', 'u1', 'cx', 'barrier', 'snapshot', 'u3', 'id'}.\n",
      "DEBUG:qiskit.transpiler.passes.basis.basis_translator:Begining basis search from frozenset({('cx', 2), ('measure', 1), ('u2', 1)}) to frozenset({'cx', 'barrier', 'reset', 'measure', 'id', 'snapshot', 'delay', 'u2', 'u1', 'u3'}).\n",
      "DEBUG:qiskit.transpiler.passes.basis.basis_translator:Transformation path:\n",
      "INFO:qiskit.transpiler.passes.basis.basis_translator:Basis translation path search completed in 0.001s.\n",
      "INFO:qiskit.transpiler.passes.basis.basis_translator:Basis translation paths composed in 0.000s.\n",
      "INFO:qiskit.transpiler.passes.basis.basis_translator:Basis translation instructions replaced in 0.000s.\n",
      "INFO:qiskit.transpiler.runningpassmanager:Pass: BasisTranslator - 3.47972 (ms)\n",
      "INFO:qiskit.transpiler.runningpassmanager:Pass: TimeUnitConversion - 0.16165 (ms)\n",
      "INFO:qiskit.compiler.transpiler:Total Transpile Time - 73.42005 (ms)\n"
     ]
    }
   ],
   "source": [
    "from qiskit.test.mock import FakeTenerife\n",
    "\n",
    "\n",
    "log_circ = QuantumCircuit(2, 2)\n",
    "log_circ.h(0)\n",
    "log_circ.h(1)\n",
    "log_circ.h(1)\n",
    "log_circ.x(1)\n",
    "log_circ.cx(0, 1)\n",
    "log_circ.measure([0,1], [0,1])\n",
    "\n",
    "backend = FakeTenerife()\n",
    "\n",
    "transpile(log_circ, backend);"
   ]
  },
  {
   "cell_type": "code",
   "execution_count": 123,
   "id": "2a9bc84b-b716-4d43-b413-203f0826f0fe",
   "metadata": {},
   "outputs": [
    {
     "name": "stderr",
     "output_type": "stream",
     "text": [
      "INFO:qiskit.transpiler.runningpassmanager:Pass: SetLayout - 0.00811 (ms)\n",
      "INFO:qiskit.transpiler.runningpassmanager:Pass: TrivialLayout - 0.07415 (ms)\n",
      "INFO:qiskit.transpiler.runningpassmanager:Pass: Layout2qDistance - 0.12469 (ms)\n",
      "INFO:qiskit.transpiler.runningpassmanager:Pass: FullAncillaAllocation - 0.14520 (ms)\n",
      "INFO:qiskit.transpiler.runningpassmanager:Pass: EnlargeWithAncilla - 0.10920 (ms)\n",
      "INFO:qiskit.transpiler.runningpassmanager:Pass: ApplyLayout - 1.00493 (ms)\n",
      "INFO:qiskit.transpiler.runningpassmanager:Pass: Unroll3qOrMore - 0.02742 (ms)\n",
      "INFO:qiskit.transpiler.runningpassmanager:Pass: CheckMap - 0.06008 (ms)\n",
      "INFO:qiskit.transpiler.runningpassmanager:Pass: UnrollCustomDefinitions - 0.08059 (ms)\n",
      "INFO:qiskit.transpiler.passes.basis.basis_translator:Begin BasisTranslator from source basis {('x', 1), ('cx', 2), ('measure', 1), ('h', 1)} to target basis {'reset', 'measure', 'delay', 'u2', 'u1', 'cx', 'barrier', 'snapshot', 'u3', 'id'}.\n",
      "INFO:qiskit.transpiler.passes.basis.basis_translator:Basis translation path search completed in 0.000s.\n",
      "INFO:qiskit.transpiler.passes.basis.basis_translator:Basis translation paths composed in 0.001s.\n",
      "INFO:qiskit.transpiler.passes.basis.basis_translator:Basis translation instructions replaced in 0.000s.\n",
      "INFO:qiskit.transpiler.runningpassmanager:Pass: BasisTranslator - 4.77219 (ms)\n",
      "INFO:qiskit.transpiler.runningpassmanager:Pass: CheckGateDirection - 0.09298 (ms)\n",
      "INFO:qiskit.transpiler.runningpassmanager:Pass: GateDirection - 0.25249 (ms)\n",
      "INFO:qiskit.transpiler.runningpassmanager:Pass: RemoveResetInZeroState - 0.01502 (ms)\n",
      "INFO:qiskit.transpiler.runningpassmanager:Pass: Depth - 0.02694 (ms)\n",
      "INFO:qiskit.transpiler.runningpassmanager:Pass: FixedPoint - 0.01526 (ms)\n",
      "INFO:qiskit.transpiler.runningpassmanager:Pass: Optimize1qGatesDecomposition - 1.15895 (ms)\n",
      "INFO:qiskit.transpiler.runningpassmanager:Pass: CXCancellation - 0.03242 (ms)\n",
      "INFO:qiskit.transpiler.runningpassmanager:Pass: UnrollCustomDefinitions - 0.03839 (ms)\n",
      "INFO:qiskit.transpiler.passes.basis.basis_translator:Begin BasisTranslator from source basis {('h', 1), ('cx', 2), ('measure', 1), ('u2', 1)} to target basis {'reset', 'measure', 'delay', 'u2', 'u1', 'cx', 'barrier', 'snapshot', 'u3', 'id'}.\n",
      "INFO:qiskit.transpiler.passes.basis.basis_translator:Basis translation path search completed in 0.000s.\n",
      "INFO:qiskit.transpiler.passes.basis.basis_translator:Basis translation paths composed in 0.001s.\n",
      "INFO:qiskit.transpiler.passes.basis.basis_translator:Basis translation instructions replaced in 0.000s.\n",
      "INFO:qiskit.transpiler.runningpassmanager:Pass: BasisTranslator - 3.02339 (ms)\n",
      "INFO:qiskit.transpiler.runningpassmanager:Pass: Depth - 0.01884 (ms)\n",
      "INFO:qiskit.transpiler.runningpassmanager:Pass: FixedPoint - 0.01049 (ms)\n",
      "INFO:qiskit.transpiler.runningpassmanager:Pass: Optimize1qGatesDecomposition - 0.19860 (ms)\n",
      "INFO:qiskit.transpiler.runningpassmanager:Pass: CXCancellation - 0.03147 (ms)\n",
      "INFO:qiskit.transpiler.runningpassmanager:Pass: UnrollCustomDefinitions - 0.03552 (ms)\n",
      "INFO:qiskit.transpiler.passes.basis.basis_translator:Begin BasisTranslator from source basis {('cx', 2), ('measure', 1), ('u2', 1)} to target basis {'reset', 'measure', 'delay', 'u2', 'u1', 'cx', 'barrier', 'snapshot', 'u3', 'id'}.\n",
      "INFO:qiskit.transpiler.passes.basis.basis_translator:Basis translation path search completed in 0.000s.\n",
      "INFO:qiskit.transpiler.passes.basis.basis_translator:Basis translation paths composed in 0.000s.\n",
      "INFO:qiskit.transpiler.passes.basis.basis_translator:Basis translation instructions replaced in 0.000s.\n",
      "INFO:qiskit.transpiler.runningpassmanager:Pass: BasisTranslator - 2.40779 (ms)\n",
      "INFO:qiskit.transpiler.runningpassmanager:Pass: Depth - 0.01979 (ms)\n",
      "INFO:qiskit.transpiler.runningpassmanager:Pass: FixedPoint - 0.01335 (ms)\n",
      "INFO:qiskit.transpiler.runningpassmanager:Pass: Optimize1qGatesDecomposition - 0.20289 (ms)\n",
      "INFO:qiskit.transpiler.runningpassmanager:Pass: CXCancellation - 0.03004 (ms)\n",
      "INFO:qiskit.transpiler.runningpassmanager:Pass: UnrollCustomDefinitions - 0.03123 (ms)\n",
      "INFO:qiskit.transpiler.passes.basis.basis_translator:Begin BasisTranslator from source basis {('cx', 2), ('measure', 1), ('u2', 1)} to target basis {'reset', 'measure', 'delay', 'u2', 'u1', 'cx', 'barrier', 'snapshot', 'u3', 'id'}.\n",
      "INFO:qiskit.transpiler.passes.basis.basis_translator:Basis translation path search completed in 0.000s.\n",
      "INFO:qiskit.transpiler.passes.basis.basis_translator:Basis translation paths composed in 0.000s.\n",
      "INFO:qiskit.transpiler.passes.basis.basis_translator:Basis translation instructions replaced in 0.000s.\n",
      "INFO:qiskit.transpiler.runningpassmanager:Pass: BasisTranslator - 4.06122 (ms)\n",
      "INFO:qiskit.transpiler.runningpassmanager:Pass: TimeUnitConversion - 0.16022 (ms)\n",
      "INFO:qiskit.compiler.transpiler:Total Transpile Time - 58.99954 (ms)\n"
     ]
    }
   ],
   "source": [
    "logging.getLogger('qiskit.transpiler').setLevel('INFO')\n",
    "transpile(log_circ, backend);"
   ]
  },
  {
   "cell_type": "code",
   "execution_count": null,
   "id": "13e0c369-04d7-470b-9ef3-17e7f3a14911",
   "metadata": {},
   "outputs": [
    {
     "name": "stderr",
     "output_type": "stream",
     "text": [
      "INFO:qiskit.transpiler.runningpassmanager:Pass: SetLayout - 0.00954 (ms)\n",
      "INFO:qiskit.transpiler.runningpassmanager:Pass: SetLayout - 0.00906 (ms)\n",
      "INFO:qiskit.transpiler.runningpassmanager:Pass: TrivialLayout - 0.11420 (ms)\n",
      "INFO:qiskit.transpiler.runningpassmanager:Pass: TrivialLayout - 0.12898 (ms)\n",
      "INFO:qiskit.transpiler.runningpassmanager:Pass: Layout2qDistance - 0.25892 (ms)\n",
      "INFO:qiskit.transpiler.runningpassmanager:Pass: Layout2qDistance - 0.23127 (ms)\n",
      "INFO:qiskit.transpiler.runningpassmanager:Pass: FullAncillaAllocation - 0.26751 (ms)\n",
      "INFO:qiskit.transpiler.runningpassmanager:Pass: FullAncillaAllocation - 0.19693 (ms)\n",
      "INFO:qiskit.transpiler.runningpassmanager:Pass: EnlargeWithAncilla - 0.10157 (ms)\n",
      "INFO:qiskit.transpiler.runningpassmanager:Pass: EnlargeWithAncilla - 0.15998 (ms)\n",
      "INFO:qiskit.transpiler.runningpassmanager:Pass: ApplyLayout - 0.42105 (ms)\n",
      "INFO:qiskit.transpiler.runningpassmanager:Pass: ApplyLayout - 0.55981 (ms)\n",
      "INFO:qiskit.transpiler.runningpassmanager:Pass: Unroll3qOrMore - 0.05293 (ms)\n",
      "INFO:qiskit.transpiler.runningpassmanager:Pass: Unroll3qOrMore - 0.03672 (ms)\n",
      "INFO:qiskit.transpiler.runningpassmanager:Pass: CheckMap - 0.09894 (ms)\n",
      "INFO:qiskit.transpiler.runningpassmanager:Pass: CheckMap - 0.08750 (ms)\n",
      "INFO:qiskit.transpiler.runningpassmanager:Pass: UnrollCustomDefinitions - 0.15020 (ms)\n",
      "INFO:qiskit.transpiler.runningpassmanager:Pass: UnrollCustomDefinitions - 0.15831 (ms)\n",
      "INFO:qiskit.transpiler.passes.basis.basis_translator:Begin BasisTranslator from source basis {('x', 1), ('cx', 2), ('measure', 1), ('h', 1)} to target basis {'reset', 'measure', 'delay', 'u2', 'u1', 'cx', 'barrier', 'snapshot', 'u3', 'id'}.\n",
      "INFO:qiskit.transpiler.passes.basis.basis_translator:Begin BasisTranslator from source basis {('x', 1), ('cx', 2), ('measure', 1), ('h', 1)} to target basis {'reset', 'measure', 'delay', 'u2', 'u1', 'cx', 'barrier', 'snapshot', 'u3', 'id'}.\n",
      "DEBUG:qiskit.transpiler.passes.basis.basis_translator:Begining basis search from frozenset({('x', 1), ('cx', 2), ('measure', 1), ('h', 1)}) to frozenset({'cx', 'barrier', 'reset', 'measure', 'id', 'snapshot', 'delay', 'u2', 'u1', 'u3'}).\n",
      "DEBUG:qiskit.transpiler.passes.basis.basis_translator:Begining basis search from frozenset({('x', 1), ('cx', 2), ('measure', 1), ('h', 1)}) to frozenset({'cx', 'barrier', 'reset', 'measure', 'id', 'snapshot', 'delay', 'u2', 'u1', 'u3'}).\n",
      "DEBUG:qiskit.transpiler.passes.basis.basis_translator:Inspecting basis frozenset({('x', 1), ('cx', 2), ('measure', 1), ('h', 1)}).\n",
      "DEBUG:qiskit.transpiler.passes.basis.basis_translator:Inspecting basis frozenset({('x', 1), ('cx', 2), ('measure', 1), ('h', 1)}).\n",
      "DEBUG:qiskit.transpiler.passes.basis.basis_translator:Inspecting basis frozenset({('u3', 1), ('cx', 2), ('measure', 1), ('h', 1)}).\n",
      "DEBUG:qiskit.transpiler.passes.basis.basis_translator:Inspecting basis frozenset({('u3', 1), ('cx', 2), ('measure', 1), ('h', 1)}).\n",
      "DEBUG:qiskit.transpiler.passes.basis.basis_translator:Transformation path:\n",
      "DEBUG:qiskit.transpiler.passes.basis.basis_translator:Transformation path:\n",
      "DEBUG:qiskit.transpiler.passes.basis.basis_translator:x/1 => []\n",
      "     ┌───────────┐\n",
      "q_0: ┤ U3(π,0,π) ├\n",
      "     └───────────┘\n",
      "DEBUG:qiskit.transpiler.passes.basis.basis_translator:x/1 => []\n",
      "     ┌───────────┐\n",
      "q_0: ┤ U3(π,0,π) ├\n",
      "     └───────────┘\n",
      "DEBUG:qiskit.transpiler.passes.basis.basis_translator:h/1 => []\n",
      "     ┌─────────┐\n",
      "q_0: ┤ U2(0,π) ├\n",
      "     └─────────┘\n",
      "DEBUG:qiskit.transpiler.passes.basis.basis_translator:h/1 => []\n",
      "     ┌─────────┐\n",
      "q_0: ┤ U2(0,π) ├\n",
      "     └─────────┘\n",
      "INFO:qiskit.transpiler.passes.basis.basis_translator:Basis translation path search completed in 0.009s.\n",
      "INFO:qiskit.transpiler.passes.basis.basis_translator:Basis translation path search completed in 0.009s.\n",
      "DEBUG:qiskit.transpiler.passes.basis.basis_translator:Composing transform step: x/1 [] =>\n",
      "     ┌───────────┐\n",
      "q_0: ┤ U3(π,0,π) ├\n",
      "     └───────────┘\n",
      "DEBUG:qiskit.transpiler.passes.basis.basis_translator:Composing transform step: x/1 [] =>\n",
      "     ┌───────────┐\n",
      "q_0: ┤ U3(π,0,π) ├\n",
      "     └───────────┘\n",
      "DEBUG:qiskit.transpiler.passes.basis.basis_translator:Updating transform for mapped instr ('x', 1) x, [] from \n",
      "        ┌───┐\n",
      "q678_0: ┤ x ├\n",
      "        └───┘\n",
      "DEBUG:qiskit.transpiler.passes.basis.basis_translator:Updating transform for mapped instr ('x', 1) x, [] from \n",
      "        ┌───┐\n",
      "q678_0: ┤ x ├\n",
      "        └───┘\n",
      "DEBUG:qiskit.transpiler.passes.basis.basis_translator:Updated transform for mapped instr ('x', 1) x, [] to\n",
      "        ┌───────────┐\n",
      "q678_0: ┤ U3(π,0,π) ├\n",
      "        └───────────┘\n",
      "DEBUG:qiskit.transpiler.passes.basis.basis_translator:Updated transform for mapped instr ('x', 1) x, [] to\n",
      "        ┌───────────┐\n",
      "q678_0: ┤ U3(π,0,π) ├\n",
      "        └───────────┘\n",
      "DEBUG:qiskit.transpiler.passes.basis.basis_translator:Composing transform step: h/1 [] =>\n",
      "     ┌─────────┐\n",
      "q_0: ┤ U2(0,π) ├\n",
      "     └─────────┘\n",
      "DEBUG:qiskit.transpiler.passes.basis.basis_translator:Composing transform step: h/1 [] =>\n",
      "     ┌─────────┐\n",
      "q_0: ┤ U2(0,π) ├\n",
      "     └─────────┘\n",
      "DEBUG:qiskit.transpiler.passes.basis.basis_translator:Updating transform for mapped instr ('h', 1) h, [] from \n",
      "        ┌───┐\n",
      "q681_0: ┤ h ├\n",
      "        └───┘\n",
      "DEBUG:qiskit.transpiler.passes.basis.basis_translator:Updating transform for mapped instr ('h', 1) h, [] from \n",
      "        ┌───┐\n",
      "q681_0: ┤ h ├\n",
      "        └───┘\n",
      "DEBUG:qiskit.transpiler.passes.basis.basis_translator:Updated transform for mapped instr ('h', 1) h, [] to\n",
      "        ┌─────────┐\n",
      "q681_0: ┤ U2(0,π) ├\n",
      "        └─────────┘\n",
      "DEBUG:qiskit.transpiler.passes.basis.basis_translator:Updated transform for mapped instr ('h', 1) h, [] to\n",
      "        ┌─────────┐\n",
      "q681_0: ┤ U2(0,π) ├\n",
      "        └─────────┘\n",
      "INFO:qiskit.transpiler.passes.basis.basis_translator:Basis translation paths composed in 0.011s.\n",
      "INFO:qiskit.transpiler.passes.basis.basis_translator:Basis translation paths composed in 0.011s.\n",
      "INFO:qiskit.transpiler.passes.basis.basis_translator:Basis translation instructions replaced in 0.000s.\n",
      "INFO:qiskit.transpiler.passes.basis.basis_translator:Basis translation instructions replaced in 0.000s.\n",
      "INFO:qiskit.transpiler.runningpassmanager:Pass: BasisTranslator - 24.60861 (ms)\n",
      "INFO:qiskit.transpiler.runningpassmanager:Pass: BasisTranslator - 24.66559 (ms)\n",
      "INFO:qiskit.transpiler.runningpassmanager:Pass: CheckGateDirection - 0.15211 (ms)\n",
      "INFO:qiskit.transpiler.runningpassmanager:Pass: CheckGateDirection - 0.14663 (ms)\n",
      "INFO:qiskit.transpiler.runningpassmanager:Pass: GateDirection - 0.30518 (ms)\n",
      "INFO:qiskit.transpiler.runningpassmanager:Pass: GateDirection - 0.39530 (ms)\n",
      "INFO:qiskit.transpiler.runningpassmanager:Pass: RemoveResetInZeroState - 0.03767 (ms)\n",
      "INFO:qiskit.transpiler.runningpassmanager:Pass: RemoveResetInZeroState - 0.03648 (ms)\n",
      "INFO:qiskit.transpiler.runningpassmanager:Pass: Depth - 0.05317 (ms)\n",
      "INFO:qiskit.transpiler.runningpassmanager:Pass: Depth - 0.05102 (ms)\n",
      "INFO:qiskit.transpiler.runningpassmanager:Pass: FixedPoint - 0.04196 (ms)\n",
      "INFO:qiskit.transpiler.runningpassmanager:Pass: FixedPoint - 0.02575 (ms)\n",
      "INFO:qiskit.transpiler.runningpassmanager:Pass: Optimize1qGatesDecomposition - 2.98333 (ms)\n",
      "INFO:qiskit.transpiler.runningpassmanager:Pass: Optimize1qGatesDecomposition - 2.76661 (ms)\n",
      "INFO:qiskit.transpiler.runningpassmanager:Pass: CXCancellation - 0.04458 (ms)\n",
      "INFO:qiskit.transpiler.runningpassmanager:Pass: CXCancellation - 0.04601 (ms)\n",
      "INFO:qiskit.transpiler.runningpassmanager:Pass: UnrollCustomDefinitions - 0.07820 (ms)\n",
      "INFO:qiskit.transpiler.runningpassmanager:Pass: UnrollCustomDefinitions - 0.05984 (ms)\n",
      "INFO:qiskit.transpiler.passes.basis.basis_translator:Begin BasisTranslator from source basis {('h', 1), ('cx', 2), ('measure', 1), ('u2', 1)} to target basis {'reset', 'measure', 'delay', 'u2', 'u1', 'cx', 'barrier', 'snapshot', 'u3', 'id'}.\n",
      "DEBUG:qiskit.transpiler.passes.basis.basis_translator:Begining basis search from frozenset({('h', 1), ('cx', 2), ('measure', 1), ('u2', 1)}) to frozenset({'cx', 'barrier', 'reset', 'measure', 'id', 'snapshot', 'delay', 'u2', 'u1', 'u3'}).\n",
      "INFO:qiskit.transpiler.passes.basis.basis_translator:Begin BasisTranslator from source basis {('h', 1), ('cx', 2), ('measure', 1), ('u2', 1)} to target basis {'reset', 'measure', 'delay', 'u2', 'u1', 'cx', 'barrier', 'snapshot', 'u3', 'id'}.\n",
      "DEBUG:qiskit.transpiler.passes.basis.basis_translator:Inspecting basis frozenset({('h', 1), ('cx', 2), ('measure', 1), ('u2', 1)}).\n",
      "DEBUG:qiskit.transpiler.passes.basis.basis_translator:Begining basis search from frozenset({('h', 1), ('cx', 2), ('measure', 1), ('u2', 1)}) to frozenset({'cx', 'barrier', 'reset', 'measure', 'id', 'snapshot', 'delay', 'u2', 'u1', 'u3'}).\n",
      "DEBUG:qiskit.transpiler.passes.basis.basis_translator:Transformation path:\n",
      "DEBUG:qiskit.transpiler.passes.basis.basis_translator:Inspecting basis frozenset({('h', 1), ('cx', 2), ('measure', 1), ('u2', 1)}).\n",
      "DEBUG:qiskit.transpiler.passes.basis.basis_translator:h/1 => []\n",
      "     ┌─────────┐\n",
      "q_0: ┤ U2(0,π) ├\n",
      "     └─────────┘\n",
      "DEBUG:qiskit.transpiler.passes.basis.basis_translator:Transformation path:\n",
      "INFO:qiskit.transpiler.passes.basis.basis_translator:Basis translation path search completed in 0.005s.\n",
      "DEBUG:qiskit.transpiler.passes.basis.basis_translator:h/1 => []\n",
      "     ┌─────────┐\n",
      "q_0: ┤ U2(0,π) ├\n",
      "     └─────────┘\n",
      "INFO:qiskit.transpiler.passes.basis.basis_translator:Basis translation path search completed in 0.007s.\n",
      "DEBUG:qiskit.transpiler.passes.basis.basis_translator:Composing transform step: h/1 [] =>\n",
      "     ┌─────────┐\n",
      "q_0: ┤ U2(0,π) ├\n",
      "     └─────────┘\n",
      "DEBUG:qiskit.transpiler.passes.basis.basis_translator:Updating transform for mapped instr ('h', 1) h, [] from \n",
      "        ┌───┐\n",
      "q682_0: ┤ h ├\n",
      "        └───┘\n",
      "DEBUG:qiskit.transpiler.passes.basis.basis_translator:Composing transform step: h/1 [] =>\n",
      "     ┌─────────┐\n",
      "q_0: ┤ U2(0,π) ├\n",
      "     └─────────┘\n",
      "DEBUG:qiskit.transpiler.passes.basis.basis_translator:Updating transform for mapped instr ('h', 1) h, [] from \n",
      "        ┌───┐\n",
      "q682_0: ┤ h ├\n",
      "        └───┘\n",
      "DEBUG:qiskit.transpiler.passes.basis.basis_translator:Updated transform for mapped instr ('h', 1) h, [] to\n",
      "        ┌─────────┐\n",
      "q682_0: ┤ U2(0,π) ├\n",
      "        └─────────┘\n",
      "INFO:qiskit.transpiler.passes.basis.basis_translator:Basis translation paths composed in 0.007s.\n",
      "DEBUG:qiskit.transpiler.passes.basis.basis_translator:Updated transform for mapped instr ('h', 1) h, [] to\n",
      "        ┌─────────┐\n",
      "q682_0: ┤ U2(0,π) ├\n",
      "        └─────────┘\n",
      "INFO:qiskit.transpiler.passes.basis.basis_translator:Basis translation paths composed in 0.007s.\n",
      "INFO:qiskit.transpiler.passes.basis.basis_translator:Basis translation instructions replaced in 0.000s.\n",
      "INFO:qiskit.transpiler.passes.basis.basis_translator:Basis translation instructions replaced in 0.000s.\n",
      "INFO:qiskit.transpiler.runningpassmanager:Pass: BasisTranslator - 19.62042 (ms)\n",
      "INFO:qiskit.transpiler.runningpassmanager:Pass: Depth - 0.03433 (ms)\n",
      "INFO:qiskit.transpiler.runningpassmanager:Pass: BasisTranslator - 19.38891 (ms)\n",
      "INFO:qiskit.transpiler.runningpassmanager:Pass: FixedPoint - 0.02193 (ms)\n",
      "INFO:qiskit.transpiler.runningpassmanager:Pass: Depth - 0.04458 (ms)\n",
      "INFO:qiskit.transpiler.runningpassmanager:Pass: Optimize1qGatesDecomposition - 0.44751 (ms)\n",
      "INFO:qiskit.transpiler.runningpassmanager:Pass: FixedPoint - 0.01717 (ms)\n",
      "INFO:qiskit.transpiler.runningpassmanager:Pass: CXCancellation - 0.04864 (ms)\n",
      "INFO:qiskit.transpiler.runningpassmanager:Pass: UnrollCustomDefinitions - 0.07725 (ms)\n",
      "INFO:qiskit.transpiler.runningpassmanager:Pass: Optimize1qGatesDecomposition - 0.41842 (ms)\n",
      "INFO:qiskit.transpiler.runningpassmanager:Pass: CXCancellation - 0.07606 (ms)\n",
      "INFO:qiskit.transpiler.runningpassmanager:Pass: UnrollCustomDefinitions - 0.13280 (ms)\n",
      "INFO:qiskit.transpiler.passes.basis.basis_translator:Begin BasisTranslator from source basis {('cx', 2), ('measure', 1), ('u2', 1)} to target basis {'reset', 'measure', 'delay', 'u2', 'u1', 'cx', 'barrier', 'snapshot', 'u3', 'id'}.\n",
      "INFO:qiskit.transpiler.passes.basis.basis_translator:Begin BasisTranslator from source basis {('cx', 2), ('measure', 1), ('u2', 1)} to target basis {'reset', 'measure', 'delay', 'u2', 'u1', 'cx', 'barrier', 'snapshot', 'u3', 'id'}.\n",
      "DEBUG:qiskit.transpiler.passes.basis.basis_translator:Begining basis search from frozenset({('cx', 2), ('measure', 1), ('u2', 1)}) to frozenset({'cx', 'barrier', 'reset', 'measure', 'id', 'snapshot', 'delay', 'u2', 'u1', 'u3'}).\n"
     ]
    }
   ],
   "source": [
    "# Change log level back to DEBUG\n",
    "logging.getLogger('qiskit.transpiler').setLevel('DEBUG')\n",
    "# Transpile multiple circuits\n",
    "circuits = [log_circ, log_circ]\n",
    "transpile(circuits, backend);"
   ]
  },
  {
   "cell_type": "code",
   "execution_count": null,
   "id": "b2673bf8-9b8c-47f0-99b2-789494baf367",
   "metadata": {},
   "outputs": [],
   "source": [
    "formatter = logging.Formatter('%(name)s - %(processName)-10s - %(levelname)s: %(message)s')\n",
    "handler = logging.getLogger().handlers[0]\n",
    "handler.setFormatter(formatter)"
   ]
  },
  {
   "cell_type": "code",
   "execution_count": null,
   "id": "79182835-3ea2-43ef-9fa1-c10f9f995c95",
   "metadata": {},
   "outputs": [],
   "source": [
    "transpile(circuits, backend);"
   ]
  },
  {
   "cell_type": "code",
   "execution_count": 1,
   "id": "c60cc6fa-7e33-429f-b33c-8621c074b196",
   "metadata": {},
   "outputs": [
    {
     "name": "stderr",
     "output_type": "stream",
     "text": [
      "<ipython-input-1-893ac8a02083>:11: DeprecationWarning: The variable qiskit.aqua.aqua_globals is deprecated. It was moved/refactored to qiskit.utils.algorithm_globals (pip install qiskit-terra). For more information see <https://github.com/Qiskit/qiskit-aqua/blob/master/README.md#migration-guide>\n",
      "  aqua_globals.random_seed = seed\n"
     ]
    }
   ],
   "source": [
    "import matplotlib.pyplot as plt\n",
    "import numpy as np\n",
    "\n",
    "from qiskit import BasicAer\n",
    "from qiskit.circuit.library import ZZFeatureMap\n",
    "from qiskit.aqua import QuantumInstance, aqua_globals\n",
    "from qiskit.aqua.algorithms import QSVM\n",
    "from qiskit.aqua.utils import split_dataset_to_data_and_labels, map_label_to_class_name\n",
    "\n",
    "seed = 10599\n",
    "aqua_globals.random_seed = seed"
   ]
  },
  {
   "cell_type": "code",
   "execution_count": 2,
   "id": "3763bac6-e1af-48e9-b0af-6532945e4f83",
   "metadata": {},
   "outputs": [
    {
     "name": "stderr",
     "output_type": "stream",
     "text": [
      "/home/arun/DS/manoj_das/env2/lib/python3.8/site-packages/qiskit/ml/__init__.py:40: DeprecationWarning: The package qiskit.ml is deprecated. It was moved/refactored to qiskit_machine_learning (pip install qiskit-machine-learning). For more information see <https://github.com/Qiskit/qiskit-aqua/blob/master/README.md#migration-guide>\n",
      "  warn_package('ml', 'qiskit_machine_learning', 'qiskit-machine-learning')\n"
     ]
    },
    {
     "data": {
      "image/png": "[encoded data removed]",
      "text/plain": [
       "<Figure size 432x288 with 1 Axes>"
      ]
     },
     "metadata": {
      "needs_background": "light"
     },
     "output_type": "display_data"
    },
    {
     "name": "stdout",
     "output_type": "stream",
     "text": [
      "{'A': 0, 'B': 1}\n"
     ]
    }
   ],
   "source": [
    "from qiskit.ml.datasets import ad_hoc_data, sample_ad_hoc_data\n",
    "\n",
    "feature_dim = 2\n",
    "sample_total, training_input, test_input, class_labels = ad_hoc_data(\n",
    "    training_size=20,\n",
    "    test_size=10,\n",
    "    n=feature_dim,\n",
    "    gap=0.3,\n",
    "    plot_data=True\n",
    ")\n",
    "extra_test_data = sample_ad_hoc_data(sample_total, 10, n=feature_dim)\n",
    "datapoints, class_to_label = split_dataset_to_data_and_labels(extra_test_data)\n",
    "print(class_to_label)"
   ]
  },
  {
   "cell_type": "code",
   "execution_count": 3,
   "id": "ca95e802-1bfc-4e7c-b9dd-97499444ce57",
   "metadata": {},
   "outputs": [
    {
     "name": "stderr",
     "output_type": "stream",
     "text": [
      "/home/arun/DS/manoj_das/env2/lib/python3.8/site-packages/qiskit/aqua/algorithms/classifiers/qsvm/qsvm.py:102: DeprecationWarning: The package qiskit.aqua.algorithms.classifiers is deprecated. It was moved/refactored to qiskit_machine_learning.algorithms.classifiers (pip install qiskit-machine-learning). For more information see <https://github.com/Qiskit/qiskit-aqua/blob/master/README.md#migration-guide>\n",
      "  warn_package('aqua.algorithms.classifiers',\n",
      "/home/arun/DS/manoj_das/env2/lib/python3.8/site-packages/qiskit/aqua/quantum_instance.py:135: DeprecationWarning: The class qiskit.aqua.QuantumInstance is deprecated. It was moved/refactored to qiskit.utils.QuantumInstance (pip install qiskit-terra). For more information see <https://github.com/Qiskit/qiskit-aqua/blob/master/README.md#migration-guide>\n",
      "  warn_class('aqua.QuantumInstance',\n"
     ]
    },
    {
     "ename": "MissingOptionalLibraryError",
     "evalue": "\"The 'CVXPY' library is required to use 'optimize_svm'. You can install it with 'pip install 'qiskit-aqua[cvx]''.  No module named 'cvxpy'.\"",
     "output_type": "error",
     "traceback": [
      "\u001b[0;31m---------------------------------------------------------------------------\u001b[0m",
      "\u001b[0;31mModuleNotFoundError\u001b[0m                       Traceback (most recent call last)",
      "\u001b[0;32m~/DS/manoj_das/env2/lib/python3.8/site-packages/qiskit/aqua/utils/qp_solver.py\u001b[0m in \u001b[0;36moptimize_svm\u001b[0;34m(kernel_matrix, y, scaling, maxiter, show_progress, max_iters, lambda2)\u001b[0m\n\u001b[1;32m     55\u001b[0m     \u001b[0;32mtry\u001b[0m\u001b[0;34m:\u001b[0m\u001b[0;34m\u001b[0m\u001b[0;34m\u001b[0m\u001b[0m\n\u001b[0;32m---> 56\u001b[0;31m         \u001b[0;32mimport\u001b[0m \u001b[0mcvxpy\u001b[0m\u001b[0;34m\u001b[0m\u001b[0;34m\u001b[0m\u001b[0m\n\u001b[0m\u001b[1;32m     57\u001b[0m     \u001b[0;32mexcept\u001b[0m \u001b[0mImportError\u001b[0m \u001b[0;32mas\u001b[0m \u001b[0mex\u001b[0m\u001b[0;34m:\u001b[0m\u001b[0;34m\u001b[0m\u001b[0;34m\u001b[0m\u001b[0m\n",
      "\u001b[0;31mModuleNotFoundError\u001b[0m: No module named 'cvxpy'",
      "\nThe above exception was the direct cause of the following exception:\n",
      "\u001b[0;31mMissingOptionalLibraryError\u001b[0m               Traceback (most recent call last)",
      "\u001b[0;32m<ipython-input-3-3863988dcf61>\u001b[0m in \u001b[0;36m<module>\u001b[0;34m\u001b[0m\n\u001b[1;32m      5\u001b[0m \u001b[0mquantum_instance\u001b[0m \u001b[0;34m=\u001b[0m \u001b[0mQuantumInstance\u001b[0m\u001b[0;34m(\u001b[0m\u001b[0mbackend\u001b[0m\u001b[0;34m,\u001b[0m \u001b[0mshots\u001b[0m\u001b[0;34m=\u001b[0m\u001b[0;36m1024\u001b[0m\u001b[0;34m,\u001b[0m \u001b[0mseed_simulator\u001b[0m\u001b[0;34m=\u001b[0m\u001b[0mseed\u001b[0m\u001b[0;34m,\u001b[0m \u001b[0mseed_transpiler\u001b[0m\u001b[0;34m=\u001b[0m\u001b[0mseed\u001b[0m\u001b[0;34m)\u001b[0m\u001b[0;34m\u001b[0m\u001b[0;34m\u001b[0m\u001b[0m\n\u001b[1;32m      6\u001b[0m \u001b[0;34m\u001b[0m\u001b[0m\n\u001b[0;32m----> 7\u001b[0;31m \u001b[0mresult\u001b[0m \u001b[0;34m=\u001b[0m \u001b[0mqsvm\u001b[0m\u001b[0;34m.\u001b[0m\u001b[0mrun\u001b[0m\u001b[0;34m(\u001b[0m\u001b[0mquantum_instance\u001b[0m\u001b[0;34m)\u001b[0m\u001b[0;34m\u001b[0m\u001b[0;34m\u001b[0m\u001b[0m\n\u001b[0m\u001b[1;32m      8\u001b[0m \u001b[0;34m\u001b[0m\u001b[0m\n\u001b[1;32m      9\u001b[0m \u001b[0mprint\u001b[0m\u001b[0;34m(\u001b[0m\u001b[0;34mf'Testing success ratio: {result[\"testing_accuracy\"]}'\u001b[0m\u001b[0;34m)\u001b[0m\u001b[0;34m\u001b[0m\u001b[0;34m\u001b[0m\u001b[0m\n",
      "\u001b[0;32m~/DS/manoj_das/env2/lib/python3.8/site-packages/qiskit/aqua/algorithms/quantum_algorithm.py\u001b[0m in \u001b[0;36mrun\u001b[0;34m(self, quantum_instance, **kwargs)\u001b[0m\n\u001b[1;32m     69\u001b[0m                 \u001b[0mself\u001b[0m\u001b[0;34m.\u001b[0m\u001b[0mquantum_instance\u001b[0m \u001b[0;34m=\u001b[0m \u001b[0mquantum_instance\u001b[0m\u001b[0;34m\u001b[0m\u001b[0;34m\u001b[0m\u001b[0m\n\u001b[1;32m     70\u001b[0m \u001b[0;34m\u001b[0m\u001b[0m\n\u001b[0;32m---> 71\u001b[0;31m         \u001b[0;32mreturn\u001b[0m \u001b[0mself\u001b[0m\u001b[0;34m.\u001b[0m\u001b[0m_run\u001b[0m\u001b[0;34m(\u001b[0m\u001b[0;34m)\u001b[0m\u001b[0;34m\u001b[0m\u001b[0;34m\u001b[0m\u001b[0m\n\u001b[0m\u001b[1;32m     72\u001b[0m \u001b[0;34m\u001b[0m\u001b[0m\n\u001b[1;32m     73\u001b[0m     \u001b[0;34m@\u001b[0m\u001b[0mabstractmethod\u001b[0m\u001b[0;34m\u001b[0m\u001b[0;34m\u001b[0m\u001b[0m\n",
      "\u001b[0;32m~/DS/manoj_das/env2/lib/python3.8/site-packages/qiskit/aqua/algorithms/classifiers/qsvm/qsvm.py\u001b[0m in \u001b[0;36m_run\u001b[0;34m(self)\u001b[0m\n\u001b[1;32m    474\u001b[0m \u001b[0;34m\u001b[0m\u001b[0m\n\u001b[1;32m    475\u001b[0m     \u001b[0;32mdef\u001b[0m \u001b[0m_run\u001b[0m\u001b[0;34m(\u001b[0m\u001b[0mself\u001b[0m\u001b[0;34m)\u001b[0m\u001b[0;34m:\u001b[0m\u001b[0;34m\u001b[0m\u001b[0;34m\u001b[0m\u001b[0m\n\u001b[0;32m--> 476\u001b[0;31m         \u001b[0;32mreturn\u001b[0m \u001b[0mself\u001b[0m\u001b[0;34m.\u001b[0m\u001b[0minstance\u001b[0m\u001b[0;34m.\u001b[0m\u001b[0mrun\u001b[0m\u001b[0;34m(\u001b[0m\u001b[0;34m)\u001b[0m\u001b[0;34m\u001b[0m\u001b[0;34m\u001b[0m\u001b[0m\n\u001b[0m\u001b[1;32m    477\u001b[0m \u001b[0;34m\u001b[0m\u001b[0m\n\u001b[1;32m    478\u001b[0m     \u001b[0;34m@\u001b[0m\u001b[0mproperty\u001b[0m\u001b[0;34m\u001b[0m\u001b[0;34m\u001b[0m\u001b[0m\n",
      "\u001b[0;32m~/DS/manoj_das/env2/lib/python3.8/site-packages/qiskit/aqua/algorithms/classifiers/qsvm/_qsvm_binary.py\u001b[0m in \u001b[0;36mrun\u001b[0;34m(self)\u001b[0m\n\u001b[1;32m    133\u001b[0m     \u001b[0;32mdef\u001b[0m \u001b[0mrun\u001b[0m\u001b[0;34m(\u001b[0m\u001b[0mself\u001b[0m\u001b[0;34m)\u001b[0m\u001b[0;34m:\u001b[0m\u001b[0;34m\u001b[0m\u001b[0;34m\u001b[0m\u001b[0m\n\u001b[1;32m    134\u001b[0m         \u001b[0;34m\"\"\"Put the train, test, predict together.\"\"\"\u001b[0m\u001b[0;34m\u001b[0m\u001b[0;34m\u001b[0m\u001b[0m\n\u001b[0;32m--> 135\u001b[0;31m         \u001b[0mself\u001b[0m\u001b[0;34m.\u001b[0m\u001b[0mtrain\u001b[0m\u001b[0;34m(\u001b[0m\u001b[0mself\u001b[0m\u001b[0;34m.\u001b[0m\u001b[0m_qalgo\u001b[0m\u001b[0;34m.\u001b[0m\u001b[0mtraining_dataset\u001b[0m\u001b[0;34m[\u001b[0m\u001b[0;36m0\u001b[0m\u001b[0;34m]\u001b[0m\u001b[0;34m,\u001b[0m \u001b[0mself\u001b[0m\u001b[0;34m.\u001b[0m\u001b[0m_qalgo\u001b[0m\u001b[0;34m.\u001b[0m\u001b[0mtraining_dataset\u001b[0m\u001b[0;34m[\u001b[0m\u001b[0;36m1\u001b[0m\u001b[0;34m]\u001b[0m\u001b[0;34m)\u001b[0m\u001b[0;34m\u001b[0m\u001b[0;34m\u001b[0m\u001b[0m\n\u001b[0m\u001b[1;32m    136\u001b[0m         \u001b[0;32mif\u001b[0m \u001b[0mself\u001b[0m\u001b[0;34m.\u001b[0m\u001b[0m_qalgo\u001b[0m\u001b[0;34m.\u001b[0m\u001b[0mtest_dataset\u001b[0m \u001b[0;32mis\u001b[0m \u001b[0;32mnot\u001b[0m \u001b[0;32mNone\u001b[0m\u001b[0;34m:\u001b[0m\u001b[0;34m\u001b[0m\u001b[0;34m\u001b[0m\u001b[0m\n\u001b[1;32m    137\u001b[0m             \u001b[0mself\u001b[0m\u001b[0;34m.\u001b[0m\u001b[0mtest\u001b[0m\u001b[0;34m(\u001b[0m\u001b[0mself\u001b[0m\u001b[0;34m.\u001b[0m\u001b[0m_qalgo\u001b[0m\u001b[0;34m.\u001b[0m\u001b[0mtest_dataset\u001b[0m\u001b[0;34m[\u001b[0m\u001b[0;36m0\u001b[0m\u001b[0;34m]\u001b[0m\u001b[0;34m,\u001b[0m \u001b[0mself\u001b[0m\u001b[0;34m.\u001b[0m\u001b[0m_qalgo\u001b[0m\u001b[0;34m.\u001b[0m\u001b[0mtest_dataset\u001b[0m\u001b[0;34m[\u001b[0m\u001b[0;36m1\u001b[0m\u001b[0;34m]\u001b[0m\u001b[0;34m)\u001b[0m\u001b[0;34m\u001b[0m\u001b[0;34m\u001b[0m\u001b[0m\n",
      "\u001b[0;32m~/DS/manoj_das/env2/lib/python3.8/site-packages/qiskit/aqua/algorithms/classifiers/qsvm/_qsvm_binary.py\u001b[0m in \u001b[0;36mtrain\u001b[0;34m(self, data, labels)\u001b[0m\n\u001b[1;32m     80\u001b[0m         \u001b[0mlabels\u001b[0m \u001b[0;34m=\u001b[0m \u001b[0mlabels\u001b[0m \u001b[0;34m*\u001b[0m \u001b[0;36m2\u001b[0m \u001b[0;34m-\u001b[0m \u001b[0;36m1\u001b[0m  \u001b[0;31m# map label from 0 --> -1 and 1 --> 1\u001b[0m\u001b[0;34m\u001b[0m\u001b[0;34m\u001b[0m\u001b[0m\n\u001b[1;32m     81\u001b[0m         \u001b[0mlabels\u001b[0m \u001b[0;34m=\u001b[0m \u001b[0mlabels\u001b[0m\u001b[0;34m.\u001b[0m\u001b[0mastype\u001b[0m\u001b[0;34m(\u001b[0m\u001b[0mfloat\u001b[0m\u001b[0;34m)\u001b[0m\u001b[0;34m\u001b[0m\u001b[0;34m\u001b[0m\u001b[0m\n\u001b[0;32m---> 82\u001b[0;31m         \u001b[0;34m[\u001b[0m\u001b[0malpha\u001b[0m\u001b[0;34m,\u001b[0m \u001b[0mb\u001b[0m\u001b[0;34m,\u001b[0m \u001b[0msupport\u001b[0m\u001b[0;34m]\u001b[0m \u001b[0;34m=\u001b[0m \u001b[0moptimize_svm\u001b[0m\u001b[0;34m(\u001b[0m\u001b[0mkernel_matrix\u001b[0m\u001b[0;34m,\u001b[0m \u001b[0mlabels\u001b[0m\u001b[0;34m,\u001b[0m \u001b[0mscaling\u001b[0m\u001b[0;34m=\u001b[0m\u001b[0mscaling\u001b[0m\u001b[0;34m,\u001b[0m \u001b[0mlambda2\u001b[0m\u001b[0;34m=\u001b[0m\u001b[0mlambda2\u001b[0m\u001b[0;34m)\u001b[0m\u001b[0;34m\u001b[0m\u001b[0;34m\u001b[0m\u001b[0m\n\u001b[0m\u001b[1;32m     83\u001b[0m         \u001b[0msupport_index\u001b[0m \u001b[0;34m=\u001b[0m \u001b[0mnp\u001b[0m\u001b[0;34m.\u001b[0m\u001b[0mwhere\u001b[0m\u001b[0;34m(\u001b[0m\u001b[0msupport\u001b[0m\u001b[0;34m)\u001b[0m\u001b[0;34m\u001b[0m\u001b[0;34m\u001b[0m\u001b[0m\n\u001b[1;32m     84\u001b[0m         \u001b[0malphas\u001b[0m \u001b[0;34m=\u001b[0m \u001b[0malpha\u001b[0m\u001b[0;34m[\u001b[0m\u001b[0msupport_index\u001b[0m\u001b[0;34m]\u001b[0m\u001b[0;34m\u001b[0m\u001b[0;34m\u001b[0m\u001b[0m\n",
      "\u001b[0;32m~/DS/manoj_das/env2/lib/python3.8/site-packages/qiskit/aqua/utils/qp_solver.py\u001b[0m in \u001b[0;36moptimize_svm\u001b[0;34m(kernel_matrix, y, scaling, maxiter, show_progress, max_iters, lambda2)\u001b[0m\n\u001b[1;32m     56\u001b[0m         \u001b[0;32mimport\u001b[0m \u001b[0mcvxpy\u001b[0m\u001b[0;34m\u001b[0m\u001b[0;34m\u001b[0m\u001b[0m\n\u001b[1;32m     57\u001b[0m     \u001b[0;32mexcept\u001b[0m \u001b[0mImportError\u001b[0m \u001b[0;32mas\u001b[0m \u001b[0mex\u001b[0m\u001b[0;34m:\u001b[0m\u001b[0;34m\u001b[0m\u001b[0;34m\u001b[0m\u001b[0m\n\u001b[0;32m---> 58\u001b[0;31m         raise MissingOptionalLibraryError(\n\u001b[0m\u001b[1;32m     59\u001b[0m             \u001b[0mlibname\u001b[0m\u001b[0;34m=\u001b[0m\u001b[0;34m'CVXPY'\u001b[0m\u001b[0;34m,\u001b[0m\u001b[0;34m\u001b[0m\u001b[0;34m\u001b[0m\u001b[0m\n\u001b[1;32m     60\u001b[0m             \u001b[0mname\u001b[0m\u001b[0;34m=\u001b[0m\u001b[0;34m'optimize_svm'\u001b[0m\u001b[0;34m,\u001b[0m\u001b[0;34m\u001b[0m\u001b[0;34m\u001b[0m\u001b[0m\n",
      "\u001b[0;31mMissingOptionalLibraryError\u001b[0m: \"The 'CVXPY' library is required to use 'optimize_svm'. You can install it with 'pip install 'qiskit-aqua[cvx]''.  No module named 'cvxpy'.\""
     ]
    }
   ],
   "source": [
    "feature_map = ZZFeatureMap(feature_dimension=feature_dim, reps=2, entanglement='linear')\n",
    "qsvm = QSVM(feature_map, training_input, test_input, datapoints[0])\n",
    "\n",
    "backend = BasicAer.get_backend('qasm_simulator')\n",
    "quantum_instance = QuantumInstance(backend, shots=1024, seed_simulator=seed, seed_transpiler=seed)\n",
    "\n",
    "result = qsvm.run(quantum_instance)\n",
    "\n",
    "print(f'Testing success ratio: {result[\"testing_accuracy\"]}')\n",
    "print()\n",
    "print('Prediction from datapoints set:')\n",
    "print(f'  ground truth: {map_label_to_class_name(datapoints[1], qsvm.label_to_class)}')\n",
    "print(f'  prediction:   {result[\"predicted_classes\"]}')\n",
    "predicted_labels = result[\"predicted_labels\"]\n",
    "print(f'  success rate: {100*np.count_nonzero(predicted_labels == datapoints[1])/len(predicted_labels)}%')"
   ]
  },
  {
   "cell_type": "code",
   "execution_count": 8,
   "id": "2b4b3d0b-31f3-4ee5-9b3a-5002ff955972",
   "metadata": {},
   "outputs": [
    {
     "ename": "NameError",
     "evalue": "name 'result' is not defined",
     "output_type": "error",
     "traceback": [
      "\u001b[0;31m---------------------------------------------------------------------------\u001b[0m",
      "\u001b[0;31mNameError\u001b[0m                                 Traceback (most recent call last)",
      "\u001b[0;32m<ipython-input-8-e4e32ad9d59b>\u001b[0m in \u001b[0;36m<module>\u001b[0;34m\u001b[0m\n\u001b[0;32m----> 1\u001b[0;31m \u001b[0mkernel_matrix\u001b[0m \u001b[0;34m=\u001b[0m \u001b[0mresult\u001b[0m\u001b[0;34m[\u001b[0m\u001b[0;34m'kernel_matrix_training'\u001b[0m\u001b[0;34m]\u001b[0m\u001b[0;34m\u001b[0m\u001b[0;34m\u001b[0m\u001b[0m\n\u001b[0m\u001b[1;32m      2\u001b[0m \u001b[0mplt\u001b[0m\u001b[0;34m.\u001b[0m\u001b[0mimshow\u001b[0m\u001b[0;34m(\u001b[0m\u001b[0mnp\u001b[0m\u001b[0;34m.\u001b[0m\u001b[0masmatrix\u001b[0m\u001b[0;34m(\u001b[0m\u001b[0mkernel_matrix\u001b[0m\u001b[0;34m)\u001b[0m\u001b[0;34m,\u001b[0m\u001b[0minterpolation\u001b[0m\u001b[0;34m=\u001b[0m\u001b[0;34m'nearest'\u001b[0m\u001b[0;34m,\u001b[0m\u001b[0morigin\u001b[0m\u001b[0;34m=\u001b[0m\u001b[0;34m'upper'\u001b[0m\u001b[0;34m,\u001b[0m\u001b[0mcmap\u001b[0m\u001b[0;34m=\u001b[0m\u001b[0;34m'bone_r'\u001b[0m\u001b[0;34m)\u001b[0m\u001b[0;34m;\u001b[0m\u001b[0;34m\u001b[0m\u001b[0;34m\u001b[0m\u001b[0m\n",
      "\u001b[0;31mNameError\u001b[0m: name 'result' is not defined"
     ]
    }
   ],
   "source": [
    "kernel_matrix = result['kernel_matrix_training']\n",
    "plt.imshow(np.asmatrix(kernel_matrix),interpolation='nearest',origin='upper',cmap='bone_r');"
   ]
  },
  {
   "cell_type": "code",
   "execution_count": 7,
   "id": "1d4d9bc9-f6e0-4ec3-8519-232623bc6ec9",
   "metadata": {},
   "outputs": [
    {
     "name": "stdout",
     "output_type": "stream",
     "text": [
      "Requirement already satisfied: qiskit-aqua[cvx] in ./env2/lib/python3.8/site-packages (0.9.1)\n",
      "Requirement already satisfied: qiskit-ignis<0.7.0,>=0.6.0 in ./env2/lib/python3.8/site-packages (from qiskit-aqua[cvx]) (0.6.0)\n",
      "Requirement already satisfied: pandas<=1.2.3 in ./env2/lib/python3.8/site-packages (from qiskit-aqua[cvx]) (1.2.3)\n",
      "Requirement already satisfied: docplex<=2.20.204 in ./env2/lib/python3.8/site-packages (from qiskit-aqua[cvx]) (2.20.204)\n",
      "Requirement already satisfied: numpy<=1.20.1,>=1.17 in ./env2/lib/python3.8/site-packages (from qiskit-aqua[cvx]) (1.18.5)\n",
      "Requirement already satisfied: scikit-learn<=0.24.1,>=0.20.0 in ./env2/lib/python3.8/site-packages (from qiskit-aqua[cvx]) (0.24.1)\n",
      "Requirement already satisfied: dlx<=1.0.4 in ./env2/lib/python3.8/site-packages (from qiskit-aqua[cvx]) (1.0.4)\n",
      "Requirement already satisfied: yfinance<=0.1.55 in ./env2/lib/python3.8/site-packages (from qiskit-aqua[cvx]) (0.1.55)\n",
      "Requirement already satisfied: scipy<=1.6.1,>=1.4 in ./env2/lib/python3.8/site-packages (from qiskit-aqua[cvx]) (1.6.1)\n",
      "Requirement already satisfied: psutil<=5.8.0,>=5 in ./env2/lib/python3.8/site-packages (from qiskit-aqua[cvx]) (5.8.0)\n",
      "Requirement already satisfied: setuptools>=40.1.0 in ./env2/lib/python3.8/site-packages (from qiskit-aqua[cvx]) (44.0.0)\n",
      "Requirement already satisfied: fastdtw<=0.3.4 in ./env2/lib/python3.8/site-packages (from qiskit-aqua[cvx]) (0.3.4)\n",
      "Requirement already satisfied: quandl<=3.6.0 in ./env2/lib/python3.8/site-packages (from qiskit-aqua[cvx]) (3.6.0)\n",
      "Requirement already satisfied: h5py<=3.1.0 in ./env2/lib/python3.8/site-packages (from qiskit-aqua[cvx]) (2.10.0)\n",
      "Requirement already satisfied: sympy<=1.7.1,>=1.3 in ./env2/lib/python3.8/site-packages (from qiskit-aqua[cvx]) (1.5)\n",
      "Requirement already satisfied: qiskit-terra<0.18.0,>=0.17.0 in ./env2/lib/python3.8/site-packages (from qiskit-aqua[cvx]) (0.17.1)\n",
      "Requirement already satisfied: retworkx<=0.8.0,>=0.7.0 in ./env2/lib/python3.8/site-packages (from qiskit-aqua[cvx]) (0.8.0)\n",
      "Collecting cvxpy!=1.1.0,!=1.1.1,!=1.1.2,!=1.1.8,<=1.1.11,>1.0.0\n",
      "  Downloading cvxpy-1.1.11.tar.gz (1.3 MB)\n",
      "\u001b[K     |████████████████████████████████| 1.3 MB 158 kB/s ta 0:00:013\n",
      "\u001b[?25h  Installing build dependencies ... \u001b[?25ldone\n",
      "\u001b[?25h  Getting requirements to build wheel ... \u001b[?25ldone\n",
      "\u001b[?25h    Preparing wheel metadata ... \u001b[?25ldone\n",
      "\u001b[?25hCollecting osqp>=0.4.1\n",
      "  Downloading osqp-0.6.2.post0-cp38-cp38-manylinux2014_x86_64.whl (215 kB)\n",
      "\u001b[K     |████████████████████████████████| 215 kB 67 bytes/s  0:00:01\n",
      "\u001b[?25hCollecting scs>=1.1.6\n",
      "  Downloading scs-2.1.3.tar.gz (147 kB)\n",
      "\u001b[K     |████████████████████████████████| 147 kB 38 kB/s eta 0:00:01\n",
      "\u001b[?25hCollecting ecos>=2\n",
      "  Downloading ecos-2.0.7.post1.tar.gz (126 kB)\n",
      "\u001b[K     |████████████████████████████████| 126 kB 40 kB/s eta 0:00:01\n",
      "\u001b[?25hRequirement already satisfied: six in ./env2/lib/python3.8/site-packages (from docplex<=2.20.204->qiskit-aqua[cvx]) (1.14.0)\n",
      "Requirement already satisfied: requests in ./env2/lib/python3.8/site-packages (from docplex<=2.20.204->qiskit-aqua[cvx]) (2.22.0)\n",
      "Collecting qdldl\n",
      "  Downloading qdldl-0.1.5.post0-cp38-cp38-manylinux2014_x86_64.whl (921 kB)\n",
      "\u001b[K     |████████████████████████████████| 921 kB 86 kB/s eta 0:00:01\n",
      "\u001b[?25hRequirement already satisfied: python-dateutil>=2.7.3 in ./env2/lib/python3.8/site-packages (from pandas<=1.2.3->qiskit-aqua[cvx]) (2.8.1)\n",
      "Requirement already satisfied: pytz>=2017.3 in ./env2/lib/python3.8/site-packages (from pandas<=1.2.3->qiskit-aqua[cvx]) (2021.1)\n",
      "Requirement already satisfied: python-constraint>=1.4 in ./env2/lib/python3.8/site-packages (from qiskit-terra<0.18.0,>=0.17.0->qiskit-aqua[cvx]) (1.4.0)\n",
      "Requirement already satisfied: fastjsonschema>=2.10 in ./env2/lib/python3.8/site-packages (from qiskit-terra<0.18.0,>=0.17.0->qiskit-aqua[cvx]) (2.15.0)\n",
      "Requirement already satisfied: dill>=0.3 in ./env2/lib/python3.8/site-packages (from qiskit-terra<0.18.0,>=0.17.0->qiskit-aqua[cvx]) (0.3.3)\n",
      "Requirement already satisfied: ply>=3.10 in ./env2/lib/python3.8/site-packages (from qiskit-terra<0.18.0,>=0.17.0->qiskit-aqua[cvx]) (3.11)\n",
      "Requirement already satisfied: jsonschema>=2.6 in ./env2/lib/python3.8/site-packages (from qiskit-terra<0.18.0,>=0.17.0->qiskit-aqua[cvx]) (3.2.0)\n",
      "Requirement already satisfied: attrs>=17.4.0 in ./env2/lib/python3.8/site-packages (from jsonschema>=2.6->qiskit-terra<0.18.0,>=0.17.0->qiskit-aqua[cvx]) (20.3.0)\n",
      "Requirement already satisfied: pyrsistent>=0.14.0 in ./env2/lib/python3.8/site-packages (from jsonschema>=2.6->qiskit-terra<0.18.0,>=0.17.0->qiskit-aqua[cvx]) (0.17.3)\n",
      "Requirement already satisfied: inflection>=0.3.1 in ./env2/lib/python3.8/site-packages (from quandl<=3.6.0->qiskit-aqua[cvx]) (0.5.1)\n",
      "Requirement already satisfied: more-itertools in ./env2/lib/python3.8/site-packages (from quandl<=3.6.0->qiskit-aqua[cvx]) (8.7.0)\n",
      "Requirement already satisfied: threadpoolctl>=2.0.0 in ./env2/lib/python3.8/site-packages (from scikit-learn<=0.24.1,>=0.20.0->qiskit-aqua[cvx]) (2.1.0)\n",
      "Requirement already satisfied: joblib>=0.11 in ./env2/lib/python3.8/site-packages (from scikit-learn<=0.24.1,>=0.20.0->qiskit-aqua[cvx]) (1.0.1)\n",
      "Requirement already satisfied: mpmath>=0.19 in ./env2/lib/python3.8/site-packages (from sympy<=1.7.1,>=1.3->qiskit-aqua[cvx]) (1.2.1)\n",
      "Requirement already satisfied: multitasking>=0.0.7 in ./env2/lib/python3.8/site-packages (from yfinance<=0.1.55->qiskit-aqua[cvx]) (0.0.9)\n",
      "Requirement already satisfied: lxml>=4.5.1 in ./env2/lib/python3.8/site-packages (from yfinance<=0.1.55->qiskit-aqua[cvx]) (4.6.3)\n",
      "Building wheels for collected packages: cvxpy, ecos, scs\n",
      "  Building wheel for cvxpy (PEP 517) ... \u001b[?25ldone\n",
      "\u001b[?25h  Created wheel for cvxpy: filename=cvxpy-1.1.11-cp38-cp38-linux_x86_64.whl size=3717190 sha256=70af3932060d2dc852c70727cb991d07d510fc756823a3d22325a940bb9e92a2\n",
      "  Stored in directory: /home/arun/.cache/pip/wheels/e1/d7/30/db8c502deecf7c26f95e23e233a9987394b8744d8b3aafe6cf\n",
      "  Building wheel for ecos (setup.py) ... \u001b[?25ldone\n",
      "\u001b[?25h  Created wheel for ecos: filename=ecos-2.0.7.post1-cp38-cp38-linux_x86_64.whl size=217273 sha256=b8ccd4209bb978ac1fa628c085ed80ed23120a8aee170d7bd9bad35fc9189dd2\n",
      "  Stored in directory: /home/arun/.cache/pip/wheels/c3/c1/ce/b551b0b3a40c990e1da2ec9aecff62f7c2d43cab8766368e82\n",
      "  Building wheel for scs (setup.py) ... \u001b[?25ldone\n",
      "\u001b[?25h  Created wheel for scs: filename=scs-2.1.3-cp38-cp38-linux_x86_64.whl size=567403 sha256=b23f2e3ca7873ce9cb27a645e628a47893431f5d72bcbeb5ff44244f67ffecb8\n",
      "  Stored in directory: /home/arun/.cache/pip/wheels/e2/f4/e2/f46f2e79cc4536a1ace2fe1564291f12be7da3587d6ae08eca\n",
      "Successfully built cvxpy ecos scs\n",
      "Installing collected packages: qdldl, scs, osqp, ecos, cvxpy\n",
      "Successfully installed cvxpy-1.1.11 ecos-2.0.7.post1 osqp-0.6.2.post0 qdldl-0.1.5.post0 scs-2.1.3\n"
     ]
    }
   ],
   "source": [
    "!pip install qiskit-aqua[cvx]"
   ]
  },
  {
   "cell_type": "code",
   "execution_count": null,
   "id": "73cae97d-6666-4184-9b0a-5aba896c0adc",
   "metadata": {},
   "outputs": [],
   "source": []
  }
 ],
 "metadata": {
  "kernelspec": {
   "display_name": "Python 3",
   "language": "python",
   "name": "python3"
  },
  "language_info": {
   "codemirror_mode": {
    "name": "ipython",
    "version": 3
   },
   "file_extension": ".py",
   "mimetype": "text/x-python",
   "name": "python",
   "nbconvert_exporter": "python",
   "pygments_lexer": "ipython3",
   "version": "3.8.5"
  }
 },
 "nbformat": 4,
 "nbformat_minor": 5
}
